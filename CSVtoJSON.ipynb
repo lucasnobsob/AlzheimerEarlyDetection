{
 "cells": [
  {
   "cell_type": "code",
   "execution_count": 3,
   "id": "08ba7045",
   "metadata": {},
   "outputs": [
    {
     "name": "stdout",
     "output_type": "stream",
     "text": [
      "Arquivo JSON salvo com sucesso em: D:\\Projetos\\TrabalhoFinalDataScience\\AlzheimerEarlyDetection\\dados_filtrados.json\n"
     ]
    }
   ],
   "source": [
    "import csv\n",
    "import json\n",
    "\n",
    "# Caminho do arquivo CSV\n",
    "caminho_csv = 'D:\\\\Projetos\\\\TrabalhoFinalDataScience\\\\AlzheimerEarlyDetection\\\\alzheimers_disease_data.csv'\n",
    "caminho_json = 'D:\\\\Projetos\\\\TrabalhoFinalDataScience\\\\AlzheimerEarlyDetection\\\\dados_filtrados.json'\n",
    "\n",
    "# Colunas que você deseja manter\n",
    "colunas_desejadas = ['PatientID','Age','Gender','Ethnicity','EducationLevel','BMI','Smoking','AlcoholConsumption',\n",
    "                     'PhysicalActivity','DietQuality','SleepQuality','FamilyHistoryAlzheimers','CardiovascularDisease',\n",
    "                     'Diabetes','Depression','HeadInjury','Hypertension','SystolicBP','DiastolicBP','CholesterolTotal','CholesterolLDL',\n",
    "                     'CholesterolHDL','CholesterolTriglycerides','FunctionalAssessment','MemoryComplaints','BehavioralProblems','ADL','Confusion',\n",
    "                     'Disorientation','PersonalityChanges','DifficultyCompletingTasks','Forgetfulness']\n",
    "\n",
    "# Lista para armazenar os dados\n",
    "dados_json = []\n",
    "\n",
    "# Leitura do CSV e filtro das colunas\n",
    "with open(caminho_csv, mode='r', encoding='utf-8') as arquivo:\n",
    "    leitor = csv.DictReader(arquivo)\n",
    "    for linha in leitor:\n",
    "        item_filtrado = {coluna: linha[coluna] for coluna in colunas_desejadas if coluna in linha}\n",
    "        dados_json.append(item_filtrado)\n",
    "\n",
    "# Salvando os dados no arquivo JSON\n",
    "with open(caminho_json, mode='w', encoding='utf-8') as arquivo_json:\n",
    "    json.dump(dados_json, arquivo_json, indent=4, ensure_ascii=False)\n",
    "\n",
    "print(f\"Arquivo JSON salvo com sucesso em: {caminho_json}\")\n"
   ]
  }
 ],
 "metadata": {
  "kernelspec": {
   "display_name": "Python 3",
   "language": "python",
   "name": "python3"
  },
  "language_info": {
   "codemirror_mode": {
    "name": "ipython",
    "version": 3
   },
   "file_extension": ".py",
   "mimetype": "text/x-python",
   "name": "python",
   "nbconvert_exporter": "python",
   "pygments_lexer": "ipython3",
   "version": "3.10.6"
  }
 },
 "nbformat": 4,
 "nbformat_minor": 5
}
