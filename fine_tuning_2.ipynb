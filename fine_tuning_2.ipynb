{
 "cells": [
  {
   "cell_type": "code",
   "execution_count": 2,
   "id": "3adbe02d",
   "metadata": {},
   "outputs": [
    {
     "name": "stderr",
     "output_type": "stream",
     "text": [
      "C:\\Users\\Lucas\\AppData\\Local\\Temp\\ipykernel_16144\\3904533109.py:55: FutureWarning: You are using `torch.load` with `weights_only=False` (the current default value), which uses the default pickle module implicitly. It is possible to construct malicious pickle data which will execute arbitrary code during unpickling (See https://github.com/pytorch/pytorch/blob/main/SECURITY.md#untrusted-models for more details). In a future release, the default value for `weights_only` will be flipped to `True`. This limits the functions that could be executed during unpickling. Arbitrary objects will no longer be allowed to be loaded via this mode unless they are explicitly allowlisted by the user via `torch.serialization.add_safe_globals`. We recommend you start setting `weights_only=True` for any use case where you don't have full control of the loaded file. Please open an issue on GitHub for any issues related to this experimental feature.\n",
      "  model.load_state_dict(torch.load('models/best_model_resolution_invariant.pth'))\n"
     ]
    },
    {
     "name": "stdout",
     "output_type": "stream",
     "text": [
      "cuda\n",
      "Mapeamento de Classes:\n",
      "0: Mild Dementia\n",
      "1: Moderate Dementia\n",
      "2: Non Demented\n",
      "3: Very mild Dementia\n"
     ]
    },
    {
     "name": "stderr",
     "output_type": "stream",
     "text": [
      "Época 1/100 [Treino]: 100%|██████████| 60/60 [00:10<00:00,  5.94it/s, acc=26.6, loss=63.3]\n"
     ]
    },
    {
     "name": "stdout",
     "output_type": "stream",
     "text": [
      "Época [1/100], Perda Treino: 79.4823, Acurácia Treino: 26.61%\n"
     ]
    },
    {
     "name": "stderr",
     "output_type": "stream",
     "text": [
      "Época 2/100 [Treino]: 100%|██████████| 60/60 [00:10<00:00,  5.96it/s, acc=26.9, loss=52.6]\n"
     ]
    },
    {
     "name": "stdout",
     "output_type": "stream",
     "text": [
      "Época [2/100], Perda Treino: 67.7677, Acurácia Treino: 26.88%\n"
     ]
    },
    {
     "name": "stderr",
     "output_type": "stream",
     "text": [
      "Época 3/100 [Treino]: 100%|██████████| 60/60 [00:10<00:00,  5.87it/s, acc=26.2, loss=40.7]\n"
     ]
    },
    {
     "name": "stdout",
     "output_type": "stream",
     "text": [
      "Época [3/100], Perda Treino: 55.4815, Acurácia Treino: 26.25%\n"
     ]
    },
    {
     "name": "stderr",
     "output_type": "stream",
     "text": [
      "Época 4/100 [Treino]: 100%|██████████| 60/60 [00:10<00:00,  5.56it/s, acc=26, loss=34.9]  \n"
     ]
    },
    {
     "name": "stdout",
     "output_type": "stream",
     "text": [
      "Época [4/100], Perda Treino: 46.0431, Acurácia Treino: 26.04%\n"
     ]
    },
    {
     "name": "stderr",
     "output_type": "stream",
     "text": [
      "Época 5/100 [Treino]: 100%|██████████| 60/60 [00:09<00:00,  6.05it/s, acc=26.7, loss=23.5]\n"
     ]
    },
    {
     "name": "stdout",
     "output_type": "stream",
     "text": [
      "Época [5/100], Perda Treino: 38.4324, Acurácia Treino: 26.72%\n"
     ]
    },
    {
     "name": "stderr",
     "output_type": "stream",
     "text": [
      "Época 6/100 [Treino]: 100%|██████████| 60/60 [00:10<00:00,  5.86it/s, acc=26.9, loss=43]  \n"
     ]
    },
    {
     "name": "stdout",
     "output_type": "stream",
     "text": [
      "Época [6/100], Perda Treino: 34.0007, Acurácia Treino: 26.93%\n"
     ]
    },
    {
     "name": "stderr",
     "output_type": "stream",
     "text": [
      "Época 7/100 [Treino]: 100%|██████████| 60/60 [00:10<00:00,  5.92it/s, acc=29, loss=22.5]  \n"
     ]
    },
    {
     "name": "stdout",
     "output_type": "stream",
     "text": [
      "Época [7/100], Perda Treino: 29.5931, Acurácia Treino: 28.96%\n"
     ]
    },
    {
     "name": "stderr",
     "output_type": "stream",
     "text": [
      "Época 8/100 [Treino]: 100%|██████████| 60/60 [00:09<00:00,  6.09it/s, acc=27.6, loss=29.2]\n"
     ]
    },
    {
     "name": "stdout",
     "output_type": "stream",
     "text": [
      "Época [8/100], Perda Treino: 27.7046, Acurácia Treino: 27.60%\n"
     ]
    },
    {
     "name": "stderr",
     "output_type": "stream",
     "text": [
      "Época 9/100 [Treino]: 100%|██████████| 60/60 [00:09<00:00,  6.07it/s, acc=28.7, loss=17.8]\n"
     ]
    },
    {
     "name": "stdout",
     "output_type": "stream",
     "text": [
      "Época [9/100], Perda Treino: 24.5125, Acurácia Treino: 28.70%\n"
     ]
    },
    {
     "name": "stderr",
     "output_type": "stream",
     "text": [
      "Época 10/100 [Treino]: 100%|██████████| 60/60 [00:09<00:00,  6.09it/s, acc=29.7, loss=17.4]\n"
     ]
    },
    {
     "name": "stdout",
     "output_type": "stream",
     "text": [
      "Época [10/100], Perda Treino: 22.2032, Acurácia Treino: 29.69%\n"
     ]
    },
    {
     "name": "stderr",
     "output_type": "stream",
     "text": [
      "Época 11/100 [Treino]: 100%|██████████| 60/60 [00:10<00:00,  5.91it/s, acc=30.1, loss=20.1]\n"
     ]
    },
    {
     "name": "stdout",
     "output_type": "stream",
     "text": [
      "Época [11/100], Perda Treino: 19.7395, Acurácia Treino: 30.05%\n"
     ]
    },
    {
     "name": "stderr",
     "output_type": "stream",
     "text": [
      "Época 12/100 [Treino]: 100%|██████████| 60/60 [00:09<00:00,  6.07it/s, acc=29.7, loss=19.3]\n"
     ]
    },
    {
     "name": "stdout",
     "output_type": "stream",
     "text": [
      "Época [12/100], Perda Treino: 17.6886, Acurácia Treino: 29.69%\n"
     ]
    },
    {
     "name": "stderr",
     "output_type": "stream",
     "text": [
      "Época 13/100 [Treino]: 100%|██████████| 60/60 [00:09<00:00,  6.06it/s, acc=33.9, loss=15.4]\n"
     ]
    },
    {
     "name": "stdout",
     "output_type": "stream",
     "text": [
      "Época [13/100], Perda Treino: 16.2611, Acurácia Treino: 33.85%\n"
     ]
    },
    {
     "name": "stderr",
     "output_type": "stream",
     "text": [
      "Época 14/100 [Treino]: 100%|██████████| 60/60 [00:09<00:00,  6.03it/s, acc=32.3, loss=14.3]\n"
     ]
    },
    {
     "name": "stdout",
     "output_type": "stream",
     "text": [
      "Época [14/100], Perda Treino: 15.9501, Acurácia Treino: 32.34%\n"
     ]
    },
    {
     "name": "stderr",
     "output_type": "stream",
     "text": [
      "Época 15/100 [Treino]: 100%|██████████| 60/60 [00:09<00:00,  6.05it/s, acc=35.8, loss=7.02]\n"
     ]
    },
    {
     "name": "stdout",
     "output_type": "stream",
     "text": [
      "Época [15/100], Perda Treino: 13.5043, Acurácia Treino: 35.83%\n"
     ]
    },
    {
     "name": "stderr",
     "output_type": "stream",
     "text": [
      "Época 16/100 [Treino]: 100%|██████████| 60/60 [00:10<00:00,  5.96it/s, acc=35.8, loss=16.7]\n"
     ]
    },
    {
     "name": "stdout",
     "output_type": "stream",
     "text": [
      "Época [16/100], Perda Treino: 12.6911, Acurácia Treino: 35.83%\n"
     ]
    },
    {
     "name": "stderr",
     "output_type": "stream",
     "text": [
      "Época 17/100 [Treino]: 100%|██████████| 60/60 [00:09<00:00,  6.11it/s, acc=34.2, loss=7.42]\n"
     ]
    },
    {
     "name": "stdout",
     "output_type": "stream",
     "text": [
      "Época [17/100], Perda Treino: 12.4102, Acurácia Treino: 34.22%\n"
     ]
    },
    {
     "name": "stderr",
     "output_type": "stream",
     "text": [
      "Época 18/100 [Treino]: 100%|██████████| 60/60 [00:09<00:00,  6.13it/s, acc=35.7, loss=9.31]\n"
     ]
    },
    {
     "name": "stdout",
     "output_type": "stream",
     "text": [
      "Época [18/100], Perda Treino: 10.9949, Acurácia Treino: 35.73%\n"
     ]
    },
    {
     "name": "stderr",
     "output_type": "stream",
     "text": [
      "Época 19/100 [Treino]: 100%|██████████| 60/60 [00:09<00:00,  6.00it/s, acc=36.9, loss=9.38]\n"
     ]
    },
    {
     "name": "stdout",
     "output_type": "stream",
     "text": [
      "Época [19/100], Perda Treino: 9.9021, Acurácia Treino: 36.88%\n"
     ]
    },
    {
     "name": "stderr",
     "output_type": "stream",
     "text": [
      "Época 20/100 [Treino]: 100%|██████████| 60/60 [00:09<00:00,  6.02it/s, acc=39.9, loss=10.7]\n"
     ]
    },
    {
     "name": "stdout",
     "output_type": "stream",
     "text": [
      "Época [20/100], Perda Treino: 9.2440, Acurácia Treino: 39.95%\n"
     ]
    },
    {
     "name": "stderr",
     "output_type": "stream",
     "text": [
      "Época 21/100 [Treino]: 100%|██████████| 60/60 [00:09<00:00,  6.03it/s, acc=39.7, loss=13.6]\n"
     ]
    },
    {
     "name": "stdout",
     "output_type": "stream",
     "text": [
      "Época [21/100], Perda Treino: 8.1500, Acurácia Treino: 39.69%\n"
     ]
    },
    {
     "name": "stderr",
     "output_type": "stream",
     "text": [
      "Época 22/100 [Treino]: 100%|██████████| 60/60 [00:09<00:00,  6.11it/s, acc=39.7, loss=6.63]\n"
     ]
    },
    {
     "name": "stdout",
     "output_type": "stream",
     "text": [
      "Época [22/100], Perda Treino: 7.4898, Acurácia Treino: 39.74%\n"
     ]
    },
    {
     "name": "stderr",
     "output_type": "stream",
     "text": [
      "Época 23/100 [Treino]: 100%|██████████| 60/60 [00:10<00:00,  6.00it/s, acc=40.5, loss=4.74]\n"
     ]
    },
    {
     "name": "stdout",
     "output_type": "stream",
     "text": [
      "Época [23/100], Perda Treino: 7.2866, Acurácia Treino: 40.52%\n"
     ]
    },
    {
     "name": "stderr",
     "output_type": "stream",
     "text": [
      "Época 24/100 [Treino]: 100%|██████████| 60/60 [00:09<00:00,  6.01it/s, acc=42.2, loss=8.59]\n"
     ]
    },
    {
     "name": "stdout",
     "output_type": "stream",
     "text": [
      "Época [24/100], Perda Treino: 6.1202, Acurácia Treino: 42.19%\n"
     ]
    },
    {
     "name": "stderr",
     "output_type": "stream",
     "text": [
      "Época 25/100 [Treino]: 100%|██████████| 60/60 [00:09<00:00,  6.10it/s, acc=42.2, loss=3.13]\n"
     ]
    },
    {
     "name": "stdout",
     "output_type": "stream",
     "text": [
      "Época [25/100], Perda Treino: 5.7694, Acurácia Treino: 42.19%\n"
     ]
    },
    {
     "name": "stderr",
     "output_type": "stream",
     "text": [
      "Época 26/100 [Treino]: 100%|██████████| 60/60 [00:09<00:00,  6.09it/s, acc=43, loss=5.19]  \n"
     ]
    },
    {
     "name": "stdout",
     "output_type": "stream",
     "text": [
      "Época [26/100], Perda Treino: 5.1985, Acurácia Treino: 43.02%\n"
     ]
    },
    {
     "name": "stderr",
     "output_type": "stream",
     "text": [
      "Época 27/100 [Treino]: 100%|██████████| 60/60 [00:09<00:00,  6.03it/s, acc=45.1, loss=4.07]\n"
     ]
    },
    {
     "name": "stdout",
     "output_type": "stream",
     "text": [
      "Época [27/100], Perda Treino: 4.8771, Acurácia Treino: 45.05%\n"
     ]
    },
    {
     "name": "stderr",
     "output_type": "stream",
     "text": [
      "Época 28/100 [Treino]: 100%|██████████| 60/60 [00:09<00:00,  6.04it/s, acc=46.1, loss=5.52]\n"
     ]
    },
    {
     "name": "stdout",
     "output_type": "stream",
     "text": [
      "Época [28/100], Perda Treino: 4.5160, Acurácia Treino: 46.15%\n"
     ]
    },
    {
     "name": "stderr",
     "output_type": "stream",
     "text": [
      "Época 29/100 [Treino]: 100%|██████████| 60/60 [00:10<00:00,  5.83it/s, acc=46.8, loss=3.57]\n"
     ]
    },
    {
     "name": "stdout",
     "output_type": "stream",
     "text": [
      "Época [29/100], Perda Treino: 3.9630, Acurácia Treino: 46.77%\n"
     ]
    },
    {
     "name": "stderr",
     "output_type": "stream",
     "text": [
      "Época 30/100 [Treino]: 100%|██████████| 60/60 [00:10<00:00,  5.95it/s, acc=48.8, loss=4.5] \n"
     ]
    },
    {
     "name": "stdout",
     "output_type": "stream",
     "text": [
      "Época [30/100], Perda Treino: 3.4284, Acurácia Treino: 48.75%\n"
     ]
    },
    {
     "name": "stderr",
     "output_type": "stream",
     "text": [
      "Época 31/100 [Treino]: 100%|██████████| 60/60 [00:10<00:00,  5.66it/s, acc=49.7, loss=2.23]\n"
     ]
    },
    {
     "name": "stdout",
     "output_type": "stream",
     "text": [
      "Época [31/100], Perda Treino: 3.3366, Acurácia Treino: 49.69%\n"
     ]
    },
    {
     "name": "stderr",
     "output_type": "stream",
     "text": [
      "Época 32/100 [Treino]: 100%|██████████| 60/60 [00:11<00:00,  5.01it/s, acc=51.4, loss=1.73]\n"
     ]
    },
    {
     "name": "stdout",
     "output_type": "stream",
     "text": [
      "Época [32/100], Perda Treino: 3.0123, Acurácia Treino: 51.35%\n"
     ]
    },
    {
     "name": "stderr",
     "output_type": "stream",
     "text": [
      "Época 33/100 [Treino]: 100%|██████████| 60/60 [00:10<00:00,  5.92it/s, acc=49.8, loss=2.22]\n"
     ]
    },
    {
     "name": "stdout",
     "output_type": "stream",
     "text": [
      "Época [33/100], Perda Treino: 3.0851, Acurácia Treino: 49.79%\n"
     ]
    },
    {
     "name": "stderr",
     "output_type": "stream",
     "text": [
      "Época 34/100 [Treino]: 100%|██████████| 60/60 [00:09<00:00,  6.04it/s, acc=50.9, loss=2.96] \n"
     ]
    },
    {
     "name": "stdout",
     "output_type": "stream",
     "text": [
      "Época [34/100], Perda Treino: 2.7202, Acurácia Treino: 50.94%\n"
     ]
    },
    {
     "name": "stderr",
     "output_type": "stream",
     "text": [
      "Época 35/100 [Treino]: 100%|██████████| 60/60 [00:10<00:00,  5.93it/s, acc=51.9, loss=0.868]\n"
     ]
    },
    {
     "name": "stdout",
     "output_type": "stream",
     "text": [
      "Época [35/100], Perda Treino: 2.5676, Acurácia Treino: 51.88%\n"
     ]
    },
    {
     "name": "stderr",
     "output_type": "stream",
     "text": [
      "Época 36/100 [Treino]: 100%|██████████| 60/60 [00:10<00:00,  5.96it/s, acc=53.5, loss=2.65] \n"
     ]
    },
    {
     "name": "stdout",
     "output_type": "stream",
     "text": [
      "Época [36/100], Perda Treino: 2.4691, Acurácia Treino: 53.54%\n"
     ]
    },
    {
     "name": "stderr",
     "output_type": "stream",
     "text": [
      "Época 37/100 [Treino]: 100%|██████████| 60/60 [00:09<00:00,  6.00it/s, acc=55.6, loss=2.12]\n"
     ]
    },
    {
     "name": "stdout",
     "output_type": "stream",
     "text": [
      "Época [37/100], Perda Treino: 2.1228, Acurácia Treino: 55.62%\n"
     ]
    },
    {
     "name": "stderr",
     "output_type": "stream",
     "text": [
      "Época 38/100 [Treino]: 100%|██████████| 60/60 [00:09<00:00,  6.02it/s, acc=54.5, loss=3.19] \n"
     ]
    },
    {
     "name": "stdout",
     "output_type": "stream",
     "text": [
      "Época [38/100], Perda Treino: 2.1845, Acurácia Treino: 54.53%\n"
     ]
    },
    {
     "name": "stderr",
     "output_type": "stream",
     "text": [
      "Época 39/100 [Treino]: 100%|██████████| 60/60 [00:10<00:00,  5.69it/s, acc=55.6, loss=1.56] \n"
     ]
    },
    {
     "name": "stdout",
     "output_type": "stream",
     "text": [
      "Época [39/100], Perda Treino: 1.8797, Acurácia Treino: 55.62%\n"
     ]
    },
    {
     "name": "stderr",
     "output_type": "stream",
     "text": [
      "Época 40/100 [Treino]: 100%|██████████| 60/60 [00:10<00:00,  5.86it/s, acc=55.2, loss=1.11] \n"
     ]
    },
    {
     "name": "stdout",
     "output_type": "stream",
     "text": [
      "Época [40/100], Perda Treino: 1.9881, Acurácia Treino: 55.21%\n"
     ]
    },
    {
     "name": "stderr",
     "output_type": "stream",
     "text": [
      "Época 41/100 [Treino]: 100%|██████████| 60/60 [00:10<00:00,  5.59it/s, acc=57.6, loss=1.9]  \n"
     ]
    },
    {
     "name": "stdout",
     "output_type": "stream",
     "text": [
      "Época [41/100], Perda Treino: 1.6794, Acurácia Treino: 57.55%\n"
     ]
    },
    {
     "name": "stderr",
     "output_type": "stream",
     "text": [
      "Época 42/100 [Treino]: 100%|██████████| 60/60 [00:10<00:00,  5.75it/s, acc=58.2, loss=1.84] \n"
     ]
    },
    {
     "name": "stdout",
     "output_type": "stream",
     "text": [
      "Época [42/100], Perda Treino: 1.6219, Acurácia Treino: 58.18%\n"
     ]
    },
    {
     "name": "stderr",
     "output_type": "stream",
     "text": [
      "Época 43/100 [Treino]: 100%|██████████| 60/60 [00:10<00:00,  5.89it/s, acc=58.1, loss=1.22] \n"
     ]
    },
    {
     "name": "stdout",
     "output_type": "stream",
     "text": [
      "Época [43/100], Perda Treino: 1.8360, Acurácia Treino: 58.07%\n"
     ]
    },
    {
     "name": "stderr",
     "output_type": "stream",
     "text": [
      "Época 44/100 [Treino]: 100%|██████████| 60/60 [00:10<00:00,  5.76it/s, acc=56.9, loss=2.34] \n"
     ]
    },
    {
     "name": "stdout",
     "output_type": "stream",
     "text": [
      "Época [44/100], Perda Treino: 1.5538, Acurácia Treino: 56.93%\n"
     ]
    },
    {
     "name": "stderr",
     "output_type": "stream",
     "text": [
      "Época 45/100 [Treino]: 100%|██████████| 60/60 [00:10<00:00,  5.65it/s, acc=60.7, loss=1.54] \n"
     ]
    },
    {
     "name": "stdout",
     "output_type": "stream",
     "text": [
      "Época [45/100], Perda Treino: 1.5020, Acurácia Treino: 60.68%\n"
     ]
    },
    {
     "name": "stderr",
     "output_type": "stream",
     "text": [
      "Época 46/100 [Treino]: 100%|██████████| 60/60 [00:10<00:00,  5.70it/s, acc=60.9, loss=1.84] \n"
     ]
    },
    {
     "name": "stdout",
     "output_type": "stream",
     "text": [
      "Época [46/100], Perda Treino: 1.3969, Acurácia Treino: 60.94%\n"
     ]
    },
    {
     "name": "stderr",
     "output_type": "stream",
     "text": [
      "Época 47/100 [Treino]: 100%|██████████| 60/60 [00:10<00:00,  5.90it/s, acc=60.1, loss=1.87] \n"
     ]
    },
    {
     "name": "stdout",
     "output_type": "stream",
     "text": [
      "Época [47/100], Perda Treino: 1.4355, Acurácia Treino: 60.10%\n"
     ]
    },
    {
     "name": "stderr",
     "output_type": "stream",
     "text": [
      "Época 48/100 [Treino]: 100%|██████████| 60/60 [00:10<00:00,  5.91it/s, acc=61.4, loss=1.88] \n"
     ]
    },
    {
     "name": "stdout",
     "output_type": "stream",
     "text": [
      "Época [48/100], Perda Treino: 1.3305, Acurácia Treino: 61.35%\n"
     ]
    },
    {
     "name": "stderr",
     "output_type": "stream",
     "text": [
      "Época 49/100 [Treino]: 100%|██████████| 60/60 [00:10<00:00,  5.53it/s, acc=62, loss=0.774]  \n"
     ]
    },
    {
     "name": "stdout",
     "output_type": "stream",
     "text": [
      "Época [49/100], Perda Treino: 1.2950, Acurácia Treino: 61.98%\n"
     ]
    },
    {
     "name": "stderr",
     "output_type": "stream",
     "text": [
      "Época 50/100 [Treino]: 100%|██████████| 60/60 [00:10<00:00,  5.61it/s, acc=62.9, loss=1.09] \n"
     ]
    },
    {
     "name": "stdout",
     "output_type": "stream",
     "text": [
      "Época [50/100], Perda Treino: 1.2072, Acurácia Treino: 62.86%\n"
     ]
    },
    {
     "name": "stderr",
     "output_type": "stream",
     "text": [
      "Época 51/100 [Treino]: 100%|██████████| 60/60 [00:10<00:00,  5.62it/s, acc=65, loss=1.2]    \n"
     ]
    },
    {
     "name": "stdout",
     "output_type": "stream",
     "text": [
      "Época [51/100], Perda Treino: 1.1979, Acurácia Treino: 65.00%\n"
     ]
    },
    {
     "name": "stderr",
     "output_type": "stream",
     "text": [
      "Época 52/100 [Treino]: 100%|██████████| 60/60 [00:11<00:00,  5.40it/s, acc=64.4, loss=1.22] \n"
     ]
    },
    {
     "name": "stdout",
     "output_type": "stream",
     "text": [
      "Época [52/100], Perda Treino: 1.1782, Acurácia Treino: 64.38%\n"
     ]
    },
    {
     "name": "stderr",
     "output_type": "stream",
     "text": [
      "Época 53/100 [Treino]: 100%|██████████| 60/60 [00:10<00:00,  5.62it/s, acc=65.5, loss=0.686]\n"
     ]
    },
    {
     "name": "stdout",
     "output_type": "stream",
     "text": [
      "Época [53/100], Perda Treino: 1.0169, Acurácia Treino: 65.52%\n"
     ]
    },
    {
     "name": "stderr",
     "output_type": "stream",
     "text": [
      "Época 54/100 [Treino]: 100%|██████████| 60/60 [00:10<00:00,  5.58it/s, acc=66.7, loss=0.934]\n"
     ]
    },
    {
     "name": "stdout",
     "output_type": "stream",
     "text": [
      "Época [54/100], Perda Treino: 1.0568, Acurácia Treino: 66.67%\n"
     ]
    },
    {
     "name": "stderr",
     "output_type": "stream",
     "text": [
      "Época 55/100 [Treino]: 100%|██████████| 60/60 [00:10<00:00,  5.69it/s, acc=65.8, loss=0.963]\n"
     ]
    },
    {
     "name": "stdout",
     "output_type": "stream",
     "text": [
      "Época [55/100], Perda Treino: 1.0762, Acurácia Treino: 65.78%\n"
     ]
    },
    {
     "name": "stderr",
     "output_type": "stream",
     "text": [
      "Época 56/100 [Treino]: 100%|██████████| 60/60 [00:10<00:00,  5.76it/s, acc=66.5, loss=0.692]\n"
     ]
    },
    {
     "name": "stdout",
     "output_type": "stream",
     "text": [
      "Época [56/100], Perda Treino: 1.0667, Acurácia Treino: 66.46%\n"
     ]
    },
    {
     "name": "stderr",
     "output_type": "stream",
     "text": [
      "Época 57/100 [Treino]: 100%|██████████| 60/60 [00:10<00:00,  5.83it/s, acc=66.8, loss=0.918]\n"
     ]
    },
    {
     "name": "stdout",
     "output_type": "stream",
     "text": [
      "Época [57/100], Perda Treino: 1.0478, Acurácia Treino: 66.77%\n"
     ]
    },
    {
     "name": "stderr",
     "output_type": "stream",
     "text": [
      "Época 58/100 [Treino]: 100%|██████████| 60/60 [00:10<00:00,  5.90it/s, acc=67, loss=0.696]  \n"
     ]
    },
    {
     "name": "stdout",
     "output_type": "stream",
     "text": [
      "Época [58/100], Perda Treino: 0.9609, Acurácia Treino: 66.98%\n"
     ]
    },
    {
     "name": "stderr",
     "output_type": "stream",
     "text": [
      "Época 59/100 [Treino]: 100%|██████████| 60/60 [00:10<00:00,  5.71it/s, acc=68.5, loss=0.702]\n"
     ]
    },
    {
     "name": "stdout",
     "output_type": "stream",
     "text": [
      "Época [59/100], Perda Treino: 0.9770, Acurácia Treino: 68.49%\n"
     ]
    },
    {
     "name": "stderr",
     "output_type": "stream",
     "text": [
      "Época 60/100 [Treino]: 100%|██████████| 60/60 [00:10<00:00,  5.78it/s, acc=67.2, loss=0.963]\n"
     ]
    },
    {
     "name": "stdout",
     "output_type": "stream",
     "text": [
      "Época [60/100], Perda Treino: 0.9168, Acurácia Treino: 67.19%\n"
     ]
    },
    {
     "name": "stderr",
     "output_type": "stream",
     "text": [
      "Época 61/100 [Treino]: 100%|██████████| 60/60 [00:10<00:00,  5.80it/s, acc=68.6, loss=0.744]\n"
     ]
    },
    {
     "name": "stdout",
     "output_type": "stream",
     "text": [
      "Época [61/100], Perda Treino: 0.9169, Acurácia Treino: 68.65%\n"
     ]
    },
    {
     "name": "stderr",
     "output_type": "stream",
     "text": [
      "Época 62/100 [Treino]: 100%|██████████| 60/60 [00:10<00:00,  5.73it/s, acc=68.7, loss=1.14] \n"
     ]
    },
    {
     "name": "stdout",
     "output_type": "stream",
     "text": [
      "Época [62/100], Perda Treino: 0.9211, Acurácia Treino: 68.70%\n"
     ]
    },
    {
     "name": "stderr",
     "output_type": "stream",
     "text": [
      "Época 63/100 [Treino]: 100%|██████████| 60/60 [00:10<00:00,  5.74it/s, acc=68.9, loss=1.03] \n"
     ]
    },
    {
     "name": "stdout",
     "output_type": "stream",
     "text": [
      "Época [63/100], Perda Treino: 0.8900, Acurácia Treino: 68.85%\n"
     ]
    },
    {
     "name": "stderr",
     "output_type": "stream",
     "text": [
      "Época 64/100 [Treino]: 100%|██████████| 60/60 [00:10<00:00,  5.59it/s, acc=69.2, loss=1.94] \n"
     ]
    },
    {
     "name": "stdout",
     "output_type": "stream",
     "text": [
      "Época [64/100], Perda Treino: 0.8705, Acurácia Treino: 69.22%\n"
     ]
    },
    {
     "name": "stderr",
     "output_type": "stream",
     "text": [
      "Época 65/100 [Treino]: 100%|██████████| 60/60 [00:10<00:00,  5.56it/s, acc=69.9, loss=0.462]\n"
     ]
    },
    {
     "name": "stdout",
     "output_type": "stream",
     "text": [
      "Época [65/100], Perda Treino: 0.8232, Acurácia Treino: 69.95%\n"
     ]
    },
    {
     "name": "stderr",
     "output_type": "stream",
     "text": [
      "Época 66/100 [Treino]: 100%|██████████| 60/60 [00:10<00:00,  5.59it/s, acc=70.6, loss=0.917]\n"
     ]
    },
    {
     "name": "stdout",
     "output_type": "stream",
     "text": [
      "Época [66/100], Perda Treino: 0.8258, Acurácia Treino: 70.57%\n"
     ]
    },
    {
     "name": "stderr",
     "output_type": "stream",
     "text": [
      "Época 67/100 [Treino]: 100%|██████████| 60/60 [00:10<00:00,  5.55it/s, acc=69.9, loss=0.55] \n"
     ]
    },
    {
     "name": "stdout",
     "output_type": "stream",
     "text": [
      "Época [67/100], Perda Treino: 0.8535, Acurácia Treino: 69.90%\n"
     ]
    },
    {
     "name": "stderr",
     "output_type": "stream",
     "text": [
      "Época 68/100 [Treino]: 100%|██████████| 60/60 [00:10<00:00,  5.71it/s, acc=71.3, loss=0.703]\n"
     ]
    },
    {
     "name": "stdout",
     "output_type": "stream",
     "text": [
      "Época [68/100], Perda Treino: 0.8240, Acurácia Treino: 71.30%\n"
     ]
    },
    {
     "name": "stderr",
     "output_type": "stream",
     "text": [
      "Época 69/100 [Treino]: 100%|██████████| 60/60 [00:10<00:00,  5.72it/s, acc=70.9, loss=0.941]\n"
     ]
    },
    {
     "name": "stdout",
     "output_type": "stream",
     "text": [
      "Época [69/100], Perda Treino: 0.8045, Acurácia Treino: 70.94%\n"
     ]
    },
    {
     "name": "stderr",
     "output_type": "stream",
     "text": [
      "Época 70/100 [Treino]: 100%|██████████| 60/60 [00:11<00:00,  5.10it/s, acc=72.3, loss=1.27] \n"
     ]
    },
    {
     "name": "stdout",
     "output_type": "stream",
     "text": [
      "Época [70/100], Perda Treino: 0.7508, Acurácia Treino: 72.34%\n"
     ]
    },
    {
     "name": "stderr",
     "output_type": "stream",
     "text": [
      "Época 71/100 [Treino]: 100%|██████████| 60/60 [00:10<00:00,  5.52it/s, acc=71, loss=0.533]  \n"
     ]
    },
    {
     "name": "stdout",
     "output_type": "stream",
     "text": [
      "Época [71/100], Perda Treino: 0.7755, Acurácia Treino: 70.99%\n"
     ]
    },
    {
     "name": "stderr",
     "output_type": "stream",
     "text": [
      "Época 72/100 [Treino]: 100%|██████████| 60/60 [00:10<00:00,  5.59it/s, acc=72.6, loss=0.364]\n"
     ]
    },
    {
     "name": "stdout",
     "output_type": "stream",
     "text": [
      "Época [72/100], Perda Treino: 0.7630, Acurácia Treino: 72.60%\n"
     ]
    },
    {
     "name": "stderr",
     "output_type": "stream",
     "text": [
      "Época 73/100 [Treino]: 100%|██████████| 60/60 [00:10<00:00,  5.60it/s, acc=73.2, loss=1.03] \n"
     ]
    },
    {
     "name": "stdout",
     "output_type": "stream",
     "text": [
      "Época [73/100], Perda Treino: 0.7424, Acurácia Treino: 73.18%\n"
     ]
    },
    {
     "name": "stderr",
     "output_type": "stream",
     "text": [
      "Época 74/100 [Treino]: 100%|██████████| 60/60 [00:10<00:00,  5.49it/s, acc=72.2, loss=0.791]\n"
     ]
    },
    {
     "name": "stdout",
     "output_type": "stream",
     "text": [
      "Época [74/100], Perda Treino: 0.7561, Acurácia Treino: 72.19%\n"
     ]
    },
    {
     "name": "stderr",
     "output_type": "stream",
     "text": [
      "Época 75/100 [Treino]: 100%|██████████| 60/60 [00:10<00:00,  5.46it/s, acc=71.1, loss=1.02] \n"
     ]
    },
    {
     "name": "stdout",
     "output_type": "stream",
     "text": [
      "Época [75/100], Perda Treino: 0.7686, Acurácia Treino: 71.15%\n"
     ]
    },
    {
     "name": "stderr",
     "output_type": "stream",
     "text": [
      "Época 76/100 [Treino]: 100%|██████████| 60/60 [00:10<00:00,  5.63it/s, acc=73.3, loss=0.852]\n"
     ]
    },
    {
     "name": "stdout",
     "output_type": "stream",
     "text": [
      "Época [76/100], Perda Treino: 0.7613, Acurácia Treino: 73.33%\n"
     ]
    },
    {
     "name": "stderr",
     "output_type": "stream",
     "text": [
      "Época 77/100 [Treino]: 100%|██████████| 60/60 [00:10<00:00,  5.74it/s, acc=73.4, loss=0.739]\n"
     ]
    },
    {
     "name": "stdout",
     "output_type": "stream",
     "text": [
      "Época [77/100], Perda Treino: 0.7114, Acurácia Treino: 73.39%\n"
     ]
    },
    {
     "name": "stderr",
     "output_type": "stream",
     "text": [
      "Época 78/100 [Treino]: 100%|██████████| 60/60 [00:10<00:00,  5.73it/s, acc=74.4, loss=1.02] \n"
     ]
    },
    {
     "name": "stdout",
     "output_type": "stream",
     "text": [
      "Época [78/100], Perda Treino: 0.7471, Acurácia Treino: 74.43%\n"
     ]
    },
    {
     "name": "stderr",
     "output_type": "stream",
     "text": [
      "Época 79/100 [Treino]: 100%|██████████| 60/60 [00:10<00:00,  5.75it/s, acc=73.4, loss=0.82] \n"
     ]
    },
    {
     "name": "stdout",
     "output_type": "stream",
     "text": [
      "Época [79/100], Perda Treino: 0.7266, Acurácia Treino: 73.44%\n"
     ]
    },
    {
     "name": "stderr",
     "output_type": "stream",
     "text": [
      "Época 80/100 [Treino]: 100%|██████████| 60/60 [00:10<00:00,  5.65it/s, acc=73.9, loss=0.704]\n"
     ]
    },
    {
     "name": "stdout",
     "output_type": "stream",
     "text": [
      "Época [80/100], Perda Treino: 0.7165, Acurácia Treino: 73.91%\n"
     ]
    },
    {
     "name": "stderr",
     "output_type": "stream",
     "text": [
      "Época 81/100 [Treino]: 100%|██████████| 60/60 [00:10<00:00,  5.69it/s, acc=74.6, loss=0.691]\n"
     ]
    },
    {
     "name": "stdout",
     "output_type": "stream",
     "text": [
      "Época [81/100], Perda Treino: 0.7075, Acurácia Treino: 74.58%\n"
     ]
    },
    {
     "name": "stderr",
     "output_type": "stream",
     "text": [
      "Época 82/100 [Treino]: 100%|██████████| 60/60 [00:10<00:00,  5.57it/s, acc=74.8, loss=0.503]\n"
     ]
    },
    {
     "name": "stdout",
     "output_type": "stream",
     "text": [
      "Época [82/100], Perda Treino: 0.6976, Acurácia Treino: 74.84%\n"
     ]
    },
    {
     "name": "stderr",
     "output_type": "stream",
     "text": [
      "Época 83/100 [Treino]: 100%|██████████| 60/60 [00:10<00:00,  5.59it/s, acc=74.2, loss=0.816]\n"
     ]
    },
    {
     "name": "stdout",
     "output_type": "stream",
     "text": [
      "Época [83/100], Perda Treino: 0.6909, Acurácia Treino: 74.22%\n"
     ]
    },
    {
     "name": "stderr",
     "output_type": "stream",
     "text": [
      "Época 84/100 [Treino]: 100%|██████████| 60/60 [00:10<00:00,  5.52it/s, acc=74.5, loss=0.571]\n"
     ]
    },
    {
     "name": "stdout",
     "output_type": "stream",
     "text": [
      "Época [84/100], Perda Treino: 0.6691, Acurácia Treino: 74.53%\n"
     ]
    },
    {
     "name": "stderr",
     "output_type": "stream",
     "text": [
      "Época 85/100 [Treino]: 100%|██████████| 60/60 [00:10<00:00,  5.56it/s, acc=74.3, loss=0.566]\n"
     ]
    },
    {
     "name": "stdout",
     "output_type": "stream",
     "text": [
      "Época [85/100], Perda Treino: 0.6590, Acurácia Treino: 74.32%\n"
     ]
    },
    {
     "name": "stderr",
     "output_type": "stream",
     "text": [
      "Época 86/100 [Treino]: 100%|██████████| 60/60 [00:10<00:00,  5.51it/s, acc=74.3, loss=0.487]\n"
     ]
    },
    {
     "name": "stdout",
     "output_type": "stream",
     "text": [
      "Época [86/100], Perda Treino: 0.6906, Acurácia Treino: 74.32%\n"
     ]
    },
    {
     "name": "stderr",
     "output_type": "stream",
     "text": [
      "Época 87/100 [Treino]: 100%|██████████| 60/60 [00:10<00:00,  5.70it/s, acc=75.1, loss=0.823]\n"
     ]
    },
    {
     "name": "stdout",
     "output_type": "stream",
     "text": [
      "Época [87/100], Perda Treino: 0.6729, Acurácia Treino: 75.05%\n"
     ]
    },
    {
     "name": "stderr",
     "output_type": "stream",
     "text": [
      "Época 88/100 [Treino]: 100%|██████████| 60/60 [00:10<00:00,  5.77it/s, acc=75.4, loss=0.524]\n"
     ]
    },
    {
     "name": "stdout",
     "output_type": "stream",
     "text": [
      "Época [88/100], Perda Treino: 0.6641, Acurácia Treino: 75.42%\n"
     ]
    },
    {
     "name": "stderr",
     "output_type": "stream",
     "text": [
      "Época 89/100 [Treino]: 100%|██████████| 60/60 [00:10<00:00,  5.80it/s, acc=75.5, loss=0.484]\n"
     ]
    },
    {
     "name": "stdout",
     "output_type": "stream",
     "text": [
      "Época [89/100], Perda Treino: 0.6185, Acurácia Treino: 75.47%\n"
     ]
    },
    {
     "name": "stderr",
     "output_type": "stream",
     "text": [
      "Época 90/100 [Treino]: 100%|██████████| 60/60 [00:10<00:00,  5.72it/s, acc=75.3, loss=0.798]\n"
     ]
    },
    {
     "name": "stdout",
     "output_type": "stream",
     "text": [
      "Época [90/100], Perda Treino: 0.6357, Acurácia Treino: 75.31%\n"
     ]
    },
    {
     "name": "stderr",
     "output_type": "stream",
     "text": [
      "Época 91/100 [Treino]: 100%|██████████| 60/60 [00:10<00:00,  5.77it/s, acc=76.1, loss=0.441]\n"
     ]
    },
    {
     "name": "stdout",
     "output_type": "stream",
     "text": [
      "Época [91/100], Perda Treino: 0.6095, Acurácia Treino: 76.15%\n"
     ]
    },
    {
     "name": "stderr",
     "output_type": "stream",
     "text": [
      "Época 92/100 [Treino]: 100%|██████████| 60/60 [00:10<00:00,  5.62it/s, acc=76.6, loss=0.27] \n"
     ]
    },
    {
     "name": "stdout",
     "output_type": "stream",
     "text": [
      "Época [92/100], Perda Treino: 0.6186, Acurácia Treino: 76.61%\n"
     ]
    },
    {
     "name": "stderr",
     "output_type": "stream",
     "text": [
      "Época 93/100 [Treino]: 100%|██████████| 60/60 [00:10<00:00,  5.58it/s, acc=77.4, loss=0.554]\n"
     ]
    },
    {
     "name": "stdout",
     "output_type": "stream",
     "text": [
      "Época [93/100], Perda Treino: 0.6271, Acurácia Treino: 77.40%\n"
     ]
    },
    {
     "name": "stderr",
     "output_type": "stream",
     "text": [
      "Época 94/100 [Treino]: 100%|██████████| 60/60 [00:10<00:00,  5.56it/s, acc=75.7, loss=0.567]\n"
     ]
    },
    {
     "name": "stdout",
     "output_type": "stream",
     "text": [
      "Época [94/100], Perda Treino: 0.6203, Acurácia Treino: 75.73%\n"
     ]
    },
    {
     "name": "stderr",
     "output_type": "stream",
     "text": [
      "Época 95/100 [Treino]: 100%|██████████| 60/60 [00:10<00:00,  5.57it/s, acc=77.2, loss=0.556]\n"
     ]
    },
    {
     "name": "stdout",
     "output_type": "stream",
     "text": [
      "Época [95/100], Perda Treino: 0.5974, Acurácia Treino: 77.19%\n"
     ]
    },
    {
     "name": "stderr",
     "output_type": "stream",
     "text": [
      "Época 96/100 [Treino]: 100%|██████████| 60/60 [00:10<00:00,  5.55it/s, acc=75.6, loss=0.673]\n"
     ]
    },
    {
     "name": "stdout",
     "output_type": "stream",
     "text": [
      "Época [96/100], Perda Treino: 0.6210, Acurácia Treino: 75.57%\n"
     ]
    },
    {
     "name": "stderr",
     "output_type": "stream",
     "text": [
      "Época 97/100 [Treino]: 100%|██████████| 60/60 [00:10<00:00,  5.60it/s, acc=77.9, loss=0.518]\n"
     ]
    },
    {
     "name": "stdout",
     "output_type": "stream",
     "text": [
      "Época [97/100], Perda Treino: 0.5786, Acurácia Treino: 77.92%\n"
     ]
    },
    {
     "name": "stderr",
     "output_type": "stream",
     "text": [
      "Época 98/100 [Treino]: 100%|██████████| 60/60 [00:10<00:00,  5.66it/s, acc=77.4, loss=0.568]\n"
     ]
    },
    {
     "name": "stdout",
     "output_type": "stream",
     "text": [
      "Época [98/100], Perda Treino: 0.5891, Acurácia Treino: 77.45%\n"
     ]
    },
    {
     "name": "stderr",
     "output_type": "stream",
     "text": [
      "Época 99/100 [Treino]: 100%|██████████| 60/60 [00:10<00:00,  5.57it/s, acc=75.8, loss=0.417]\n"
     ]
    },
    {
     "name": "stdout",
     "output_type": "stream",
     "text": [
      "Época [99/100], Perda Treino: 0.5819, Acurácia Treino: 75.78%\n"
     ]
    },
    {
     "name": "stderr",
     "output_type": "stream",
     "text": [
      "Época 100/100 [Treino]: 100%|██████████| 60/60 [00:10<00:00,  5.56it/s, acc=76.8, loss=0.594]\n"
     ]
    },
    {
     "name": "stdout",
     "output_type": "stream",
     "text": [
      "Época [100/100], Perda Treino: 0.5877, Acurácia Treino: 76.77%\n",
      "Avaliando o modelo no subconjunto de teste...\n"
     ]
    },
    {
     "name": "stderr",
     "output_type": "stream",
     "text": [
      "Avaliando: 100%|██████████| 15/15 [00:09<00:00,  1.52it/s]\n"
     ]
    },
    {
     "name": "stdout",
     "output_type": "stream",
     "text": [
      "                    precision    recall  f1-score   support\n",
      "\n",
      "     Mild Dementia       0.81      0.69      0.74       134\n",
      " Moderate Dementia       0.95      0.91      0.93       116\n",
      "      Non Demented       0.83      0.77      0.80       118\n",
      "Very mild Dementia       0.54      0.70      0.61       112\n",
      "\n",
      "          accuracy                           0.76       480\n",
      "         macro avg       0.78      0.77      0.77       480\n",
      "      weighted avg       0.78      0.76      0.77       480\n",
      "\n",
      "Matriz de Confusão:\n"
     ]
    },
    {
     "data": {
      "image/png": "[encoded data removed]",
      "text/plain": [
       "<Figure size 800x600 with 2 Axes>"
      ]
     },
     "metadata": {},
     "output_type": "display_data"
    }
   ],
   "source": [
    "import torch\n",
    "import torch.nn as nn\n",
    "import torch.optim as optim\n",
    "from torch.utils.data import DataLoader, random_split\n",
    "from torchvision import datasets, transforms\n",
    "from sklearn.metrics import classification_report, confusion_matrix\n",
    "from sklearn.preprocessing import LabelEncoder\n",
    "import matplotlib.pyplot as plt\n",
    "import seaborn as sns\n",
    "from tqdm import tqdm\n",
    "from AlzheimerCNN import AlzheimerCNN\n",
    "\n",
    "# Configuração do dispositivo\n",
    "device = torch.device(\"cuda\" if torch.cuda.is_available() else \"cpu\")\n",
    "print(device)\n",
    "\n",
    "# Transformações para fine-tuning com 128x128\n",
    "train_transform = transforms.Compose([\n",
    "    transforms.Resize((128, 128)),\n",
    "    transforms.RandomHorizontalFlip(),\n",
    "    transforms.RandomRotation(15),\n",
    "    transforms.ColorJitter(brightness=0.3, contrast=0.3, saturation=0.3),\n",
    "    transforms.RandomAffine(degrees=0, scale=(0.8, 1.2)),\n",
    "    transforms.ToTensor(),\n",
    "    transforms.Normalize(mean=[0.485, 0.456, 0.406], std=[0.229, 0.224, 0.225])\n",
    "])\n",
    "\n",
    "# Transformações para teste (sem augmentations)\n",
    "test_transform = transforms.Compose([\n",
    "    transforms.Resize((128, 128)),\n",
    "    transforms.ToTensor(),\n",
    "    transforms.Normalize(mean=[0.485, 0.456, 0.406], std=[0.229, 0.224, 0.225])\n",
    "])\n",
    "\n",
    "# Carregar o conjunto de dados\n",
    "train_dataset = datasets.ImageFolder(root='datasets_fine_tuning/train_1', transform=train_transform)\n",
    "\n",
    "# Dividir o conjunto de dados em treino (80%) e teste (20%)\n",
    "train_size = int(0.8 * len(train_dataset))\n",
    "test_size = len(train_dataset) - train_size\n",
    "train_subset, test_subset = random_split(train_dataset, [train_size, test_size])\n",
    "\n",
    "# Criar DataLoaders\n",
    "train_loader = DataLoader(train_subset, batch_size=32, shuffle=True, num_workers=4)\n",
    "test_loader = DataLoader(test_subset, batch_size=32, shuffle=False, num_workers=4)\n",
    "\n",
    "# Imprimir mapeamento de classes\n",
    "class_to_idx = train_dataset.class_to_idx\n",
    "print(\"Mapeamento de Classes:\")\n",
    "for class_name, class_index in class_to_idx.items():\n",
    "    print(f\"{class_index}: {class_name}\")\n",
    "\n",
    "# Carregar o modelo pré-treinado\n",
    "model = AlzheimerCNN(num_classes=len(class_to_idx)).to(device)\n",
    "model.load_state_dict(torch.load('models/best_model_resolution_invariant.pth'))\n",
    "\n",
    "# Congelar camadas iniciais\n",
    "for param in model.parameters():\n",
    "    param.requires_grad = False\n",
    "for param in model.fc1.parameters():\n",
    "    param.requires_grad = True\n",
    "for param in model.fc2.parameters():\n",
    "    param.requires_grad = True\n",
    "\n",
    "# Definir hiperparâmetros\n",
    "criterion = nn.CrossEntropyLoss()\n",
    "optimizer = optim.Adam(filter(lambda p: p.requires_grad, model.parameters()), lr=1e-4)\n",
    "num_epochs = 100\n",
    "\n",
    "# Função de treinamento\n",
    "def train_model(model, train_loader, criterion, optimizer, num_epochs=20):\n",
    "    model = model.to(device)\n",
    "    train_losses = []\n",
    "    train_accuracies = []\n",
    "    best_accuracy = 0.0\n",
    "\n",
    "    for epoch in range(num_epochs):\n",
    "        model.train()\n",
    "        running_loss = 0.0\n",
    "        correct = 0\n",
    "        total = 0\n",
    "\n",
    "        train_loop = tqdm(train_loader, desc=f'Época {epoch+1}/{num_epochs} [Treino]')\n",
    "        for images, labels in train_loop:\n",
    "            images, labels = images.to(device), labels.to(device)\n",
    "            optimizer.zero_grad()\n",
    "            outputs = model(images)\n",
    "            loss = criterion(outputs, labels)\n",
    "            loss.backward()\n",
    "            optimizer.step()\n",
    "\n",
    "            running_loss += loss.item()\n",
    "            _, predicted = torch.max(outputs, 1)\n",
    "            total += labels.size(0)\n",
    "            correct += (predicted == labels).sum().item()\n",
    "\n",
    "            train_loop.set_postfix(loss=loss.item(), acc=100.*correct/total)\n",
    "\n",
    "        epoch_loss = running_loss / len(train_loader)\n",
    "        epoch_accuracy = 100 * correct / total\n",
    "        train_losses.append(epoch_loss)\n",
    "        train_accuracies.append(epoch_accuracy)\n",
    "\n",
    "        if epoch_accuracy > best_accuracy:\n",
    "            best_accuracy = epoch_accuracy\n",
    "            torch.save(model.state_dict(), 'models/fine_tuned_alzheimer.pth')\n",
    "\n",
    "        print(f'Época [{epoch+1}/{num_epochs}], '\n",
    "              f'Perda Treino: {epoch_loss:.4f}, Acurácia Treino: {epoch_accuracy:.2f}%')\n",
    "\n",
    "    return train_losses, train_accuracies\n",
    "\n",
    "# Função de avaliação\n",
    "def evaluate_model(model, test_loader):\n",
    "    model = model.to(device)\n",
    "    model.eval()\n",
    "    all_preds = []\n",
    "    all_labels = []\n",
    "\n",
    "    with torch.no_grad():\n",
    "        for images, labels in tqdm(test_loader, desc='Avaliando'):\n",
    "            images, labels = images.to(device), labels.to(device)\n",
    "            outputs = model(images)\n",
    "            _, predicted = torch.max(outputs, 1)\n",
    "            all_preds.extend(predicted.cpu().numpy())\n",
    "            all_labels.extend(labels.cpu().numpy())\n",
    "\n",
    "    print(classification_report(all_labels, all_preds, target_names=class_to_idx.keys()))\n",
    "    print(\"Matriz de Confusão:\")\n",
    "    le = LabelEncoder()\n",
    "    le.fit_transform(all_labels)\n",
    "    cm = confusion_matrix(all_labels, all_preds)\n",
    "    plt.figure(figsize=(8, 6))\n",
    "    sns.heatmap(cm, annot=True, fmt='d', cmap='Blues', xticklabels=le.classes_, yticklabels=le.classes_)\n",
    "    plt.title('Matriz de Confusão')\n",
    "    plt.xlabel('Predito')\n",
    "    plt.ylabel('Verdadeiro')\n",
    "    plt.show()\n",
    "\n",
    "    return all_preds, all_labels\n",
    "\n",
    "# Executar fine-tuning\n",
    "train_losses, train_accuracies = train_model(model, train_loader, criterion, optimizer, num_epochs)\n",
    "\n",
    "# Avaliar o modelo no subconjunto de teste\n",
    "print(\"Avaliando o modelo no subconjunto de teste...\")\n",
    "predictions, true_labels = evaluate_model(model, test_loader)"
   ]
  }
 ],
 "metadata": {
  "kernelspec": {
   "display_name": "Python 3",
   "language": "python",
   "name": "python3"
  },
  "language_info": {
   "codemirror_mode": {
    "name": "ipython",
    "version": 3
   },
   "file_extension": ".py",
   "mimetype": "text/x-python",
   "name": "python",
   "nbconvert_exporter": "python",
   "pygments_lexer": "ipython3",
   "version": "3.10.6"
  }
 },
 "nbformat": 4,
 "nbformat_minor": 5
}
