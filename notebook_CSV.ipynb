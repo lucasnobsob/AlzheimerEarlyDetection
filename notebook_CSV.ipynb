{
 "cells": [
  {
   "cell_type": "code",
   "execution_count": 1,
   "metadata": {},
   "outputs": [
    {
     "name": "stdout",
     "output_type": "stream",
     "text": [
      "Acurácia do modelo: 0.88%\n"
     ]
    },
    {
     "data": {
      "text/plain": [
       "['scaler.pkl']"
      ]
     },
     "execution_count": 1,
     "metadata": {},
     "output_type": "execute_result"
    }
   ],
   "source": [
    "import pandas as pd\n",
    "import torch\n",
    "import torch.nn as nn\n",
    "import torch.optim as optim\n",
    "import joblib  # Importando joblib para salvar o modelo\n",
    "from sklearn.model_selection import train_test_split\n",
    "from sklearn.preprocessing import StandardScaler, LabelEncoder\n",
    "from sklearn.ensemble import RandomForestClassifier\n",
    "from torch.utils.data import DataLoader, TensorDataset\n",
    "from AlzheimerCNN import AlzheimerNet\n",
    "\n",
    "# 1️⃣ Carregar e pré-processar os dados\n",
    "df = pd.read_csv(\"D:\\\\Projetos\\\\AlzheimerEarlyDetection_v4\\\\alzheimers_disease_data.csv\")\n",
    "\n",
    "# Mapear Diagnosis para nova classificação\n",
    "def map_diagnosis(row):\n",
    "    if row['Diagnosis'] == 0:\n",
    "        return 0  # Sem Demência\n",
    "    elif row['MMSE'] >= 24:\n",
    "        return 1  # Demência Leve\n",
    "    elif row['MMSE'] >= 18:\n",
    "        return 2  # Demência Moderada\n",
    "    else:\n",
    "        return 3  # Demência Crônica\n",
    "\n",
    "df['Diagnosis_New'] = df.apply(map_diagnosis, axis=1)\n",
    "\n",
    "# Separar features e target\n",
    "features = df.drop(columns=['PatientID', 'Diagnosis', 'Diagnosis_New', 'DoctorInCharge'])\n",
    "target = df['Diagnosis_New']\n",
    "\n",
    "# Codificar variáveis categóricas\n",
    "for col in features.select_dtypes(include=['object']).columns:\n",
    "    features[col] = LabelEncoder().fit_transform(features[col])\n",
    "\n",
    "# Normalizar os dados\n",
    "scaler = StandardScaler()\n",
    "features = scaler.fit_transform(features)\n",
    "\n",
    "# Converter para tensores do PyTorch\n",
    "X_train, X_test, y_train, y_test = train_test_split(features, target, test_size=0.2, random_state=42)\n",
    "\n",
    "# Criar o modelo\n",
    "model = RandomForestClassifier(n_estimators=100, random_state=42)\n",
    "\n",
    "# 2️⃣ Treinar o modelo\n",
    "model.fit(X_train, y_train)\n",
    "\n",
    "# 3️⃣ Avaliação\n",
    "accuracy = model.score(X_test, y_test)\n",
    "print(f\"Acurácia do modelo: {accuracy:.2f}%\")\n",
    "\n",
    "# 4️⃣ Salvar o modelo com joblib\n",
    "joblib.dump(model, 'alzheimer_csv_model.joblib')  # Salvar o modelo com joblib\n",
    "\n",
    "# Salvar o scaler (caso seja necessário para usar os dados novos posteriormente)\n",
    "joblib.dump(scaler, 'scaler.pkl')\n"
   ]
  }
 ],
 "metadata": {
  "kernelspec": {
   "display_name": "Python 3",
   "language": "python",
   "name": "python3"
  },
  "language_info": {
   "codemirror_mode": {
    "name": "ipython",
    "version": 3
   },
   "file_extension": ".py",
   "mimetype": "text/x-python",
   "name": "python",
   "nbconvert_exporter": "python",
   "pygments_lexer": "ipython3",
   "version": "3.10.6"
  }
 },
 "nbformat": 4,
 "nbformat_minor": 2
}
