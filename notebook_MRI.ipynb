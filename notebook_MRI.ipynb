{
 "cells": [
  {
   "cell_type": "markdown",
   "metadata": {},
   "source": [
    "# Detecção de Alzheimer com CNN Invariante à Resolução\n",
    "\n",
    "Este notebook implementa um modelo CNN para detecção da doença de Alzheimer que pode lidar com imagens de diferentes resoluções mantendo alta precisão."
   ]
  },
  {
   "cell_type": "code",
   "execution_count": 1,
   "metadata": {},
   "outputs": [
    {
     "name": "stdout",
     "output_type": "stream",
     "text": [
      "cuda\n"
     ]
    }
   ],
   "source": [
    "import torch\n",
    "import torch.nn as nn\n",
    "import torch.optim as optim\n",
    "from torch.utils.data import DataLoader\n",
    "from torchvision import datasets, transforms, models\n",
    "from sklearn.metrics import classification_report, confusion_matrix\n",
    "from sklearn.preprocessing import LabelEncoder\n",
    "import matplotlib.pyplot as plt\n",
    "import numpy as np\n",
    "import os\n",
    "import seaborn as sns\n",
    "from tqdm import tqdm\n",
    "import json\n",
    "from models.AlzheimerCNN import AlzheimerCNN\n",
    "\n",
    "device = torch.device(\"cuda\" if torch.cuda.is_available() else \"cpu\")\n",
    "print(device)"
   ]
  },
  {
   "cell_type": "markdown",
   "metadata": {},
   "source": [
    "## Pré-processamento dos Dados\n",
    "\n",
    "O pipeline de pré-processamento é projetado para lidar com diferentes tamanhos de imagem mantendo as proporções e adicionando robustez através de aumento de dados."
   ]
  },
  {
   "cell_type": "code",
   "execution_count": 2,
   "metadata": {},
   "outputs": [],
   "source": [
    "train_transform = transforms.Compose([\n",
    "    transforms.Resize((128, 128)),\n",
    "    transforms.RandomHorizontalFlip(),  # Data augmentation\n",
    "    transforms.RandomRotation(10),\n",
    "    transforms.ToTensor(),\n",
    "    transforms.Normalize(mean=[0.485, 0.456, 0.406], std=[0.229, 0.224, 0.225])\n",
    "])\n",
    "\n",
    "test_transform = transforms.Compose([\n",
    "    transforms.Resize((128, 128)),\n",
    "    transforms.ToTensor(),\n",
    "    transforms.Normalize(mean=[0.485, 0.456, 0.406], std=[0.229, 0.224, 0.225])\n",
    "])"
   ]
  },
  {
   "cell_type": "markdown",
   "metadata": {},
   "source": [
    "## Carregando o Dataset\n",
    "\n",
    "Carrega os datasets de treinamento e teste com as novas transformações."
   ]
  },
  {
   "cell_type": "code",
   "execution_count": 3,
   "metadata": {},
   "outputs": [
    {
     "name": "stdout",
     "output_type": "stream",
     "text": [
      "Mapeamento de Classes:\n",
      "0: Mild Impairment\n",
      "1: Moderate Impairment\n",
      "2: No Impairment\n",
      "3: Very Mild Impairment\n"
     ]
    }
   ],
   "source": [
    "# Atualize estes caminhos para as localizações do seu dataset\n",
    "train_dataset = datasets.ImageFolder(root='D:/Projetos/TrabalhoFinalDataScience/AlzheimerEarlyDetection/datasets/train', transform=train_transform)\n",
    "test_dataset = datasets.ImageFolder(root='D:/Projetos/TrabalhoFinalDataScience/AlzheimerEarlyDetection/datasets/test', transform=test_transform)\n",
    "\n",
    "train_loader = DataLoader(train_dataset, batch_size=32, shuffle=True, num_workers=4)\n",
    "test_loader = DataLoader(test_dataset, batch_size=32, shuffle=False, num_workers=4)\n",
    "\n",
    "# Criar o mapeamento de classes com base no class_to_idx\n",
    "CLASS_MAPPING = {str(idx): class_name for class_name, idx in train_dataset.class_to_idx.items()}\n",
    "\n",
    "# Imprime o mapeamento das classes\n",
    "class_to_idx = train_dataset.class_to_idx\n",
    "print(\"Mapeamento de Classes:\")\n",
    "for class_name, class_index in class_to_idx.items():\n",
    "    print(f\"{class_index}: {class_name}\")\n",
    "\n",
    "# Salvar o mapeamento de classes\n",
    "with open('models/class_mapping.json', 'w') as f:\n",
    "    json.dump(CLASS_MAPPING, f)"
   ]
  },
  {
   "cell_type": "markdown",
   "metadata": {},
   "source": [
    "## Treinamento do Modelo\n",
    "\n",
    "Loop de treinamento com acompanhamento de progresso e salvamento do modelo."
   ]
  },
  {
   "cell_type": "code",
   "execution_count": 4,
   "metadata": {},
   "outputs": [],
   "source": [
    "def train_model(model, train_loader, test_loader, criterion, optimizer, num_epochs=100):\n",
    "    device = torch.device(\"cuda\" if torch.cuda.is_available() else \"cpu\")\n",
    "    model = model.to(device)\n",
    "    \n",
    "    train_losses = []\n",
    "    train_accuracies = []\n",
    "    test_losses = []\n",
    "    test_accuracies = []\n",
    "    \n",
    "    best_accuracy = 0.0\n",
    "    \n",
    "    for epoch in range(num_epochs):\n",
    "        # Fase de treinamento\n",
    "        model.train()\n",
    "        running_loss = 0.0\n",
    "        correct = 0\n",
    "        total = 0\n",
    "        \n",
    "        train_loop = tqdm(train_loader, desc=f'Época {epoch+1}/{num_epochs} [Treino]')\n",
    "        for images, labels in train_loop:\n",
    "            images, labels = images.to(device), labels.to(device)\n",
    "            \n",
    "            optimizer.zero_grad()\n",
    "            outputs = model(images)\n",
    "            loss = criterion(outputs, labels)\n",
    "            loss.backward()\n",
    "            optimizer.step()\n",
    "            \n",
    "            running_loss += loss.item()\n",
    "            _, predicted = torch.max(outputs, 1)\n",
    "            total += labels.size(0)\n",
    "            correct += (predicted == labels).sum().item()\n",
    "            \n",
    "            train_loop.set_postfix(loss=loss.item(), acc=100.*correct/total)\n",
    "        \n",
    "        epoch_loss = running_loss / len(train_loader)\n",
    "        epoch_accuracy = 100 * correct / total\n",
    "        train_losses.append(epoch_loss)\n",
    "        train_accuracies.append(epoch_accuracy)\n",
    "        \n",
    "        # Fase de teste\n",
    "        model.eval()\n",
    "        test_loss = 0.0\n",
    "        test_correct = 0\n",
    "        test_total = 0\n",
    "        \n",
    "        with torch.no_grad():\n",
    "            test_loop = tqdm(test_loader, desc=f'Época {epoch+1}/{num_epochs} [Teste]')\n",
    "            for images, labels in test_loop:\n",
    "                images, labels = images.to(device), labels.to(device)\n",
    "                outputs = model(images)\n",
    "                loss = criterion(outputs, labels)\n",
    "                \n",
    "                test_loss += loss.item()\n",
    "                _, predicted = torch.max(outputs, 1)\n",
    "                test_total += labels.size(0)\n",
    "                test_correct += (predicted == labels).sum().item()\n",
    "                \n",
    "                test_loop.set_postfix(loss=loss.item(), acc=100.*test_correct/test_total)\n",
    "        \n",
    "        test_epoch_loss = test_loss / len(test_loader)\n",
    "        test_epoch_accuracy = 100 * test_correct / test_total\n",
    "        test_losses.append(test_epoch_loss)\n",
    "        test_accuracies.append(test_epoch_accuracy)\n",
    "        \n",
    "        # Salva o melhor modelo\n",
    "        if test_epoch_accuracy > best_accuracy:\n",
    "            best_accuracy = test_epoch_accuracy\n",
    "            torch.save(model.state_dict(), 'models/alzheimer_mri_model.pth')\n",
    "        \n",
    "        print(f'Época [{epoch+1}/{num_epochs}], '\n",
    "              f'Perda Treino: {epoch_loss:.4f}, Acurácia Treino: {epoch_accuracy:.2f}%, '\n",
    "              f'Perda Teste: {test_epoch_loss:.4f}, Acurácia Teste: {test_epoch_accuracy:.2f}%')\n",
    "    \n",
    "    return train_losses, train_accuracies, test_losses, test_accuracies"
   ]
  },
  {
   "cell_type": "markdown",
   "metadata": {},
   "source": [
    "## Inicializa e Treina o Modelo"
   ]
  },
  {
   "cell_type": "code",
   "execution_count": 5,
   "metadata": {},
   "outputs": [
    {
     "name": "stderr",
     "output_type": "stream",
     "text": [
      "Época 1/50 [Treino]: 100%|██████████| 320/320 [00:18<00:00, 17.51it/s, acc=47.6, loss=0.87] \n",
      "Época 1/50 [Teste]: 100%|██████████| 40/40 [00:09<00:00,  4.19it/s, acc=51.4, loss=0.951]\n"
     ]
    },
    {
     "name": "stdout",
     "output_type": "stream",
     "text": [
      "Época [1/50], Perda Treino: 1.1210, Acurácia Treino: 47.62%, Perda Teste: 0.9631, Acurácia Teste: 51.45%\n"
     ]
    },
    {
     "name": "stderr",
     "output_type": "stream",
     "text": [
      "Época 2/50 [Treino]: 100%|██████████| 320/320 [00:18<00:00, 17.76it/s, acc=62.9, loss=0.534]\n",
      "Época 2/50 [Teste]: 100%|██████████| 40/40 [00:09<00:00,  4.27it/s, acc=52, loss=1]      \n"
     ]
    },
    {
     "name": "stdout",
     "output_type": "stream",
     "text": [
      "Época [2/50], Perda Treino: 0.7959, Acurácia Treino: 62.94%, Perda Teste: 0.9363, Acurácia Teste: 51.99%\n"
     ]
    },
    {
     "name": "stderr",
     "output_type": "stream",
     "text": [
      "Época 3/50 [Treino]: 100%|██████████| 320/320 [00:18<00:00, 17.76it/s, acc=66.3, loss=0.781]\n",
      "Época 3/50 [Teste]: 100%|██████████| 40/40 [00:09<00:00,  4.26it/s, acc=53.7, loss=1.02] \n"
     ]
    },
    {
     "name": "stdout",
     "output_type": "stream",
     "text": [
      "Época [3/50], Perda Treino: 0.7347, Acurácia Treino: 66.31%, Perda Teste: 0.9147, Acurácia Teste: 53.71%\n"
     ]
    },
    {
     "name": "stderr",
     "output_type": "stream",
     "text": [
      "Época 4/50 [Treino]: 100%|██████████| 320/320 [00:18<00:00, 17.71it/s, acc=67.9, loss=0.731]\n",
      "Época 4/50 [Teste]: 100%|██████████| 40/40 [00:09<00:00,  4.29it/s, acc=57.2, loss=1.03] \n"
     ]
    },
    {
     "name": "stdout",
     "output_type": "stream",
     "text": [
      "Época [4/50], Perda Treino: 0.6891, Acurácia Treino: 67.85%, Perda Teste: 0.8670, Acurácia Teste: 57.23%\n"
     ]
    },
    {
     "name": "stderr",
     "output_type": "stream",
     "text": [
      "Época 5/50 [Treino]: 100%|██████████| 320/320 [00:18<00:00, 17.74it/s, acc=69.5, loss=0.555]\n",
      "Época 5/50 [Teste]: 100%|██████████| 40/40 [00:09<00:00,  4.27it/s, acc=57.2, loss=0.827]\n"
     ]
    },
    {
     "name": "stdout",
     "output_type": "stream",
     "text": [
      "Época [5/50], Perda Treino: 0.6769, Acurácia Treino: 69.46%, Perda Teste: 0.8432, Acurácia Teste: 57.23%\n"
     ]
    },
    {
     "name": "stderr",
     "output_type": "stream",
     "text": [
      "Época 6/50 [Treino]: 100%|██████████| 320/320 [00:18<00:00, 17.73it/s, acc=70.3, loss=0.54] \n",
      "Época 6/50 [Teste]: 100%|██████████| 40/40 [00:09<00:00,  4.27it/s, acc=58.6, loss=1.08] \n"
     ]
    },
    {
     "name": "stdout",
     "output_type": "stream",
     "text": [
      "Época [6/50], Perda Treino: 0.6441, Acurácia Treino: 70.30%, Perda Teste: 0.8233, Acurácia Teste: 58.56%\n"
     ]
    },
    {
     "name": "stderr",
     "output_type": "stream",
     "text": [
      "Época 7/50 [Treino]: 100%|██████████| 320/320 [00:18<00:00, 17.74it/s, acc=70.8, loss=0.607]\n",
      "Época 7/50 [Teste]: 100%|██████████| 40/40 [00:09<00:00,  4.28it/s, acc=60.1, loss=1.06] \n"
     ]
    },
    {
     "name": "stdout",
     "output_type": "stream",
     "text": [
      "Época [7/50], Perda Treino: 0.6405, Acurácia Treino: 70.83%, Perda Teste: 0.8071, Acurácia Teste: 60.13%\n"
     ]
    },
    {
     "name": "stderr",
     "output_type": "stream",
     "text": [
      "Época 8/50 [Treino]: 100%|██████████| 320/320 [00:18<00:00, 17.70it/s, acc=71.9, loss=0.531]\n",
      "Época 8/50 [Teste]: 100%|██████████| 40/40 [00:09<00:00,  4.30it/s, acc=53.4, loss=0.607]\n"
     ]
    },
    {
     "name": "stdout",
     "output_type": "stream",
     "text": [
      "Época [8/50], Perda Treino: 0.6160, Acurácia Treino: 71.88%, Perda Teste: 0.8617, Acurácia Teste: 53.40%\n"
     ]
    },
    {
     "name": "stderr",
     "output_type": "stream",
     "text": [
      "Época 9/50 [Treino]: 100%|██████████| 320/320 [00:18<00:00, 17.74it/s, acc=71.9, loss=0.679]\n",
      "Época 9/50 [Teste]: 100%|██████████| 40/40 [00:09<00:00,  4.27it/s, acc=49, loss=0.629]  \n"
     ]
    },
    {
     "name": "stdout",
     "output_type": "stream",
     "text": [
      "Época [9/50], Perda Treino: 0.6087, Acurácia Treino: 71.87%, Perda Teste: 0.9200, Acurácia Teste: 49.02%\n"
     ]
    },
    {
     "name": "stderr",
     "output_type": "stream",
     "text": [
      "Época 10/50 [Treino]: 100%|██████████| 320/320 [00:17<00:00, 17.89it/s, acc=73.1, loss=0.781]\n",
      "Época 10/50 [Teste]: 100%|██████████| 40/40 [00:09<00:00,  4.21it/s, acc=57.5, loss=1.19] \n"
     ]
    },
    {
     "name": "stdout",
     "output_type": "stream",
     "text": [
      "Época [10/50], Perda Treino: 0.5971, Acurácia Treino: 73.12%, Perda Teste: 0.8824, Acurácia Teste: 57.47%\n"
     ]
    },
    {
     "name": "stderr",
     "output_type": "stream",
     "text": [
      "Época 11/50 [Treino]: 100%|██████████| 320/320 [00:17<00:00, 18.00it/s, acc=74, loss=0.505]  \n",
      "Época 11/50 [Teste]: 100%|██████████| 40/40 [00:09<00:00,  4.31it/s, acc=63, loss=1.07]   \n"
     ]
    },
    {
     "name": "stdout",
     "output_type": "stream",
     "text": [
      "Época [11/50], Perda Treino: 0.5864, Acurácia Treino: 73.96%, Perda Teste: 0.7680, Acurácia Teste: 63.02%\n"
     ]
    },
    {
     "name": "stderr",
     "output_type": "stream",
     "text": [
      "Época 12/50 [Treino]: 100%|██████████| 320/320 [00:18<00:00, 17.60it/s, acc=74.6, loss=0.415]\n",
      "Época 12/50 [Teste]: 100%|██████████| 40/40 [00:09<00:00,  4.20it/s, acc=62.5, loss=0.87] \n"
     ]
    },
    {
     "name": "stdout",
     "output_type": "stream",
     "text": [
      "Época [12/50], Perda Treino: 0.5672, Acurácia Treino: 74.61%, Perda Teste: 0.7382, Acurácia Teste: 62.55%\n"
     ]
    },
    {
     "name": "stderr",
     "output_type": "stream",
     "text": [
      "Época 13/50 [Treino]: 100%|██████████| 320/320 [00:18<00:00, 17.11it/s, acc=75, loss=0.437]  \n",
      "Época 13/50 [Teste]: 100%|██████████| 40/40 [00:09<00:00,  4.20it/s, acc=57.7, loss=0.918]\n"
     ]
    },
    {
     "name": "stdout",
     "output_type": "stream",
     "text": [
      "Época [13/50], Perda Treino: 0.5574, Acurácia Treino: 74.99%, Perda Teste: 0.8402, Acurácia Teste: 57.70%\n"
     ]
    },
    {
     "name": "stderr",
     "output_type": "stream",
     "text": [
      "Época 14/50 [Treino]: 100%|██████████| 320/320 [00:18<00:00, 17.68it/s, acc=75, loss=0.696]  \n",
      "Época 14/50 [Teste]: 100%|██████████| 40/40 [00:09<00:00,  4.18it/s, acc=63.6, loss=0.965]\n"
     ]
    },
    {
     "name": "stdout",
     "output_type": "stream",
     "text": [
      "Época [14/50], Perda Treino: 0.5479, Acurácia Treino: 74.97%, Perda Teste: 0.7458, Acurácia Teste: 63.64%\n"
     ]
    },
    {
     "name": "stderr",
     "output_type": "stream",
     "text": [
      "Época 15/50 [Treino]: 100%|██████████| 320/320 [00:18<00:00, 17.65it/s, acc=75.6, loss=0.602]\n",
      "Época 15/50 [Teste]: 100%|██████████| 40/40 [00:09<00:00,  4.18it/s, acc=64.6, loss=0.86] \n"
     ]
    },
    {
     "name": "stdout",
     "output_type": "stream",
     "text": [
      "Época [15/50], Perda Treino: 0.5454, Acurácia Treino: 75.57%, Perda Teste: 0.7562, Acurácia Teste: 64.58%\n"
     ]
    },
    {
     "name": "stderr",
     "output_type": "stream",
     "text": [
      "Época 16/50 [Treino]: 100%|██████████| 320/320 [00:18<00:00, 17.31it/s, acc=75.7, loss=0.766]\n",
      "Época 16/50 [Teste]: 100%|██████████| 40/40 [00:09<00:00,  4.06it/s, acc=64.6, loss=0.798]\n"
     ]
    },
    {
     "name": "stdout",
     "output_type": "stream",
     "text": [
      "Época [16/50], Perda Treino: 0.5404, Acurácia Treino: 75.68%, Perda Teste: 0.7337, Acurácia Teste: 64.58%\n"
     ]
    },
    {
     "name": "stderr",
     "output_type": "stream",
     "text": [
      "Época 17/50 [Treino]: 100%|██████████| 320/320 [00:18<00:00, 17.71it/s, acc=75.9, loss=0.616]\n",
      "Época 17/50 [Teste]: 100%|██████████| 40/40 [00:09<00:00,  4.27it/s, acc=64.3, loss=0.82] \n"
     ]
    },
    {
     "name": "stdout",
     "output_type": "stream",
     "text": [
      "Época [17/50], Perda Treino: 0.5355, Acurácia Treino: 75.91%, Perda Teste: 0.7329, Acurácia Teste: 64.35%\n"
     ]
    },
    {
     "name": "stderr",
     "output_type": "stream",
     "text": [
      "Época 18/50 [Treino]: 100%|██████████| 320/320 [00:18<00:00, 17.63it/s, acc=76.2, loss=0.34] \n",
      "Época 18/50 [Teste]: 100%|██████████| 40/40 [00:09<00:00,  4.30it/s, acc=64, loss=0.797]  \n"
     ]
    },
    {
     "name": "stdout",
     "output_type": "stream",
     "text": [
      "Época [18/50], Perda Treino: 0.5205, Acurácia Treino: 76.24%, Perda Teste: 0.7542, Acurácia Teste: 63.96%\n"
     ]
    },
    {
     "name": "stderr",
     "output_type": "stream",
     "text": [
      "Época 19/50 [Treino]: 100%|██████████| 320/320 [00:17<00:00, 17.84it/s, acc=76.5, loss=0.59] \n",
      "Época 19/50 [Teste]: 100%|██████████| 40/40 [00:09<00:00,  4.33it/s, acc=63.3, loss=0.751]\n"
     ]
    },
    {
     "name": "stdout",
     "output_type": "stream",
     "text": [
      "Época [19/50], Perda Treino: 0.5215, Acurácia Treino: 76.49%, Perda Teste: 0.7420, Acurácia Teste: 63.25%\n"
     ]
    },
    {
     "name": "stderr",
     "output_type": "stream",
     "text": [
      "Época 20/50 [Treino]: 100%|██████████| 320/320 [00:18<00:00, 17.44it/s, acc=76.8, loss=0.62] \n",
      "Época 20/50 [Teste]: 100%|██████████| 40/40 [00:09<00:00,  4.27it/s, acc=64.5, loss=0.928]\n"
     ]
    },
    {
     "name": "stdout",
     "output_type": "stream",
     "text": [
      "Época [20/50], Perda Treino: 0.5126, Acurácia Treino: 76.80%, Perda Teste: 0.7314, Acurácia Teste: 64.50%\n"
     ]
    },
    {
     "name": "stderr",
     "output_type": "stream",
     "text": [
      "Época 21/50 [Treino]: 100%|██████████| 320/320 [00:17<00:00, 17.84it/s, acc=76.5, loss=0.529]\n",
      "Época 21/50 [Teste]: 100%|██████████| 40/40 [00:09<00:00,  4.26it/s, acc=64, loss=0.853]  \n"
     ]
    },
    {
     "name": "stdout",
     "output_type": "stream",
     "text": [
      "Época [21/50], Perda Treino: 0.5161, Acurácia Treino: 76.53%, Perda Teste: 0.7614, Acurácia Teste: 64.03%\n"
     ]
    },
    {
     "name": "stderr",
     "output_type": "stream",
     "text": [
      "Época 22/50 [Treino]: 100%|██████████| 320/320 [00:18<00:00, 17.74it/s, acc=77.3, loss=0.552]\n",
      "Época 22/50 [Teste]: 100%|██████████| 40/40 [00:09<00:00,  4.20it/s, acc=64.4, loss=0.702]\n"
     ]
    },
    {
     "name": "stdout",
     "output_type": "stream",
     "text": [
      "Época [22/50], Perda Treino: 0.5060, Acurácia Treino: 77.27%, Perda Teste: 0.7381, Acurácia Teste: 64.43%\n"
     ]
    },
    {
     "name": "stderr",
     "output_type": "stream",
     "text": [
      "Época 23/50 [Treino]: 100%|██████████| 320/320 [00:18<00:00, 17.69it/s, acc=77.2, loss=0.395]\n",
      "Época 23/50 [Teste]: 100%|██████████| 40/40 [00:09<00:00,  4.19it/s, acc=64, loss=0.652]  \n"
     ]
    },
    {
     "name": "stdout",
     "output_type": "stream",
     "text": [
      "Época [23/50], Perda Treino: 0.4987, Acurácia Treino: 77.18%, Perda Teste: 0.7299, Acurácia Teste: 64.03%\n"
     ]
    },
    {
     "name": "stderr",
     "output_type": "stream",
     "text": [
      "Época 24/50 [Treino]: 100%|██████████| 320/320 [00:18<00:00, 17.55it/s, acc=77.3, loss=0.369]\n",
      "Época 24/50 [Teste]: 100%|██████████| 40/40 [00:09<00:00,  4.10it/s, acc=65.4, loss=0.868]\n"
     ]
    },
    {
     "name": "stdout",
     "output_type": "stream",
     "text": [
      "Época [24/50], Perda Treino: 0.4924, Acurácia Treino: 77.30%, Perda Teste: 0.7097, Acurácia Teste: 65.36%\n"
     ]
    },
    {
     "name": "stderr",
     "output_type": "stream",
     "text": [
      "Época 25/50 [Treino]: 100%|██████████| 320/320 [00:17<00:00, 17.86it/s, acc=78.1, loss=0.417]\n",
      "Época 25/50 [Teste]: 100%|██████████| 40/40 [00:09<00:00,  4.23it/s, acc=63.7, loss=0.987]\n"
     ]
    },
    {
     "name": "stdout",
     "output_type": "stream",
     "text": [
      "Época [25/50], Perda Treino: 0.4843, Acurácia Treino: 78.14%, Perda Teste: 0.7326, Acurácia Teste: 63.72%\n"
     ]
    },
    {
     "name": "stderr",
     "output_type": "stream",
     "text": [
      "Época 26/50 [Treino]: 100%|██████████| 320/320 [00:18<00:00, 17.53it/s, acc=77.9, loss=0.588]\n",
      "Época 26/50 [Teste]: 100%|██████████| 40/40 [00:09<00:00,  4.29it/s, acc=65.1, loss=0.743]\n"
     ]
    },
    {
     "name": "stdout",
     "output_type": "stream",
     "text": [
      "Época [26/50], Perda Treino: 0.4908, Acurácia Treino: 77.94%, Perda Teste: 0.7179, Acurácia Teste: 65.13%\n"
     ]
    },
    {
     "name": "stderr",
     "output_type": "stream",
     "text": [
      "Época 27/50 [Treino]: 100%|██████████| 320/320 [00:18<00:00, 17.77it/s, acc=78.3, loss=0.437]\n",
      "Época 27/50 [Teste]: 100%|██████████| 40/40 [00:09<00:00,  4.18it/s, acc=65.8, loss=0.874]\n"
     ]
    },
    {
     "name": "stdout",
     "output_type": "stream",
     "text": [
      "Época [27/50], Perda Treino: 0.4819, Acurácia Treino: 78.34%, Perda Teste: 0.7023, Acurácia Teste: 65.83%\n"
     ]
    },
    {
     "name": "stderr",
     "output_type": "stream",
     "text": [
      "Época 28/50 [Treino]: 100%|██████████| 320/320 [00:18<00:00, 17.77it/s, acc=79.2, loss=0.439]\n",
      "Época 28/50 [Teste]: 100%|██████████| 40/40 [00:09<00:00,  4.25it/s, acc=66.1, loss=0.644]\n"
     ]
    },
    {
     "name": "stdout",
     "output_type": "stream",
     "text": [
      "Época [28/50], Perda Treino: 0.4746, Acurácia Treino: 79.16%, Perda Teste: 0.7319, Acurácia Teste: 66.07%\n"
     ]
    },
    {
     "name": "stderr",
     "output_type": "stream",
     "text": [
      "Época 29/50 [Treino]: 100%|██████████| 320/320 [00:18<00:00, 17.75it/s, acc=78.6, loss=0.518]\n",
      "Época 29/50 [Teste]: 100%|██████████| 40/40 [00:09<00:00,  4.18it/s, acc=65.4, loss=0.795]\n"
     ]
    },
    {
     "name": "stdout",
     "output_type": "stream",
     "text": [
      "Época [29/50], Perda Treino: 0.4699, Acurácia Treino: 78.63%, Perda Teste: 0.7018, Acurácia Teste: 65.44%\n"
     ]
    },
    {
     "name": "stderr",
     "output_type": "stream",
     "text": [
      "Época 30/50 [Treino]: 100%|██████████| 320/320 [00:18<00:00, 17.54it/s, acc=78.7, loss=0.391]\n",
      "Época 30/50 [Teste]: 100%|██████████| 40/40 [00:09<00:00,  4.10it/s, acc=66.3, loss=0.817]\n"
     ]
    },
    {
     "name": "stdout",
     "output_type": "stream",
     "text": [
      "Época [30/50], Perda Treino: 0.4649, Acurácia Treino: 78.71%, Perda Teste: 0.7022, Acurácia Teste: 66.30%\n"
     ]
    },
    {
     "name": "stderr",
     "output_type": "stream",
     "text": [
      "Época 31/50 [Treino]: 100%|██████████| 320/320 [00:18<00:00, 17.68it/s, acc=79.5, loss=0.305]\n",
      "Época 31/50 [Teste]: 100%|██████████| 40/40 [00:09<00:00,  4.21it/s, acc=66.3, loss=0.624]\n"
     ]
    },
    {
     "name": "stdout",
     "output_type": "stream",
     "text": [
      "Época [31/50], Perda Treino: 0.4707, Acurácia Treino: 79.45%, Perda Teste: 0.6898, Acurácia Teste: 66.30%\n"
     ]
    },
    {
     "name": "stderr",
     "output_type": "stream",
     "text": [
      "Época 32/50 [Treino]: 100%|██████████| 320/320 [00:18<00:00, 17.49it/s, acc=78.8, loss=0.403]\n",
      "Época 32/50 [Teste]: 100%|██████████| 40/40 [00:09<00:00,  4.22it/s, acc=67.2, loss=0.534]\n"
     ]
    },
    {
     "name": "stdout",
     "output_type": "stream",
     "text": [
      "Época [32/50], Perda Treino: 0.4616, Acurácia Treino: 78.81%, Perda Teste: 0.6797, Acurácia Teste: 67.24%\n"
     ]
    },
    {
     "name": "stderr",
     "output_type": "stream",
     "text": [
      "Época 33/50 [Treino]: 100%|██████████| 320/320 [00:17<00:00, 17.84it/s, acc=79, loss=0.362]  \n",
      "Época 33/50 [Teste]: 100%|██████████| 40/40 [00:09<00:00,  4.31it/s, acc=66.5, loss=0.799]\n"
     ]
    },
    {
     "name": "stdout",
     "output_type": "stream",
     "text": [
      "Época [33/50], Perda Treino: 0.4591, Acurácia Treino: 78.97%, Perda Teste: 0.6786, Acurácia Teste: 66.54%\n"
     ]
    },
    {
     "name": "stderr",
     "output_type": "stream",
     "text": [
      "Época 34/50 [Treino]: 100%|██████████| 320/320 [00:18<00:00, 17.75it/s, acc=79.4, loss=0.414]\n",
      "Época 34/50 [Teste]: 100%|██████████| 40/40 [00:09<00:00,  4.29it/s, acc=66.5, loss=0.646]\n"
     ]
    },
    {
     "name": "stdout",
     "output_type": "stream",
     "text": [
      "Época [34/50], Perda Treino: 0.4558, Acurácia Treino: 79.41%, Perda Teste: 0.7090, Acurácia Teste: 66.46%\n"
     ]
    },
    {
     "name": "stderr",
     "output_type": "stream",
     "text": [
      "Época 35/50 [Treino]: 100%|██████████| 320/320 [00:18<00:00, 17.70it/s, acc=79.2, loss=0.588]\n",
      "Época 35/50 [Teste]: 100%|██████████| 40/40 [00:09<00:00,  4.35it/s, acc=67.5, loss=0.776]\n"
     ]
    },
    {
     "name": "stdout",
     "output_type": "stream",
     "text": [
      "Época [35/50], Perda Treino: 0.4581, Acurácia Treino: 79.15%, Perda Teste: 0.6719, Acurácia Teste: 67.47%\n"
     ]
    },
    {
     "name": "stderr",
     "output_type": "stream",
     "text": [
      "Época 36/50 [Treino]: 100%|██████████| 320/320 [00:17<00:00, 17.79it/s, acc=80.4, loss=0.36] \n",
      "Época 36/50 [Teste]: 100%|██████████| 40/40 [00:09<00:00,  4.30it/s, acc=68.3, loss=0.663]\n"
     ]
    },
    {
     "name": "stdout",
     "output_type": "stream",
     "text": [
      "Época [36/50], Perda Treino: 0.4415, Acurácia Treino: 80.36%, Perda Teste: 0.6682, Acurácia Teste: 68.26%\n"
     ]
    },
    {
     "name": "stderr",
     "output_type": "stream",
     "text": [
      "Época 37/50 [Treino]: 100%|██████████| 320/320 [00:18<00:00, 17.61it/s, acc=79.3, loss=0.45] \n",
      "Época 37/50 [Teste]: 100%|██████████| 40/40 [00:09<00:00,  4.22it/s, acc=67.1, loss=0.707]\n"
     ]
    },
    {
     "name": "stdout",
     "output_type": "stream",
     "text": [
      "Época [37/50], Perda Treino: 0.4511, Acurácia Treino: 79.27%, Perda Teste: 0.6725, Acurácia Teste: 67.08%\n"
     ]
    },
    {
     "name": "stderr",
     "output_type": "stream",
     "text": [
      "Época 38/50 [Treino]: 100%|██████████| 320/320 [00:18<00:00, 17.72it/s, acc=80.5, loss=0.443]\n",
      "Época 38/50 [Teste]: 100%|██████████| 40/40 [00:09<00:00,  4.29it/s, acc=65.7, loss=0.791]\n"
     ]
    },
    {
     "name": "stdout",
     "output_type": "stream",
     "text": [
      "Época [38/50], Perda Treino: 0.4379, Acurácia Treino: 80.52%, Perda Teste: 0.7167, Acurácia Teste: 65.68%\n"
     ]
    },
    {
     "name": "stderr",
     "output_type": "stream",
     "text": [
      "Época 39/50 [Treino]: 100%|██████████| 320/320 [00:18<00:00, 17.73it/s, acc=79, loss=0.399]  \n",
      "Época 39/50 [Teste]: 100%|██████████| 40/40 [00:09<00:00,  4.29it/s, acc=68.3, loss=0.623]\n"
     ]
    },
    {
     "name": "stdout",
     "output_type": "stream",
     "text": [
      "Época [39/50], Perda Treino: 0.4477, Acurácia Treino: 79.00%, Perda Teste: 0.6666, Acurácia Teste: 68.33%\n"
     ]
    },
    {
     "name": "stderr",
     "output_type": "stream",
     "text": [
      "Época 40/50 [Treino]: 100%|██████████| 320/320 [00:18<00:00, 17.67it/s, acc=80.4, loss=0.626]\n",
      "Época 40/50 [Teste]: 100%|██████████| 40/40 [00:09<00:00,  4.23it/s, acc=68.8, loss=0.662]\n"
     ]
    },
    {
     "name": "stdout",
     "output_type": "stream",
     "text": [
      "Época [40/50], Perda Treino: 0.4340, Acurácia Treino: 80.38%, Perda Teste: 0.6707, Acurácia Teste: 68.80%\n"
     ]
    },
    {
     "name": "stderr",
     "output_type": "stream",
     "text": [
      "Época 41/50 [Treino]: 100%|██████████| 320/320 [00:18<00:00, 17.75it/s, acc=80.5, loss=0.311]\n",
      "Época 41/50 [Teste]: 100%|██████████| 40/40 [00:09<00:00,  4.26it/s, acc=68.3, loss=0.518]\n"
     ]
    },
    {
     "name": "stdout",
     "output_type": "stream",
     "text": [
      "Época [41/50], Perda Treino: 0.4305, Acurácia Treino: 80.52%, Perda Teste: 0.6680, Acurácia Teste: 68.33%\n"
     ]
    },
    {
     "name": "stderr",
     "output_type": "stream",
     "text": [
      "Época 42/50 [Treino]: 100%|██████████| 320/320 [00:18<00:00, 17.68it/s, acc=80.4, loss=0.387]\n",
      "Época 42/50 [Teste]: 100%|██████████| 40/40 [00:09<00:00,  4.23it/s, acc=68, loss=0.708]  \n"
     ]
    },
    {
     "name": "stdout",
     "output_type": "stream",
     "text": [
      "Época [42/50], Perda Treino: 0.4362, Acurácia Treino: 80.40%, Perda Teste: 0.6699, Acurácia Teste: 68.02%\n"
     ]
    },
    {
     "name": "stderr",
     "output_type": "stream",
     "text": [
      "Época 43/50 [Treino]: 100%|██████████| 320/320 [00:18<00:00, 17.74it/s, acc=80.2, loss=0.454]\n",
      "Época 43/50 [Teste]: 100%|██████████| 40/40 [00:09<00:00,  4.27it/s, acc=68.3, loss=0.713]\n"
     ]
    },
    {
     "name": "stdout",
     "output_type": "stream",
     "text": [
      "Época [43/50], Perda Treino: 0.4386, Acurácia Treino: 80.16%, Perda Teste: 0.6389, Acurácia Teste: 68.26%\n"
     ]
    },
    {
     "name": "stderr",
     "output_type": "stream",
     "text": [
      "Época 44/50 [Treino]: 100%|██████████| 320/320 [00:18<00:00, 17.72it/s, acc=81.3, loss=0.293]\n",
      "Época 44/50 [Teste]: 100%|██████████| 40/40 [00:09<00:00,  4.19it/s, acc=67.2, loss=0.562]\n"
     ]
    },
    {
     "name": "stdout",
     "output_type": "stream",
     "text": [
      "Época [44/50], Perda Treino: 0.4233, Acurácia Treino: 81.34%, Perda Teste: 0.7151, Acurácia Teste: 67.16%\n"
     ]
    },
    {
     "name": "stderr",
     "output_type": "stream",
     "text": [
      "Época 45/50 [Treino]: 100%|██████████| 320/320 [00:17<00:00, 17.78it/s, acc=80.6, loss=0.504]\n",
      "Época 45/50 [Teste]: 100%|██████████| 40/40 [00:09<00:00,  4.27it/s, acc=70.8, loss=0.707]\n"
     ]
    },
    {
     "name": "stdout",
     "output_type": "stream",
     "text": [
      "Época [45/50], Perda Treino: 0.4260, Acurácia Treino: 80.64%, Perda Teste: 0.6191, Acurácia Teste: 70.84%\n"
     ]
    },
    {
     "name": "stderr",
     "output_type": "stream",
     "text": [
      "Época 46/50 [Treino]: 100%|██████████| 320/320 [00:17<00:00, 17.83it/s, acc=80.7, loss=0.244]\n",
      "Época 46/50 [Teste]: 100%|██████████| 40/40 [00:09<00:00,  4.32it/s, acc=70.4, loss=0.72] \n"
     ]
    },
    {
     "name": "stdout",
     "output_type": "stream",
     "text": [
      "Época [46/50], Perda Treino: 0.4248, Acurácia Treino: 80.65%, Perda Teste: 0.6254, Acurácia Teste: 70.45%\n"
     ]
    },
    {
     "name": "stderr",
     "output_type": "stream",
     "text": [
      "Época 47/50 [Treino]: 100%|██████████| 320/320 [00:18<00:00, 17.52it/s, acc=80.9, loss=0.373]\n",
      "Época 47/50 [Teste]: 100%|██████████| 40/40 [00:09<00:00,  4.20it/s, acc=68.9, loss=0.676]\n"
     ]
    },
    {
     "name": "stdout",
     "output_type": "stream",
     "text": [
      "Época [47/50], Perda Treino: 0.4255, Acurácia Treino: 80.95%, Perda Teste: 0.6473, Acurácia Teste: 68.88%\n"
     ]
    },
    {
     "name": "stderr",
     "output_type": "stream",
     "text": [
      "Época 48/50 [Treino]: 100%|██████████| 320/320 [00:18<00:00, 17.75it/s, acc=80.7, loss=0.507]\n",
      "Época 48/50 [Teste]: 100%|██████████| 40/40 [00:09<00:00,  4.26it/s, acc=69.8, loss=0.605]\n"
     ]
    },
    {
     "name": "stdout",
     "output_type": "stream",
     "text": [
      "Época [48/50], Perda Treino: 0.4228, Acurácia Treino: 80.68%, Perda Teste: 0.6466, Acurácia Teste: 69.82%\n"
     ]
    },
    {
     "name": "stderr",
     "output_type": "stream",
     "text": [
      "Época 49/50 [Treino]: 100%|██████████| 320/320 [00:18<00:00, 17.52it/s, acc=81.1, loss=0.522]\n",
      "Época 49/50 [Teste]: 100%|██████████| 40/40 [00:09<00:00,  4.23it/s, acc=68.5, loss=0.621]\n"
     ]
    },
    {
     "name": "stdout",
     "output_type": "stream",
     "text": [
      "Época [49/50], Perda Treino: 0.4249, Acurácia Treino: 81.08%, Perda Teste: 0.6455, Acurácia Teste: 68.49%\n"
     ]
    },
    {
     "name": "stderr",
     "output_type": "stream",
     "text": [
      "Época 50/50 [Treino]: 100%|██████████| 320/320 [00:18<00:00, 17.76it/s, acc=81.2, loss=0.297]\n",
      "Época 50/50 [Teste]: 100%|██████████| 40/40 [00:09<00:00,  4.27it/s, acc=70.1, loss=0.757]"
     ]
    },
    {
     "name": "stdout",
     "output_type": "stream",
     "text": [
      "Época [50/50], Perda Treino: 0.4197, Acurácia Treino: 81.18%, Perda Teste: 0.6253, Acurácia Teste: 70.13%\n"
     ]
    },
    {
     "name": "stderr",
     "output_type": "stream",
     "text": [
      "\n"
     ]
    }
   ],
   "source": [
    "model = AlzheimerCNN(num_classes=4)\n",
    "criterion = nn.CrossEntropyLoss()\n",
    "optimizer = optim.Adam(model.parameters(), lr=0.001)\n",
    "\n",
    "train_losses, train_accuracies, test_losses, test_accuracies = train_model(\n",
    "    model, train_loader, test_loader, criterion, optimizer, num_epochs=50\n",
    ")"
   ]
  },
  {
   "cell_type": "markdown",
   "metadata": {},
   "source": [
    "## Avaliação do Modelo"
   ]
  },
  {
   "cell_type": "code",
   "execution_count": 6,
   "metadata": {},
   "outputs": [
    {
     "name": "stderr",
     "output_type": "stream",
     "text": [
      "C:\\Users\\Lucas\\AppData\\Local\\Temp\\ipykernel_11972\\937274395.py:35: FutureWarning: You are using `torch.load` with `weights_only=False` (the current default value), which uses the default pickle module implicitly. It is possible to construct malicious pickle data which will execute arbitrary code during unpickling (See https://github.com/pytorch/pytorch/blob/main/SECURITY.md#untrusted-models for more details). In a future release, the default value for `weights_only` will be flipped to `True`. This limits the functions that could be executed during unpickling. Arbitrary objects will no longer be allowed to be loaded via this mode unless they are explicitly allowlisted by the user via `torch.serialization.add_safe_globals`. We recommend you start setting `weights_only=True` for any use case where you don't have full control of the loaded file. Please open an issue on GitHub for any issues related to this experimental feature.\n",
      "  model.load_state_dict(torch.load('models/alzheimer_mri_model.pth'))\n",
      "Evaluating: 100%|██████████| 40/40 [00:09<00:00,  4.32it/s]"
     ]
    },
    {
     "name": "stdout",
     "output_type": "stream",
     "text": [
      "                      precision    recall  f1-score   support\n",
      "\n",
      "     Mild Impairment       0.76      0.54      0.63       179\n",
      " Moderate Impairment       1.00      0.92      0.96        12\n",
      "       No Impairment       0.78      0.76      0.77       640\n",
      "Very Mild Impairment       0.60      0.69      0.64       448\n",
      "\n",
      "            accuracy                           0.71      1279\n",
      "           macro avg       0.78      0.73      0.75      1279\n",
      "        weighted avg       0.72      0.71      0.71      1279\n",
      "\n",
      "Confusion Matrix:\n"
     ]
    },
    {
     "name": "stderr",
     "output_type": "stream",
     "text": [
      "\n"
     ]
    },
    {
     "data": {
      "image/png": "[encoded data removed]",
      "text/plain": [
       "<Figure size 800x600 with 2 Axes>"
      ]
     },
     "metadata": {},
     "output_type": "display_data"
    }
   ],
   "source": [
    "def evaluate_model(model, test_loader, class_to_idx):\n",
    "    device = torch.device(\"cuda\" if torch.cuda.is_available() else \"cpu\")\n",
    "    model = model.to(device)\n",
    "    model.eval()\n",
    "    \n",
    "    all_preds = []\n",
    "    all_labels = []\n",
    "    \n",
    "    with torch.no_grad():\n",
    "        for images, labels in tqdm(test_loader, desc='Evaluating'):\n",
    "            images, labels = images.to(device), labels.to(device)\n",
    "            outputs = model(images)\n",
    "            _, predicted = torch.max(outputs, 1)\n",
    "            \n",
    "            all_preds.extend(predicted.cpu().numpy())\n",
    "            all_labels.extend(labels.cpu().numpy())\n",
    "    \n",
    "    # Print classification report\n",
    "    class_names = [class_name for class_name, _ in sorted(class_to_idx.items(), key=lambda x: x[1])]\n",
    "    print(classification_report(all_labels, all_preds, target_names=class_names))\n",
    "    \n",
    "    # Print confusion matrix\n",
    "    print(\"Confusion Matrix:\")\n",
    "    cm = confusion_matrix(all_labels, all_preds)\n",
    "    plt.figure(figsize=(8, 6))\n",
    "    sns.heatmap(cm, annot=True, fmt='d', cmap='Blues', xticklabels=class_names, yticklabels=class_names)\n",
    "    plt.title('Matriz de Confusão')\n",
    "    plt.xlabel('Predito')\n",
    "    plt.ylabel('Verdadeiro')\n",
    "    plt.show()\n",
    "    \n",
    "    return all_preds, all_labels\n",
    "\n",
    "# Load best model\n",
    "model.load_state_dict(torch.load('models/alzheimer_mri_model.pth'))\n",
    "\n",
    "# Evaluate\n",
    "predictions, true_labels = evaluate_model(model, test_loader, class_to_idx)"
   ]
  }
 ],
 "metadata": {
  "kernelspec": {
   "display_name": "Python 3",
   "language": "python",
   "name": "python3"
  },
  "language_info": {
   "codemirror_mode": {
    "name": "ipython",
    "version": 3
   },
   "file_extension": ".py",
   "mimetype": "text/x-python",
   "name": "python",
   "nbconvert_exporter": "python",
   "pygments_lexer": "ipython3",
   "version": "3.10.6"
  }
 },
 "nbformat": 4,
 "nbformat_minor": 4
}
