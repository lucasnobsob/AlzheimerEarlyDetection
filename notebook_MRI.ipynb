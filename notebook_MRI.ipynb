{
 "cells": [
  {
   "cell_type": "markdown",
   "metadata": {},
   "source": [
    "# Detecção de Alzheimer com CNN Invariante à Resolução\n",
    "\n",
    "Este notebook implementa um modelo CNN para detecção da doença de Alzheimer que pode lidar com imagens de diferentes resoluções mantendo alta precisão."
   ]
  },
  {
   "cell_type": "code",
   "execution_count": 4,
   "metadata": {},
   "outputs": [
    {
     "name": "stdout",
     "output_type": "stream",
     "text": [
      "cuda\n"
     ]
    }
   ],
   "source": [
    "import torch\n",
    "import torch.nn as nn\n",
    "import torch.optim as optim\n",
    "from torch.utils.data import DataLoader\n",
    "from torchvision import datasets, transforms, models\n",
    "from sklearn.metrics import classification_report, confusion_matrix\n",
    "from sklearn.preprocessing import LabelEncoder\n",
    "import matplotlib.pyplot as plt\n",
    "import numpy as np\n",
    "import os\n",
    "import seaborn as sns\n",
    "from tqdm import tqdm\n",
    "\n",
    "from AlzheimerCNN import AlzheimerCNN\n",
    "\n",
    "device = torch.device(\"cuda\" if torch.cuda.is_available() else \"cpu\")\n",
    "print(device)"
   ]
  },
  {
   "cell_type": "markdown",
   "metadata": {},
   "source": [
    "## Pré-processamento dos Dados\n",
    "\n",
    "O pipeline de pré-processamento é projetado para lidar com diferentes tamanhos de imagem mantendo as proporções e adicionando robustez através de aumento de dados."
   ]
  },
  {
   "cell_type": "code",
   "execution_count": 5,
   "metadata": {},
   "outputs": [],
   "source": [
    "# Transformações para treinamento com aumento de dados\n",
    "train_transform = transforms.Compose([\n",
    "    transforms.Resize(256),  # Redimensiona o lado menor para 256 mantendo a proporção\n",
    "    transforms.RandomResizedCrop(224, scale=(0.8, 1.0)),  # Recorte aleatório com escala\n",
    "    transforms.RandomHorizontalFlip(),\n",
    "    transforms.RandomRotation(10),\n",
    "    transforms.ColorJitter(brightness=0.2, contrast=0.2),  # Adiciona variação de cor\n",
    "    transforms.ToTensor(),\n",
    "    transforms.Normalize(mean=[0.485, 0.456, 0.406], std=[0.229, 0.224, 0.225])\n",
    "])\n",
    "\n",
    "# Transformações para teste (sem aumento de dados)\n",
    "test_transform = transforms.Compose([\n",
    "    transforms.Resize(256),\n",
    "    transforms.CenterCrop(224),\n",
    "    transforms.ToTensor(),\n",
    "    transforms.Normalize(mean=[0.485, 0.456, 0.406], std=[0.229, 0.224, 0.225])\n",
    "])"
   ]
  },
  {
   "cell_type": "markdown",
   "metadata": {},
   "source": [
    "## Carregando o Dataset\n",
    "\n",
    "Carrega os datasets de treinamento e teste com as novas transformações."
   ]
  },
  {
   "cell_type": "code",
   "execution_count": 6,
   "metadata": {},
   "outputs": [
    {
     "name": "stdout",
     "output_type": "stream",
     "text": [
      "Mapeamento de Classes:\n",
      "0: Mild Impairment\n",
      "1: Moderate Impairment\n",
      "2: No Impairment\n",
      "3: Very Mild Impairment\n"
     ]
    }
   ],
   "source": [
    "# Atualize estes caminhos para as localizações do seu dataset\n",
    "train_dataset = datasets.ImageFolder(root='D:/Projetos/TrabalhoFinalDataScience/AlzheimerEarlyDetection/datasets/train', transform=train_transform)\n",
    "test_dataset = datasets.ImageFolder(root='D:/Projetos/TrabalhoFinalDataScience/AlzheimerEarlyDetection/datasets/test', transform=test_transform)\n",
    "\n",
    "train_loader = DataLoader(train_dataset, batch_size=32, shuffle=True, num_workers=4)\n",
    "test_loader = DataLoader(test_dataset, batch_size=32, shuffle=False, num_workers=4)\n",
    "\n",
    "# Imprime o mapeamento das classes\n",
    "class_to_idx = train_dataset.class_to_idx\n",
    "print(\"Mapeamento de Classes:\")\n",
    "for class_name, class_index in class_to_idx.items():\n",
    "    print(f\"{class_index}: {class_name}\")"
   ]
  },
  {
   "cell_type": "markdown",
   "metadata": {},
   "source": [
    "## Treinamento do Modelo\n",
    "\n",
    "Loop de treinamento com acompanhamento de progresso e salvamento do modelo."
   ]
  },
  {
   "cell_type": "code",
   "execution_count": 7,
   "metadata": {},
   "outputs": [],
   "source": [
    "def train_model(model, train_loader, test_loader, criterion, optimizer, num_epochs=100):\n",
    "    device = torch.device(\"cuda\" if torch.cuda.is_available() else \"cpu\")\n",
    "    model = model.to(device)\n",
    "    \n",
    "    train_losses = []\n",
    "    train_accuracies = []\n",
    "    test_losses = []\n",
    "    test_accuracies = []\n",
    "    \n",
    "    best_accuracy = 0.0\n",
    "    \n",
    "    for epoch in range(num_epochs):\n",
    "        # Fase de treinamento\n",
    "        model.train()\n",
    "        running_loss = 0.0\n",
    "        correct = 0\n",
    "        total = 0\n",
    "        \n",
    "        train_loop = tqdm(train_loader, desc=f'Época {epoch+1}/{num_epochs} [Treino]')\n",
    "        for images, labels in train_loop:\n",
    "            images, labels = images.to(device), labels.to(device)\n",
    "            \n",
    "            optimizer.zero_grad()\n",
    "            outputs = model(images)\n",
    "            loss = criterion(outputs, labels)\n",
    "            loss.backward()\n",
    "            optimizer.step()\n",
    "            \n",
    "            running_loss += loss.item()\n",
    "            _, predicted = torch.max(outputs, 1)\n",
    "            total += labels.size(0)\n",
    "            correct += (predicted == labels).sum().item()\n",
    "            \n",
    "            train_loop.set_postfix(loss=loss.item(), acc=100.*correct/total)\n",
    "        \n",
    "        epoch_loss = running_loss / len(train_loader)\n",
    "        epoch_accuracy = 100 * correct / total\n",
    "        train_losses.append(epoch_loss)\n",
    "        train_accuracies.append(epoch_accuracy)\n",
    "        \n",
    "        # Fase de teste\n",
    "        model.eval()\n",
    "        test_loss = 0.0\n",
    "        test_correct = 0\n",
    "        test_total = 0\n",
    "        \n",
    "        with torch.no_grad():\n",
    "            test_loop = tqdm(test_loader, desc=f'Época {epoch+1}/{num_epochs} [Teste]')\n",
    "            for images, labels in test_loop:\n",
    "                images, labels = images.to(device), labels.to(device)\n",
    "                outputs = model(images)\n",
    "                loss = criterion(outputs, labels)\n",
    "                \n",
    "                test_loss += loss.item()\n",
    "                _, predicted = torch.max(outputs, 1)\n",
    "                test_total += labels.size(0)\n",
    "                test_correct += (predicted == labels).sum().item()\n",
    "                \n",
    "                test_loop.set_postfix(loss=loss.item(), acc=100.*test_correct/test_total)\n",
    "        \n",
    "        test_epoch_loss = test_loss / len(test_loader)\n",
    "        test_epoch_accuracy = 100 * test_correct / test_total\n",
    "        test_losses.append(test_epoch_loss)\n",
    "        test_accuracies.append(test_epoch_accuracy)\n",
    "        \n",
    "        # Salva o melhor modelo\n",
    "        if test_epoch_accuracy > best_accuracy:\n",
    "            best_accuracy = test_epoch_accuracy\n",
    "            torch.save(model.state_dict(), 'best_model_resolution_invariant.pth')\n",
    "        \n",
    "        print(f'Época [{epoch+1}/{num_epochs}], '\n",
    "              f'Perda Treino: {epoch_loss:.4f}, Acurácia Treino: {epoch_accuracy:.2f}%, '\n",
    "              f'Perda Teste: {test_epoch_loss:.4f}, Acurácia Teste: {test_epoch_accuracy:.2f}%')\n",
    "    \n",
    "    return train_losses, train_accuracies, test_losses, test_accuracies"
   ]
  },
  {
   "cell_type": "markdown",
   "metadata": {},
   "source": [
    "## Inicializa e Treina o Modelo"
   ]
  },
  {
   "cell_type": "code",
   "execution_count": 8,
   "metadata": {},
   "outputs": [
    {
     "name": "stderr",
     "output_type": "stream",
     "text": [
      "Época 1/50 [Treino]: 100%|██████████| 320/320 [00:29<00:00, 10.99it/s, acc=41.2, loss=0.835]\n",
      "Época 1/50 [Teste]: 100%|██████████| 40/40 [00:10<00:00,  3.95it/s, acc=51, loss=1.26]   \n"
     ]
    },
    {
     "name": "stdout",
     "output_type": "stream",
     "text": [
      "Época [1/50], Perda Treino: 1.2169, Acurácia Treino: 41.20%, Perda Teste: 1.0311, Acurácia Teste: 50.98%\n"
     ]
    },
    {
     "name": "stderr",
     "output_type": "stream",
     "text": [
      "Época 2/50 [Treino]: 100%|██████████| 320/320 [00:28<00:00, 11.11it/s, acc=60.5, loss=0.734]\n",
      "Época 2/50 [Teste]: 100%|██████████| 40/40 [00:10<00:00,  3.95it/s, acc=48, loss=1.49]   \n"
     ]
    },
    {
     "name": "stdout",
     "output_type": "stream",
     "text": [
      "Época [2/50], Perda Treino: 0.8452, Acurácia Treino: 60.51%, Perda Teste: 1.0098, Acurácia Teste: 48.01%\n"
     ]
    },
    {
     "name": "stderr",
     "output_type": "stream",
     "text": [
      "Época 3/50 [Treino]: 100%|██████████| 320/320 [00:27<00:00, 11.61it/s, acc=64.5, loss=0.832]\n",
      "Época 3/50 [Teste]: 100%|██████████| 40/40 [00:09<00:00,  4.01it/s, acc=57.3, loss=1.01] \n"
     ]
    },
    {
     "name": "stdout",
     "output_type": "stream",
     "text": [
      "Época [3/50], Perda Treino: 0.7727, Acurácia Treino: 64.50%, Perda Teste: 0.8581, Acurácia Teste: 57.31%\n"
     ]
    },
    {
     "name": "stderr",
     "output_type": "stream",
     "text": [
      "Época 4/50 [Treino]: 100%|██████████| 320/320 [00:27<00:00, 11.58it/s, acc=67.4, loss=0.707]\n",
      "Época 4/50 [Teste]: 100%|██████████| 40/40 [00:10<00:00,  3.85it/s, acc=51.6, loss=1.18] \n"
     ]
    },
    {
     "name": "stdout",
     "output_type": "stream",
     "text": [
      "Época [4/50], Perda Treino: 0.7162, Acurácia Treino: 67.43%, Perda Teste: 0.9246, Acurácia Teste: 51.60%\n"
     ]
    },
    {
     "name": "stderr",
     "output_type": "stream",
     "text": [
      "Época 5/50 [Treino]: 100%|██████████| 320/320 [00:29<00:00, 10.86it/s, acc=69.5, loss=0.427]\n",
      "Época 5/50 [Teste]: 100%|██████████| 40/40 [00:10<00:00,  3.95it/s, acc=59.3, loss=0.799]\n"
     ]
    },
    {
     "name": "stdout",
     "output_type": "stream",
     "text": [
      "Época [5/50], Perda Treino: 0.6730, Acurácia Treino: 69.47%, Perda Teste: 0.8115, Acurácia Teste: 59.27%\n"
     ]
    },
    {
     "name": "stderr",
     "output_type": "stream",
     "text": [
      "Época 6/50 [Treino]: 100%|██████████| 320/320 [00:29<00:00, 10.95it/s, acc=71.6, loss=0.939]\n",
      "Época 6/50 [Teste]: 100%|██████████| 40/40 [00:10<00:00,  3.89it/s, acc=57.4, loss=1.04] \n"
     ]
    },
    {
     "name": "stdout",
     "output_type": "stream",
     "text": [
      "Época [6/50], Perda Treino: 0.6281, Acurácia Treino: 71.62%, Perda Teste: 0.8496, Acurácia Teste: 57.39%\n"
     ]
    },
    {
     "name": "stderr",
     "output_type": "stream",
     "text": [
      "Época 7/50 [Treino]: 100%|██████████| 320/320 [00:29<00:00, 10.70it/s, acc=72.6, loss=0.814]\n",
      "Época 7/50 [Teste]: 100%|██████████| 40/40 [00:10<00:00,  3.88it/s, acc=54.6, loss=1.55] \n"
     ]
    },
    {
     "name": "stdout",
     "output_type": "stream",
     "text": [
      "Época [7/50], Perda Treino: 0.6065, Acurácia Treino: 72.65%, Perda Teste: 0.9176, Acurácia Teste: 54.57%\n"
     ]
    },
    {
     "name": "stderr",
     "output_type": "stream",
     "text": [
      "Época 8/50 [Treino]: 100%|██████████| 320/320 [00:29<00:00, 10.81it/s, acc=73.6, loss=0.732]\n",
      "Época 8/50 [Teste]: 100%|██████████| 40/40 [00:10<00:00,  3.81it/s, acc=60.7, loss=1.13] \n"
     ]
    },
    {
     "name": "stdout",
     "output_type": "stream",
     "text": [
      "Época [8/50], Perda Treino: 0.5773, Acurácia Treino: 73.64%, Perda Teste: 0.7692, Acurácia Teste: 60.67%\n"
     ]
    },
    {
     "name": "stderr",
     "output_type": "stream",
     "text": [
      "Época 9/50 [Treino]: 100%|██████████| 320/320 [00:29<00:00, 10.82it/s, acc=74.5, loss=0.699]\n",
      "Época 9/50 [Teste]: 100%|██████████| 40/40 [00:10<00:00,  3.82it/s, acc=61.9, loss=0.814]\n"
     ]
    },
    {
     "name": "stdout",
     "output_type": "stream",
     "text": [
      "Época [9/50], Perda Treino: 0.5568, Acurácia Treino: 74.47%, Perda Teste: 0.7377, Acurácia Teste: 61.92%\n"
     ]
    },
    {
     "name": "stderr",
     "output_type": "stream",
     "text": [
      "Época 10/50 [Treino]: 100%|██████████| 320/320 [00:29<00:00, 10.99it/s, acc=75.8, loss=0.348]\n",
      "Época 10/50 [Teste]: 100%|██████████| 40/40 [00:10<00:00,  3.91it/s, acc=64.7, loss=0.935]\n"
     ]
    },
    {
     "name": "stdout",
     "output_type": "stream",
     "text": [
      "Época [10/50], Perda Treino: 0.5384, Acurácia Treino: 75.83%, Perda Teste: 0.7330, Acurácia Teste: 64.74%\n"
     ]
    },
    {
     "name": "stderr",
     "output_type": "stream",
     "text": [
      "Época 11/50 [Treino]: 100%|██████████| 320/320 [00:29<00:00, 10.90it/s, acc=76.7, loss=0.556]\n",
      "Época 11/50 [Teste]: 100%|██████████| 40/40 [00:10<00:00,  3.84it/s, acc=62.2, loss=1.33] \n"
     ]
    },
    {
     "name": "stdout",
     "output_type": "stream",
     "text": [
      "Época [11/50], Perda Treino: 0.5098, Acurácia Treino: 76.70%, Perda Teste: 0.7499, Acurácia Teste: 62.24%\n"
     ]
    },
    {
     "name": "stderr",
     "output_type": "stream",
     "text": [
      "Época 12/50 [Treino]: 100%|██████████| 320/320 [00:29<00:00, 10.94it/s, acc=77.6, loss=0.333]\n",
      "Época 12/50 [Teste]: 100%|██████████| 40/40 [00:10<00:00,  3.80it/s, acc=68.9, loss=0.827]\n"
     ]
    },
    {
     "name": "stdout",
     "output_type": "stream",
     "text": [
      "Época [12/50], Perda Treino: 0.5016, Acurácia Treino: 77.65%, Perda Teste: 0.6960, Acurácia Teste: 68.88%\n"
     ]
    },
    {
     "name": "stderr",
     "output_type": "stream",
     "text": [
      "Época 13/50 [Treino]: 100%|██████████| 320/320 [00:29<00:00, 10.90it/s, acc=78, loss=0.482]  \n",
      "Época 13/50 [Teste]: 100%|██████████| 40/40 [00:10<00:00,  3.93it/s, acc=66.1, loss=0.802]\n"
     ]
    },
    {
     "name": "stdout",
     "output_type": "stream",
     "text": [
      "Época [13/50], Perda Treino: 0.4858, Acurácia Treino: 78.05%, Perda Teste: 0.6964, Acurácia Teste: 66.07%\n"
     ]
    },
    {
     "name": "stderr",
     "output_type": "stream",
     "text": [
      "Época 14/50 [Treino]: 100%|██████████| 320/320 [00:29<00:00, 10.96it/s, acc=78.7, loss=0.637]\n",
      "Época 14/50 [Teste]: 100%|██████████| 40/40 [00:10<00:00,  3.92it/s, acc=62.9, loss=1.54] \n"
     ]
    },
    {
     "name": "stdout",
     "output_type": "stream",
     "text": [
      "Época [14/50], Perda Treino: 0.4723, Acurácia Treino: 78.69%, Perda Teste: 0.7261, Acurácia Teste: 62.86%\n"
     ]
    },
    {
     "name": "stderr",
     "output_type": "stream",
     "text": [
      "Época 15/50 [Treino]: 100%|██████████| 320/320 [00:29<00:00, 10.80it/s, acc=79.1, loss=0.373]\n",
      "Época 15/50 [Teste]: 100%|██████████| 40/40 [00:10<00:00,  3.93it/s, acc=67.1, loss=0.702]\n"
     ]
    },
    {
     "name": "stdout",
     "output_type": "stream",
     "text": [
      "Época [15/50], Perda Treino: 0.4649, Acurácia Treino: 79.06%, Perda Teste: 0.6725, Acurácia Teste: 67.08%\n"
     ]
    },
    {
     "name": "stderr",
     "output_type": "stream",
     "text": [
      "Época 16/50 [Treino]: 100%|██████████| 320/320 [00:28<00:00, 11.10it/s, acc=79.8, loss=0.661]\n",
      "Época 16/50 [Teste]: 100%|██████████| 40/40 [00:10<00:00,  3.96it/s, acc=70.8, loss=0.974]\n"
     ]
    },
    {
     "name": "stdout",
     "output_type": "stream",
     "text": [
      "Época [16/50], Perda Treino: 0.4572, Acurácia Treino: 79.80%, Perda Teste: 0.6578, Acurácia Teste: 70.76%\n"
     ]
    },
    {
     "name": "stderr",
     "output_type": "stream",
     "text": [
      "Época 17/50 [Treino]: 100%|██████████| 320/320 [00:29<00:00, 10.76it/s, acc=80, loss=0.44]   \n",
      "Época 17/50 [Teste]: 100%|██████████| 40/40 [00:10<00:00,  3.83it/s, acc=68.1, loss=0.912]\n"
     ]
    },
    {
     "name": "stdout",
     "output_type": "stream",
     "text": [
      "Época [17/50], Perda Treino: 0.4456, Acurácia Treino: 79.96%, Perda Teste: 0.6531, Acurácia Teste: 68.10%\n"
     ]
    },
    {
     "name": "stderr",
     "output_type": "stream",
     "text": [
      "Época 18/50 [Treino]: 100%|██████████| 320/320 [00:29<00:00, 10.97it/s, acc=80.5, loss=0.521]\n",
      "Época 18/50 [Teste]: 100%|██████████| 40/40 [00:10<00:00,  3.93it/s, acc=68.9, loss=1.06] \n"
     ]
    },
    {
     "name": "stdout",
     "output_type": "stream",
     "text": [
      "Época [18/50], Perda Treino: 0.4393, Acurácia Treino: 80.46%, Perda Teste: 0.6825, Acurácia Teste: 68.88%\n"
     ]
    },
    {
     "name": "stderr",
     "output_type": "stream",
     "text": [
      "Época 19/50 [Treino]: 100%|██████████| 320/320 [00:29<00:00, 11.00it/s, acc=80.7, loss=0.504]\n",
      "Época 19/50 [Teste]: 100%|██████████| 40/40 [00:10<00:00,  3.80it/s, acc=71.1, loss=0.835]\n"
     ]
    },
    {
     "name": "stdout",
     "output_type": "stream",
     "text": [
      "Época [19/50], Perda Treino: 0.4295, Acurácia Treino: 80.66%, Perda Teste: 0.6205, Acurácia Teste: 71.07%\n"
     ]
    },
    {
     "name": "stderr",
     "output_type": "stream",
     "text": [
      "Época 20/50 [Treino]: 100%|██████████| 320/320 [00:29<00:00, 10.71it/s, acc=80.6, loss=0.693]\n",
      "Época 20/50 [Teste]: 100%|██████████| 40/40 [00:10<00:00,  3.97it/s, acc=69.7, loss=0.631]\n"
     ]
    },
    {
     "name": "stdout",
     "output_type": "stream",
     "text": [
      "Época [20/50], Perda Treino: 0.4274, Acurácia Treino: 80.63%, Perda Teste: 0.6378, Acurácia Teste: 69.74%\n"
     ]
    },
    {
     "name": "stderr",
     "output_type": "stream",
     "text": [
      "Época 21/50 [Treino]: 100%|██████████| 320/320 [00:29<00:00, 10.67it/s, acc=81.3, loss=0.601]\n",
      "Época 21/50 [Teste]: 100%|██████████| 40/40 [00:10<00:00,  3.87it/s, acc=73.2, loss=0.914]\n"
     ]
    },
    {
     "name": "stdout",
     "output_type": "stream",
     "text": [
      "Época [21/50], Perda Treino: 0.4183, Acurácia Treino: 81.33%, Perda Teste: 0.5996, Acurácia Teste: 73.18%\n"
     ]
    },
    {
     "name": "stderr",
     "output_type": "stream",
     "text": [
      "Época 22/50 [Treino]: 100%|██████████| 320/320 [00:29<00:00, 10.84it/s, acc=81.7, loss=0.587]\n",
      "Época 22/50 [Teste]: 100%|██████████| 40/40 [00:10<00:00,  3.86it/s, acc=71.5, loss=0.697]\n"
     ]
    },
    {
     "name": "stdout",
     "output_type": "stream",
     "text": [
      "Época [22/50], Perda Treino: 0.4035, Acurácia Treino: 81.67%, Perda Teste: 0.6234, Acurácia Teste: 71.54%\n"
     ]
    },
    {
     "name": "stderr",
     "output_type": "stream",
     "text": [
      "Época 23/50 [Treino]: 100%|██████████| 320/320 [00:29<00:00, 10.80it/s, acc=82.1, loss=0.394]\n",
      "Época 23/50 [Teste]: 100%|██████████| 40/40 [00:10<00:00,  3.77it/s, acc=68, loss=0.893]  \n"
     ]
    },
    {
     "name": "stdout",
     "output_type": "stream",
     "text": [
      "Época [23/50], Perda Treino: 0.4040, Acurácia Treino: 82.10%, Perda Teste: 0.6229, Acurácia Teste: 68.02%\n"
     ]
    },
    {
     "name": "stderr",
     "output_type": "stream",
     "text": [
      "Época 24/50 [Treino]: 100%|██████████| 320/320 [00:29<00:00, 10.98it/s, acc=83.1, loss=0.345]\n",
      "Época 24/50 [Teste]: 100%|██████████| 40/40 [00:10<00:00,  3.90it/s, acc=70.9, loss=1.07] \n"
     ]
    },
    {
     "name": "stdout",
     "output_type": "stream",
     "text": [
      "Época [24/50], Perda Treino: 0.3883, Acurácia Treino: 83.07%, Perda Teste: 0.5885, Acurácia Teste: 70.91%\n"
     ]
    },
    {
     "name": "stderr",
     "output_type": "stream",
     "text": [
      "Época 25/50 [Treino]: 100%|██████████| 320/320 [00:30<00:00, 10.59it/s, acc=83.2, loss=0.258] \n",
      "Época 25/50 [Teste]: 100%|██████████| 40/40 [00:10<00:00,  3.86it/s, acc=72.5, loss=0.91] \n"
     ]
    },
    {
     "name": "stdout",
     "output_type": "stream",
     "text": [
      "Época [25/50], Perda Treino: 0.3870, Acurácia Treino: 83.20%, Perda Teste: 0.5936, Acurácia Teste: 72.48%\n"
     ]
    },
    {
     "name": "stderr",
     "output_type": "stream",
     "text": [
      "Época 26/50 [Treino]: 100%|██████████| 320/320 [00:30<00:00, 10.61it/s, acc=83.1, loss=0.439]\n",
      "Época 26/50 [Teste]: 100%|██████████| 40/40 [00:10<00:00,  3.78it/s, acc=75.1, loss=0.672]\n"
     ]
    },
    {
     "name": "stdout",
     "output_type": "stream",
     "text": [
      "Época [26/50], Perda Treino: 0.3844, Acurácia Treino: 83.11%, Perda Teste: 0.5704, Acurácia Teste: 75.06%\n"
     ]
    },
    {
     "name": "stderr",
     "output_type": "stream",
     "text": [
      "Época 27/50 [Treino]: 100%|██████████| 320/320 [00:29<00:00, 10.73it/s, acc=83.6, loss=0.413]\n",
      "Época 27/50 [Teste]: 100%|██████████| 40/40 [00:10<00:00,  3.79it/s, acc=75.8, loss=0.692]\n"
     ]
    },
    {
     "name": "stdout",
     "output_type": "stream",
     "text": [
      "Época [27/50], Perda Treino: 0.3736, Acurácia Treino: 83.56%, Perda Teste: 0.5555, Acurácia Teste: 75.76%\n"
     ]
    },
    {
     "name": "stderr",
     "output_type": "stream",
     "text": [
      "Época 28/50 [Treino]: 100%|██████████| 320/320 [00:29<00:00, 10.97it/s, acc=84, loss=0.313]  \n",
      "Época 28/50 [Teste]: 100%|██████████| 40/40 [00:10<00:00,  3.85it/s, acc=77.2, loss=0.749]\n"
     ]
    },
    {
     "name": "stdout",
     "output_type": "stream",
     "text": [
      "Época [28/50], Perda Treino: 0.3717, Acurácia Treino: 84.04%, Perda Teste: 0.5267, Acurácia Teste: 77.17%\n"
     ]
    },
    {
     "name": "stderr",
     "output_type": "stream",
     "text": [
      "Época 29/50 [Treino]: 100%|██████████| 320/320 [00:29<00:00, 10.95it/s, acc=84.2, loss=0.211]\n",
      "Época 29/50 [Teste]: 100%|██████████| 40/40 [00:10<00:00,  3.98it/s, acc=76.3, loss=0.757]\n"
     ]
    },
    {
     "name": "stdout",
     "output_type": "stream",
     "text": [
      "Época [29/50], Perda Treino: 0.3609, Acurácia Treino: 84.21%, Perda Teste: 0.5149, Acurácia Teste: 76.31%\n"
     ]
    },
    {
     "name": "stderr",
     "output_type": "stream",
     "text": [
      "Época 30/50 [Treino]: 100%|██████████| 320/320 [00:29<00:00, 10.72it/s, acc=84.4, loss=0.53] \n",
      "Época 30/50 [Teste]: 100%|██████████| 40/40 [00:10<00:00,  3.81it/s, acc=77.7, loss=0.636]\n"
     ]
    },
    {
     "name": "stdout",
     "output_type": "stream",
     "text": [
      "Época [30/50], Perda Treino: 0.3566, Acurácia Treino: 84.42%, Perda Teste: 0.5017, Acurácia Teste: 77.72%\n"
     ]
    },
    {
     "name": "stderr",
     "output_type": "stream",
     "text": [
      "Época 31/50 [Treino]: 100%|██████████| 320/320 [00:29<00:00, 10.75it/s, acc=84.3, loss=0.292]\n",
      "Época 31/50 [Teste]: 100%|██████████| 40/40 [00:10<00:00,  3.88it/s, acc=79.5, loss=0.693]\n"
     ]
    },
    {
     "name": "stdout",
     "output_type": "stream",
     "text": [
      "Época [31/50], Perda Treino: 0.3545, Acurácia Treino: 84.27%, Perda Teste: 0.4776, Acurácia Teste: 79.52%\n"
     ]
    },
    {
     "name": "stderr",
     "output_type": "stream",
     "text": [
      "Época 32/50 [Treino]: 100%|██████████| 320/320 [00:30<00:00, 10.65it/s, acc=85.4, loss=0.316]\n",
      "Época 32/50 [Teste]: 100%|██████████| 40/40 [00:10<00:00,  3.95it/s, acc=78, loss=0.637]  \n"
     ]
    },
    {
     "name": "stdout",
     "output_type": "stream",
     "text": [
      "Época [32/50], Perda Treino: 0.3432, Acurácia Treino: 85.35%, Perda Teste: 0.5164, Acurácia Teste: 78.03%\n"
     ]
    },
    {
     "name": "stderr",
     "output_type": "stream",
     "text": [
      "Época 33/50 [Treino]: 100%|██████████| 320/320 [00:29<00:00, 10.67it/s, acc=84.9, loss=0.568] \n",
      "Época 33/50 [Teste]: 100%|██████████| 40/40 [00:10<00:00,  3.92it/s, acc=78.2, loss=0.734]\n"
     ]
    },
    {
     "name": "stdout",
     "output_type": "stream",
     "text": [
      "Época [33/50], Perda Treino: 0.3480, Acurácia Treino: 84.85%, Perda Teste: 0.4760, Acurácia Teste: 78.19%\n"
     ]
    },
    {
     "name": "stderr",
     "output_type": "stream",
     "text": [
      "Época 34/50 [Treino]: 100%|██████████| 320/320 [00:29<00:00, 10.76it/s, acc=85.1, loss=0.313]\n",
      "Época 34/50 [Teste]: 100%|██████████| 40/40 [00:10<00:00,  3.84it/s, acc=79.3, loss=0.593]\n"
     ]
    },
    {
     "name": "stdout",
     "output_type": "stream",
     "text": [
      "Época [34/50], Perda Treino: 0.3430, Acurácia Treino: 85.09%, Perda Teste: 0.4807, Acurácia Teste: 79.28%\n"
     ]
    },
    {
     "name": "stderr",
     "output_type": "stream",
     "text": [
      "Época 35/50 [Treino]: 100%|██████████| 320/320 [00:30<00:00, 10.65it/s, acc=85.8, loss=0.643]\n",
      "Época 35/50 [Teste]: 100%|██████████| 40/40 [00:10<00:00,  3.89it/s, acc=76, loss=0.787]  \n"
     ]
    },
    {
     "name": "stdout",
     "output_type": "stream",
     "text": [
      "Época [35/50], Perda Treino: 0.3331, Acurácia Treino: 85.77%, Perda Teste: 0.5602, Acurácia Teste: 76.00%\n"
     ]
    },
    {
     "name": "stderr",
     "output_type": "stream",
     "text": [
      "Época 36/50 [Treino]: 100%|██████████| 320/320 [00:29<00:00, 10.67it/s, acc=85.7, loss=0.365]\n",
      "Época 36/50 [Teste]: 100%|██████████| 40/40 [00:10<00:00,  3.90it/s, acc=79.7, loss=0.819]\n"
     ]
    },
    {
     "name": "stdout",
     "output_type": "stream",
     "text": [
      "Época [36/50], Perda Treino: 0.3299, Acurácia Treino: 85.69%, Perda Teste: 0.4490, Acurácia Teste: 79.75%\n"
     ]
    },
    {
     "name": "stderr",
     "output_type": "stream",
     "text": [
      "Época 37/50 [Treino]: 100%|██████████| 320/320 [00:29<00:00, 10.68it/s, acc=85.3, loss=0.357]\n",
      "Época 37/50 [Teste]: 100%|██████████| 40/40 [00:10<00:00,  3.75it/s, acc=80.9, loss=0.409]\n"
     ]
    },
    {
     "name": "stdout",
     "output_type": "stream",
     "text": [
      "Época [37/50], Perda Treino: 0.3297, Acurácia Treino: 85.33%, Perda Teste: 0.4790, Acurácia Teste: 80.92%\n"
     ]
    },
    {
     "name": "stderr",
     "output_type": "stream",
     "text": [
      "Época 38/50 [Treino]: 100%|██████████| 320/320 [00:29<00:00, 10.73it/s, acc=85.6, loss=0.165] \n",
      "Época 38/50 [Teste]: 100%|██████████| 40/40 [00:10<00:00,  3.83it/s, acc=80.5, loss=0.49] \n"
     ]
    },
    {
     "name": "stdout",
     "output_type": "stream",
     "text": [
      "Época [38/50], Perda Treino: 0.3308, Acurácia Treino: 85.64%, Perda Teste: 0.4848, Acurácia Teste: 80.45%\n"
     ]
    },
    {
     "name": "stderr",
     "output_type": "stream",
     "text": [
      "Época 39/50 [Treino]: 100%|██████████| 320/320 [00:29<00:00, 10.79it/s, acc=85.8, loss=0.301] \n",
      "Época 39/50 [Teste]: 100%|██████████| 40/40 [00:10<00:00,  3.87it/s, acc=77.4, loss=0.748]\n"
     ]
    },
    {
     "name": "stdout",
     "output_type": "stream",
     "text": [
      "Época [39/50], Perda Treino: 0.3207, Acurácia Treino: 85.76%, Perda Teste: 0.4908, Acurácia Teste: 77.40%\n"
     ]
    },
    {
     "name": "stderr",
     "output_type": "stream",
     "text": [
      "Época 40/50 [Treino]: 100%|██████████| 320/320 [00:30<00:00, 10.66it/s, acc=86.6, loss=0.456] \n",
      "Época 40/50 [Teste]: 100%|██████████| 40/40 [00:10<00:00,  3.94it/s, acc=80.4, loss=0.732]\n"
     ]
    },
    {
     "name": "stdout",
     "output_type": "stream",
     "text": [
      "Época [40/50], Perda Treino: 0.3101, Acurácia Treino: 86.64%, Perda Teste: 0.4507, Acurácia Teste: 80.38%\n"
     ]
    },
    {
     "name": "stderr",
     "output_type": "stream",
     "text": [
      "Época 41/50 [Treino]: 100%|██████████| 320/320 [00:30<00:00, 10.62it/s, acc=86.7, loss=0.223] \n",
      "Época 41/50 [Teste]: 100%|██████████| 40/40 [00:10<00:00,  3.90it/s, acc=80.5, loss=0.84] \n"
     ]
    },
    {
     "name": "stdout",
     "output_type": "stream",
     "text": [
      "Época [41/50], Perda Treino: 0.3100, Acurácia Treino: 86.65%, Perda Teste: 0.4800, Acurácia Teste: 80.45%\n"
     ]
    },
    {
     "name": "stderr",
     "output_type": "stream",
     "text": [
      "Época 42/50 [Treino]: 100%|██████████| 320/320 [00:29<00:00, 10.76it/s, acc=86.5, loss=0.245] \n",
      "Época 42/50 [Teste]: 100%|██████████| 40/40 [00:10<00:00,  3.92it/s, acc=80.7, loss=0.598]\n"
     ]
    },
    {
     "name": "stdout",
     "output_type": "stream",
     "text": [
      "Época [42/50], Perda Treino: 0.3161, Acurácia Treino: 86.51%, Perda Teste: 0.4547, Acurácia Teste: 80.69%\n"
     ]
    },
    {
     "name": "stderr",
     "output_type": "stream",
     "text": [
      "Época 43/50 [Treino]: 100%|██████████| 320/320 [00:30<00:00, 10.44it/s, acc=86.1, loss=0.281] \n",
      "Época 43/50 [Teste]: 100%|██████████| 40/40 [00:10<00:00,  3.80it/s, acc=82.5, loss=0.533]\n"
     ]
    },
    {
     "name": "stdout",
     "output_type": "stream",
     "text": [
      "Época [43/50], Perda Treino: 0.3143, Acurácia Treino: 86.09%, Perda Teste: 0.4155, Acurácia Teste: 82.49%\n"
     ]
    },
    {
     "name": "stderr",
     "output_type": "stream",
     "text": [
      "Época 44/50 [Treino]: 100%|██████████| 320/320 [00:29<00:00, 10.91it/s, acc=86.4, loss=0.314]\n",
      "Época 44/50 [Teste]: 100%|██████████| 40/40 [00:10<00:00,  3.88it/s, acc=79.4, loss=0.647]\n"
     ]
    },
    {
     "name": "stdout",
     "output_type": "stream",
     "text": [
      "Época [44/50], Perda Treino: 0.3132, Acurácia Treino: 86.38%, Perda Teste: 0.4473, Acurácia Teste: 79.36%\n"
     ]
    },
    {
     "name": "stderr",
     "output_type": "stream",
     "text": [
      "Época 45/50 [Treino]: 100%|██████████| 320/320 [00:29<00:00, 10.84it/s, acc=87.3, loss=0.324] \n",
      "Época 45/50 [Teste]: 100%|██████████| 40/40 [00:10<00:00,  3.78it/s, acc=80.7, loss=0.651]\n"
     ]
    },
    {
     "name": "stdout",
     "output_type": "stream",
     "text": [
      "Época [45/50], Perda Treino: 0.3017, Acurácia Treino: 87.26%, Perda Teste: 0.4382, Acurácia Teste: 80.69%\n"
     ]
    },
    {
     "name": "stderr",
     "output_type": "stream",
     "text": [
      "Época 46/50 [Treino]: 100%|██████████| 320/320 [00:29<00:00, 10.73it/s, acc=87.3, loss=0.236]\n",
      "Época 46/50 [Teste]: 100%|██████████| 40/40 [00:10<00:00,  3.85it/s, acc=82.9, loss=0.574]\n"
     ]
    },
    {
     "name": "stdout",
     "output_type": "stream",
     "text": [
      "Época [46/50], Perda Treino: 0.2971, Acurácia Treino: 87.31%, Perda Teste: 0.4061, Acurácia Teste: 82.88%\n"
     ]
    },
    {
     "name": "stderr",
     "output_type": "stream",
     "text": [
      "Época 47/50 [Treino]: 100%|██████████| 320/320 [00:29<00:00, 10.90it/s, acc=87.1, loss=0.317] \n",
      "Época 47/50 [Teste]: 100%|██████████| 40/40 [00:10<00:00,  3.89it/s, acc=84.7, loss=0.554]\n"
     ]
    },
    {
     "name": "stdout",
     "output_type": "stream",
     "text": [
      "Época [47/50], Perda Treino: 0.3002, Acurácia Treino: 87.15%, Perda Teste: 0.3804, Acurácia Teste: 84.68%\n"
     ]
    },
    {
     "name": "stderr",
     "output_type": "stream",
     "text": [
      "Época 48/50 [Treino]: 100%|██████████| 320/320 [00:29<00:00, 10.84it/s, acc=87.6, loss=0.359] \n",
      "Época 48/50 [Teste]: 100%|██████████| 40/40 [00:10<00:00,  3.87it/s, acc=83.4, loss=0.361]\n"
     ]
    },
    {
     "name": "stdout",
     "output_type": "stream",
     "text": [
      "Época [48/50], Perda Treino: 0.2931, Acurácia Treino: 87.60%, Perda Teste: 0.4042, Acurácia Teste: 83.42%\n"
     ]
    },
    {
     "name": "stderr",
     "output_type": "stream",
     "text": [
      "Época 49/50 [Treino]: 100%|██████████| 320/320 [00:30<00:00, 10.52it/s, acc=87.3, loss=0.23]  \n",
      "Época 49/50 [Teste]: 100%|██████████| 40/40 [00:10<00:00,  3.87it/s, acc=83, loss=0.489]  \n"
     ]
    },
    {
     "name": "stdout",
     "output_type": "stream",
     "text": [
      "Época [49/50], Perda Treino: 0.2988, Acurácia Treino: 87.31%, Perda Teste: 0.4274, Acurácia Teste: 83.03%\n"
     ]
    },
    {
     "name": "stderr",
     "output_type": "stream",
     "text": [
      "Época 50/50 [Treino]: 100%|██████████| 320/320 [00:30<00:00, 10.49it/s, acc=87.7, loss=0.201]\n",
      "Época 50/50 [Teste]: 100%|██████████| 40/40 [00:10<00:00,  3.84it/s, acc=83.2, loss=0.596]"
     ]
    },
    {
     "name": "stdout",
     "output_type": "stream",
     "text": [
      "Época [50/50], Perda Treino: 0.2943, Acurácia Treino: 87.69%, Perda Teste: 0.4042, Acurácia Teste: 83.19%\n"
     ]
    },
    {
     "name": "stderr",
     "output_type": "stream",
     "text": [
      "\n"
     ]
    }
   ],
   "source": [
    "# Inicializa o modelo\n",
    "model = AlzheimerCNN(num_classes=4)\n",
    "\n",
    "# Função de perda e otimizador\n",
    "criterion = nn.CrossEntropyLoss()\n",
    "optimizer = optim.Adam(model.parameters(), lr=0.001)\n",
    "\n",
    "# Treina o modelo\n",
    "train_losses, train_accuracies, test_losses, test_accuracies = train_model(\n",
    "    model, train_loader, test_loader, criterion, optimizer, num_epochs=50\n",
    ")"
   ]
  },
  {
   "cell_type": "markdown",
   "metadata": {},
   "source": [
    "## Visualização dos Resultados do Treinamento"
   ]
  },
  {
   "cell_type": "code",
   "execution_count": 9,
   "metadata": {},
   "outputs": [
    {
     "data": {
      "image/png": "[encoded data removed]",
      "text/plain": [
       "<Figure size 1200x400 with 2 Axes>"
      ]
     },
     "metadata": {},
     "output_type": "display_data"
    }
   ],
   "source": [
    "plt.figure(figsize=(12, 4))\n",
    "\n",
    "plt.subplot(1, 2, 1)\n",
    "plt.plot(train_losses, label='Perda Treino')\n",
    "plt.plot(test_losses, label='Perda Teste')\n",
    "plt.title('Perda por Época')\n",
    "plt.xlabel('Época')\n",
    "plt.ylabel('Perda')\n",
    "plt.legend()\n",
    "\n",
    "plt.subplot(1, 2, 2)\n",
    "plt.plot(train_accuracies, label='Acurácia Treino')\n",
    "plt.plot(test_accuracies, label='Acurácia Teste')\n",
    "plt.title('Acurácia por Época')\n",
    "plt.xlabel('Época')\n",
    "plt.ylabel('Acurácia (%)')\n",
    "plt.legend()\n",
    "\n",
    "plt.tight_layout()\n",
    "plt.show()"
   ]
  },
  {
   "cell_type": "markdown",
   "metadata": {},
   "source": [
    "## Avaliação do Modelo\n",
    "\n",
    "Avaliação detalhada do desempenho do modelo."
   ]
  },
  {
   "cell_type": "code",
   "execution_count": 11,
   "metadata": {},
   "outputs": [
    {
     "name": "stderr",
     "output_type": "stream",
     "text": [
      "C:\\Users\\Lucas\\AppData\\Local\\Temp\\ipykernel_17268\\2164362886.py:36: FutureWarning: You are using `torch.load` with `weights_only=False` (the current default value), which uses the default pickle module implicitly. It is possible to construct malicious pickle data which will execute arbitrary code during unpickling (See https://github.com/pytorch/pytorch/blob/main/SECURITY.md#untrusted-models for more details). In a future release, the default value for `weights_only` will be flipped to `True`. This limits the functions that could be executed during unpickling. Arbitrary objects will no longer be allowed to be loaded via this mode unless they are explicitly allowlisted by the user via `torch.serialization.add_safe_globals`. We recommend you start setting `weights_only=True` for any use case where you don't have full control of the loaded file. Please open an issue on GitHub for any issues related to this experimental feature.\n",
      "  model.load_state_dict(torch.load('alzheimer_mri_model.pth'))\n",
      "Evaluating: 100%|██████████| 40/40 [00:10<00:00,  3.95it/s]"
     ]
    },
    {
     "name": "stdout",
     "output_type": "stream",
     "text": [
      "                      precision    recall  f1-score   support\n",
      "\n",
      "     Mild Impairment       0.98      0.96      0.97       179\n",
      " Moderate Impairment       1.00      1.00      1.00        12\n",
      "       No Impairment       0.96      0.97      0.96       640\n",
      "Very Mild Impairment       0.95      0.94      0.94       448\n",
      "\n",
      "            accuracy                           0.96      1279\n",
      "           macro avg       0.97      0.97      0.97      1279\n",
      "        weighted avg       0.96      0.96      0.96      1279\n",
      "\n",
      "Confusion Matrix:\n"
     ]
    },
    {
     "name": "stderr",
     "output_type": "stream",
     "text": [
      "\n"
     ]
    },
    {
     "data": {
      "image/png": "[encoded data removed]",
      "text/plain": [
       "<Figure size 800x600 with 2 Axes>"
      ]
     },
     "metadata": {},
     "output_type": "display_data"
    }
   ],
   "source": [
    "def evaluate_model(model, test_loader):\n",
    "    device = torch.device(\"cuda\" if torch.cuda.is_available() else \"cpu\")\n",
    "    model = model.to(device)\n",
    "    model.eval()\n",
    "    \n",
    "    all_preds = []\n",
    "    all_labels = []\n",
    "    \n",
    "    with torch.no_grad():\n",
    "        for images, labels in tqdm(test_loader, desc='Evaluating'):\n",
    "            images, labels = images.to(device), labels.to(device)\n",
    "            outputs = model(images)\n",
    "            _, predicted = torch.max(outputs, 1)\n",
    "            \n",
    "            all_preds.extend(predicted.cpu().numpy())\n",
    "            all_labels.extend(labels.cpu().numpy())\n",
    "    \n",
    "    # Print classification report\n",
    "    print(classification_report(all_labels, all_preds, target_names=class_to_idx.keys()))\n",
    "    \n",
    "    # Print confusion matrix\n",
    "    print(\"Confusion Matrix:\")\n",
    "    le = LabelEncoder()\n",
    "    le.fit_transform(all_labels)\n",
    "    cm = confusion_matrix(all_labels, all_preds)\n",
    "    plt.figure(figsize=(8, 6))\n",
    "    sns.heatmap(cm, annot=True, fmt='d', cmap='Blues', xticklabels=le.classes_, yticklabels=le.classes_)\n",
    "    plt.title('Matriz de Confusão')\n",
    "    plt.xlabel('Predito')\n",
    "    plt.ylabel('Verdadeiro')\n",
    "    plt.show()\n",
    "    \n",
    "    return all_preds, all_labels\n",
    "\n",
    "# Load best model\n",
    "model.load_state_dict(torch.load('alzheimer_mri_model.pth'))\n",
    "\n",
    "# Evaluate\n",
    "predictions, true_labels = evaluate_model(model, test_loader)"
   ]
  }
 ],
 "metadata": {
  "kernelspec": {
   "display_name": "Python 3",
   "language": "python",
   "name": "python3"
  },
  "language_info": {
   "codemirror_mode": {
    "name": "ipython",
    "version": 3
   },
   "file_extension": ".py",
   "mimetype": "text/x-python",
   "name": "python",
   "nbconvert_exporter": "python",
   "pygments_lexer": "ipython3",
   "version": "3.10.6"
  }
 },
 "nbformat": 4,
 "nbformat_minor": 4
}
