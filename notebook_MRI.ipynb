{
 "cells": [
  {
   "cell_type": "markdown",
   "metadata": {},
   "source": [
    "# Detecção de Alzheimer com CNN Invariante à Resolução\n",
    "\n",
    "Este notebook implementa um modelo CNN para detecção da doença de Alzheimer que pode lidar com imagens de diferentes resoluções mantendo alta precisão."
   ]
  },
  {
   "cell_type": "code",
   "execution_count": 6,
   "metadata": {},
   "outputs": [
    {
     "name": "stdout",
     "output_type": "stream",
     "text": [
      "cuda\n"
     ]
    }
   ],
   "source": [
    "import torch\n",
    "import torch.nn as nn\n",
    "import torch.optim as optim\n",
    "from torch.utils.data import DataLoader\n",
    "from torchvision import datasets, transforms, models\n",
    "from sklearn.metrics import classification_report, confusion_matrix\n",
    "from sklearn.preprocessing import LabelEncoder\n",
    "import matplotlib.pyplot as plt\n",
    "import numpy as np\n",
    "import os\n",
    "import seaborn as sns\n",
    "from tqdm import tqdm\n",
    "import json\n",
    "from models.AlzheimerCNN import AlzheimerCNN\n",
    "\n",
    "device = torch.device(\"cuda\" if torch.cuda.is_available() else \"cpu\")\n",
    "print(device)"
   ]
  },
  {
   "cell_type": "markdown",
   "metadata": {},
   "source": [
    "## Pré-processamento dos Dados\n",
    "\n",
    "O pipeline de pré-processamento é projetado para lidar com diferentes tamanhos de imagem mantendo as proporções e adicionando robustez através de aumento de dados."
   ]
  },
  {
   "cell_type": "code",
   "execution_count": 7,
   "metadata": {},
   "outputs": [],
   "source": [
    "train_transform = transforms.Compose([\n",
    "    transforms.Resize((128, 128)),\n",
    "    transforms.RandomHorizontalFlip(),  # Data augmentation\n",
    "    transforms.RandomRotation(10),\n",
    "    transforms.ToTensor(),\n",
    "    transforms.Normalize(mean=[0.485, 0.456, 0.406], std=[0.229, 0.224, 0.225])\n",
    "])\n",
    "\n",
    "test_transform = transforms.Compose([\n",
    "    transforms.Resize((128, 128)),\n",
    "    transforms.ToTensor(),\n",
    "    transforms.Normalize(mean=[0.485, 0.456, 0.406], std=[0.229, 0.224, 0.225])\n",
    "])"
   ]
  },
  {
   "cell_type": "markdown",
   "metadata": {},
   "source": [
    "## Carregando o Dataset\n",
    "\n",
    "Carrega os datasets de treinamento e teste com as novas transformações."
   ]
  },
  {
   "cell_type": "code",
   "execution_count": 8,
   "metadata": {},
   "outputs": [
    {
     "name": "stdout",
     "output_type": "stream",
     "text": [
      "Mapeamento de Classes:\n",
      "0: Mild Impairment\n",
      "1: Moderate Impairment\n",
      "2: No Impairment\n",
      "3: Very Mild Impairment\n"
     ]
    }
   ],
   "source": [
    "# Atualize estes caminhos para as localizações do seu dataset\n",
    "train_dataset = datasets.ImageFolder(root='D:/Projetos/TrabalhoFinalDataScience/AlzheimerEarlyDetection/datasets/train', transform=train_transform)\n",
    "test_dataset = datasets.ImageFolder(root='D:/Projetos/TrabalhoFinalDataScience/AlzheimerEarlyDetection/datasets/test', transform=test_transform)\n",
    "\n",
    "train_loader = DataLoader(train_dataset, batch_size=32, shuffle=True, num_workers=4)\n",
    "test_loader = DataLoader(test_dataset, batch_size=32, shuffle=False, num_workers=4)\n",
    "\n",
    "# Criar o mapeamento de classes com base no class_to_idx\n",
    "CLASS_MAPPING = {str(idx): class_name for class_name, idx in train_dataset.class_to_idx.items()}\n",
    "\n",
    "# Imprime o mapeamento das classes\n",
    "class_to_idx = train_dataset.class_to_idx\n",
    "print(\"Mapeamento de Classes:\")\n",
    "for class_name, class_index in class_to_idx.items():\n",
    "    print(f\"{class_index}: {class_name}\")\n",
    "\n",
    "# Salvar o mapeamento de classes\n",
    "with open('models/class_mapping.json', 'w') as f:\n",
    "    json.dump(CLASS_MAPPING, f)"
   ]
  },
  {
   "cell_type": "markdown",
   "metadata": {},
   "source": [
    "## Treinamento do Modelo\n",
    "\n",
    "Loop de treinamento com acompanhamento de progresso e salvamento do modelo."
   ]
  },
  {
   "cell_type": "code",
   "execution_count": 9,
   "metadata": {},
   "outputs": [],
   "source": [
    "def train_model(model, train_loader, test_loader, criterion, optimizer, num_epochs=100):\n",
    "    device = torch.device(\"cuda\" if torch.cuda.is_available() else \"cpu\")\n",
    "    model = model.to(device)\n",
    "    \n",
    "    train_losses = []\n",
    "    train_accuracies = []\n",
    "    test_losses = []\n",
    "    test_accuracies = []\n",
    "    \n",
    "    best_accuracy = 0.0\n",
    "    \n",
    "    for epoch in range(num_epochs):\n",
    "        # Fase de treinamento\n",
    "        model.train()\n",
    "        running_loss = 0.0\n",
    "        correct = 0\n",
    "        total = 0\n",
    "        \n",
    "        train_loop = tqdm(train_loader, desc=f'Época {epoch+1}/{num_epochs} [Treino]')\n",
    "        for images, labels in train_loop:\n",
    "            images, labels = images.to(device), labels.to(device)\n",
    "            \n",
    "            optimizer.zero_grad()\n",
    "            outputs = model(images)\n",
    "            loss = criterion(outputs, labels)\n",
    "            loss.backward()\n",
    "            optimizer.step()\n",
    "            \n",
    "            running_loss += loss.item()\n",
    "            _, predicted = torch.max(outputs, 1)\n",
    "            total += labels.size(0)\n",
    "            correct += (predicted == labels).sum().item()\n",
    "            \n",
    "            train_loop.set_postfix(loss=loss.item(), acc=100.*correct/total)\n",
    "        \n",
    "        epoch_loss = running_loss / len(train_loader)\n",
    "        epoch_accuracy = 100 * correct / total\n",
    "        train_losses.append(epoch_loss)\n",
    "        train_accuracies.append(epoch_accuracy)\n",
    "        \n",
    "        # Fase de teste\n",
    "        model.eval()\n",
    "        test_loss = 0.0\n",
    "        test_correct = 0\n",
    "        test_total = 0\n",
    "        \n",
    "        with torch.no_grad():\n",
    "            test_loop = tqdm(test_loader, desc=f'Época {epoch+1}/{num_epochs} [Teste]')\n",
    "            for images, labels in test_loop:\n",
    "                images, labels = images.to(device), labels.to(device)\n",
    "                outputs = model(images)\n",
    "                loss = criterion(outputs, labels)\n",
    "                \n",
    "                test_loss += loss.item()\n",
    "                _, predicted = torch.max(outputs, 1)\n",
    "                test_total += labels.size(0)\n",
    "                test_correct += (predicted == labels).sum().item()\n",
    "                \n",
    "                test_loop.set_postfix(loss=loss.item(), acc=100.*test_correct/test_total)\n",
    "        \n",
    "        test_epoch_loss = test_loss / len(test_loader)\n",
    "        test_epoch_accuracy = 100 * test_correct / test_total\n",
    "        test_losses.append(test_epoch_loss)\n",
    "        test_accuracies.append(test_epoch_accuracy)\n",
    "        \n",
    "        # Salva o melhor modelo\n",
    "        if test_epoch_accuracy > best_accuracy:\n",
    "            best_accuracy = test_epoch_accuracy\n",
    "            torch.save(model.state_dict(), 'models/alzheimer_mri_model.pth')\n",
    "        \n",
    "        print(f'Época [{epoch+1}/{num_epochs}], '\n",
    "              f'Perda Treino: {epoch_loss:.4f}, Acurácia Treino: {epoch_accuracy:.2f}%, '\n",
    "              f'Perda Teste: {test_epoch_loss:.4f}, Acurácia Teste: {test_epoch_accuracy:.2f}%')\n",
    "    \n",
    "    return train_losses, train_accuracies, test_losses, test_accuracies"
   ]
  },
  {
   "cell_type": "markdown",
   "metadata": {},
   "source": [
    "## Inicializa e Treina o Modelo"
   ]
  },
  {
   "cell_type": "code",
   "execution_count": 10,
   "metadata": {},
   "outputs": [
    {
     "name": "stderr",
     "output_type": "stream",
     "text": [
      "Época 1/50 [Treino]: 100%|██████████| 320/320 [00:17<00:00, 17.85it/s, acc=49.6, loss=0.982]\n",
      "Época 1/50 [Teste]: 100%|██████████| 40/40 [00:09<00:00,  4.26it/s, acc=54.7, loss=0.788]\n"
     ]
    },
    {
     "name": "stdout",
     "output_type": "stream",
     "text": [
      "Época [1/50], Perda Treino: 1.0775, Acurácia Treino: 49.63%, Perda Teste: 0.9558, Acurácia Teste: 54.65%\n"
     ]
    },
    {
     "name": "stderr",
     "output_type": "stream",
     "text": [
      "Época 2/50 [Treino]: 100%|██████████| 320/320 [00:17<00:00, 17.97it/s, acc=68.2, loss=0.711]\n",
      "Época 2/50 [Teste]: 100%|██████████| 40/40 [00:09<00:00,  4.24it/s, acc=58.7, loss=0.857]\n"
     ]
    },
    {
     "name": "stdout",
     "output_type": "stream",
     "text": [
      "Época [2/50], Perda Treino: 0.6878, Acurácia Treino: 68.24%, Perda Teste: 0.8067, Acurácia Teste: 58.72%\n"
     ]
    },
    {
     "name": "stderr",
     "output_type": "stream",
     "text": [
      "Época 3/50 [Treino]: 100%|██████████| 320/320 [00:19<00:00, 16.46it/s, acc=72.6, loss=0.417]\n",
      "Época 3/50 [Teste]: 100%|██████████| 40/40 [00:09<00:00,  4.20it/s, acc=61.7, loss=0.888]\n"
     ]
    },
    {
     "name": "stdout",
     "output_type": "stream",
     "text": [
      "Época [3/50], Perda Treino: 0.6107, Acurácia Treino: 72.56%, Perda Teste: 0.7817, Acurácia Teste: 61.69%\n"
     ]
    },
    {
     "name": "stderr",
     "output_type": "stream",
     "text": [
      "Época 4/50 [Treino]: 100%|██████████| 320/320 [00:18<00:00, 17.15it/s, acc=74.7, loss=0.627]\n",
      "Época 4/50 [Teste]: 100%|██████████| 40/40 [00:09<00:00,  4.18it/s, acc=62.9, loss=0.569]\n"
     ]
    },
    {
     "name": "stdout",
     "output_type": "stream",
     "text": [
      "Época [4/50], Perda Treino: 0.5622, Acurácia Treino: 74.73%, Perda Teste: 0.7604, Acurácia Teste: 62.94%\n"
     ]
    },
    {
     "name": "stderr",
     "output_type": "stream",
     "text": [
      "Época 5/50 [Treino]: 100%|██████████| 320/320 [00:18<00:00, 17.34it/s, acc=76.1, loss=0.568]\n",
      "Época 5/50 [Teste]: 100%|██████████| 40/40 [00:09<00:00,  4.09it/s, acc=63.7, loss=0.749]\n"
     ]
    },
    {
     "name": "stdout",
     "output_type": "stream",
     "text": [
      "Época [5/50], Perda Treino: 0.5296, Acurácia Treino: 76.13%, Perda Teste: 0.7501, Acurácia Teste: 63.72%\n"
     ]
    },
    {
     "name": "stderr",
     "output_type": "stream",
     "text": [
      "Época 6/50 [Treino]: 100%|██████████| 320/320 [00:19<00:00, 16.69it/s, acc=77.4, loss=0.602]\n",
      "Época 6/50 [Teste]: 100%|██████████| 40/40 [00:09<00:00,  4.08it/s, acc=64.3, loss=0.764]\n"
     ]
    },
    {
     "name": "stdout",
     "output_type": "stream",
     "text": [
      "Época [6/50], Perda Treino: 0.5053, Acurácia Treino: 77.41%, Perda Teste: 0.7330, Acurácia Teste: 64.35%\n"
     ]
    },
    {
     "name": "stderr",
     "output_type": "stream",
     "text": [
      "Época 7/50 [Treino]: 100%|██████████| 320/320 [00:18<00:00, 16.93it/s, acc=78.7, loss=0.523]\n",
      "Época 7/50 [Teste]: 100%|██████████| 40/40 [00:09<00:00,  4.19it/s, acc=65.1, loss=0.542]\n"
     ]
    },
    {
     "name": "stdout",
     "output_type": "stream",
     "text": [
      "Época [7/50], Perda Treino: 0.4845, Acurácia Treino: 78.68%, Perda Teste: 0.7050, Acurácia Teste: 65.13%\n"
     ]
    },
    {
     "name": "stderr",
     "output_type": "stream",
     "text": [
      "Época 8/50 [Treino]: 100%|██████████| 320/320 [00:18<00:00, 16.93it/s, acc=79.5, loss=0.415]\n",
      "Época 8/50 [Teste]: 100%|██████████| 40/40 [00:09<00:00,  4.24it/s, acc=66.4, loss=0.62] \n"
     ]
    },
    {
     "name": "stdout",
     "output_type": "stream",
     "text": [
      "Época [8/50], Perda Treino: 0.4491, Acurácia Treino: 79.51%, Perda Teste: 0.7313, Acurácia Teste: 66.38%\n"
     ]
    },
    {
     "name": "stderr",
     "output_type": "stream",
     "text": [
      "Época 9/50 [Treino]: 100%|██████████| 320/320 [00:19<00:00, 16.69it/s, acc=80.2, loss=0.398]\n",
      "Época 9/50 [Teste]: 100%|██████████| 40/40 [00:09<00:00,  4.16it/s, acc=69.4, loss=0.617]\n"
     ]
    },
    {
     "name": "stdout",
     "output_type": "stream",
     "text": [
      "Época [9/50], Perda Treino: 0.4410, Acurácia Treino: 80.21%, Perda Teste: 0.6744, Acurácia Teste: 69.35%\n"
     ]
    },
    {
     "name": "stderr",
     "output_type": "stream",
     "text": [
      "Época 10/50 [Treino]: 100%|██████████| 320/320 [00:19<00:00, 16.72it/s, acc=81.5, loss=0.493]\n",
      "Época 10/50 [Teste]: 100%|██████████| 40/40 [00:09<00:00,  4.22it/s, acc=69.5, loss=0.773]\n"
     ]
    },
    {
     "name": "stdout",
     "output_type": "stream",
     "text": [
      "Época [10/50], Perda Treino: 0.4262, Acurácia Treino: 81.49%, Perda Teste: 0.6265, Acurácia Teste: 69.51%\n"
     ]
    },
    {
     "name": "stderr",
     "output_type": "stream",
     "text": [
      "Época 11/50 [Treino]: 100%|██████████| 320/320 [00:18<00:00, 16.90it/s, acc=82.5, loss=0.265]\n",
      "Época 11/50 [Teste]: 100%|██████████| 40/40 [00:09<00:00,  4.15it/s, acc=69, loss=0.61]   \n"
     ]
    },
    {
     "name": "stdout",
     "output_type": "stream",
     "text": [
      "Época [11/50], Perda Treino: 0.4021, Acurácia Treino: 82.52%, Perda Teste: 0.6406, Acurácia Teste: 68.96%\n"
     ]
    },
    {
     "name": "stderr",
     "output_type": "stream",
     "text": [
      "Época 12/50 [Treino]: 100%|██████████| 320/320 [00:19<00:00, 16.70it/s, acc=82.5, loss=0.208]\n",
      "Época 12/50 [Teste]: 100%|██████████| 40/40 [00:09<00:00,  4.06it/s, acc=73.1, loss=0.573]\n"
     ]
    },
    {
     "name": "stdout",
     "output_type": "stream",
     "text": [
      "Época [12/50], Perda Treino: 0.3991, Acurácia Treino: 82.50%, Perda Teste: 0.5833, Acurácia Teste: 73.10%\n"
     ]
    },
    {
     "name": "stderr",
     "output_type": "stream",
     "text": [
      "Época 13/50 [Treino]: 100%|██████████| 320/320 [00:18<00:00, 17.09it/s, acc=84, loss=0.363]  \n",
      "Época 13/50 [Teste]: 100%|██████████| 40/40 [00:09<00:00,  4.22it/s, acc=72, loss=0.606]  \n"
     ]
    },
    {
     "name": "stdout",
     "output_type": "stream",
     "text": [
      "Época [13/50], Perda Treino: 0.3754, Acurácia Treino: 84.00%, Perda Teste: 0.5854, Acurácia Teste: 72.01%\n"
     ]
    },
    {
     "name": "stderr",
     "output_type": "stream",
     "text": [
      "Época 14/50 [Treino]: 100%|██████████| 320/320 [00:19<00:00, 16.75it/s, acc=83.8, loss=0.251]\n",
      "Época 14/50 [Teste]: 100%|██████████| 40/40 [00:09<00:00,  4.15it/s, acc=72.3, loss=0.616]\n"
     ]
    },
    {
     "name": "stdout",
     "output_type": "stream",
     "text": [
      "Época [14/50], Perda Treino: 0.3688, Acurácia Treino: 83.77%, Perda Teste: 0.5706, Acurácia Teste: 72.32%\n"
     ]
    },
    {
     "name": "stderr",
     "output_type": "stream",
     "text": [
      "Época 15/50 [Treino]: 100%|██████████| 320/320 [00:18<00:00, 16.85it/s, acc=84.4, loss=0.428]\n",
      "Época 15/50 [Teste]: 100%|██████████| 40/40 [00:09<00:00,  4.16it/s, acc=73.4, loss=0.476]\n"
     ]
    },
    {
     "name": "stdout",
     "output_type": "stream",
     "text": [
      "Época [15/50], Perda Treino: 0.3621, Acurácia Treino: 84.37%, Perda Teste: 0.5525, Acurácia Teste: 73.42%\n"
     ]
    },
    {
     "name": "stderr",
     "output_type": "stream",
     "text": [
      "Época 16/50 [Treino]: 100%|██████████| 320/320 [00:19<00:00, 16.73it/s, acc=84.9, loss=0.26]  \n",
      "Época 16/50 [Teste]: 100%|██████████| 40/40 [00:09<00:00,  4.15it/s, acc=73.2, loss=0.396]\n"
     ]
    },
    {
     "name": "stdout",
     "output_type": "stream",
     "text": [
      "Época [16/50], Perda Treino: 0.3435, Acurácia Treino: 84.91%, Perda Teste: 0.6031, Acurácia Teste: 73.18%\n"
     ]
    },
    {
     "name": "stderr",
     "output_type": "stream",
     "text": [
      "Época 17/50 [Treino]: 100%|██████████| 320/320 [00:18<00:00, 17.00it/s, acc=85.3, loss=0.216]\n",
      "Época 17/50 [Teste]: 100%|██████████| 40/40 [00:09<00:00,  4.30it/s, acc=75.8, loss=0.795]\n"
     ]
    },
    {
     "name": "stdout",
     "output_type": "stream",
     "text": [
      "Época [17/50], Perda Treino: 0.3401, Acurácia Treino: 85.31%, Perda Teste: 0.5456, Acurácia Teste: 75.76%\n"
     ]
    },
    {
     "name": "stderr",
     "output_type": "stream",
     "text": [
      "Época 18/50 [Treino]: 100%|██████████| 320/320 [00:18<00:00, 17.61it/s, acc=85.2, loss=0.215] \n",
      "Época 18/50 [Teste]: 100%|██████████| 40/40 [00:09<00:00,  4.15it/s, acc=76.4, loss=0.636]\n"
     ]
    },
    {
     "name": "stdout",
     "output_type": "stream",
     "text": [
      "Época [18/50], Perda Treino: 0.3387, Acurácia Treino: 85.20%, Perda Teste: 0.5098, Acurácia Teste: 76.39%\n"
     ]
    },
    {
     "name": "stderr",
     "output_type": "stream",
     "text": [
      "Época 19/50 [Treino]: 100%|██████████| 320/320 [00:18<00:00, 17.30it/s, acc=86.1, loss=0.4]   \n",
      "Época 19/50 [Teste]: 100%|██████████| 40/40 [00:09<00:00,  4.21it/s, acc=78.3, loss=0.586]\n"
     ]
    },
    {
     "name": "stdout",
     "output_type": "stream",
     "text": [
      "Época [19/50], Perda Treino: 0.3282, Acurácia Treino: 86.10%, Perda Teste: 0.4751, Acurácia Teste: 78.26%\n"
     ]
    },
    {
     "name": "stderr",
     "output_type": "stream",
     "text": [
      "Época 20/50 [Treino]: 100%|██████████| 320/320 [00:18<00:00, 17.47it/s, acc=86.7, loss=0.595] \n",
      "Época 20/50 [Teste]: 100%|██████████| 40/40 [00:09<00:00,  4.24it/s, acc=78.1, loss=0.536]\n"
     ]
    },
    {
     "name": "stdout",
     "output_type": "stream",
     "text": [
      "Época [20/50], Perda Treino: 0.3136, Acurácia Treino: 86.66%, Perda Teste: 0.5042, Acurácia Teste: 78.11%\n"
     ]
    },
    {
     "name": "stderr",
     "output_type": "stream",
     "text": [
      "Época 21/50 [Treino]: 100%|██████████| 320/320 [00:18<00:00, 17.70it/s, acc=86.7, loss=0.239]\n",
      "Época 21/50 [Teste]: 100%|██████████| 40/40 [00:09<00:00,  4.30it/s, acc=79.3, loss=0.694]\n"
     ]
    },
    {
     "name": "stdout",
     "output_type": "stream",
     "text": [
      "Época [21/50], Perda Treino: 0.3074, Acurácia Treino: 86.73%, Perda Teste: 0.4552, Acurácia Teste: 79.28%\n"
     ]
    },
    {
     "name": "stderr",
     "output_type": "stream",
     "text": [
      "Época 22/50 [Treino]: 100%|██████████| 320/320 [00:18<00:00, 17.27it/s, acc=87.4, loss=0.127] \n",
      "Época 22/50 [Teste]: 100%|██████████| 40/40 [00:09<00:00,  4.19it/s, acc=81.3, loss=0.52] \n"
     ]
    },
    {
     "name": "stdout",
     "output_type": "stream",
     "text": [
      "Época [22/50], Perda Treino: 0.2937, Acurácia Treino: 87.41%, Perda Teste: 0.4206, Acurácia Teste: 81.31%\n"
     ]
    },
    {
     "name": "stderr",
     "output_type": "stream",
     "text": [
      "Época 23/50 [Treino]: 100%|██████████| 320/320 [00:18<00:00, 17.41it/s, acc=87.6, loss=0.455] \n",
      "Época 23/50 [Teste]: 100%|██████████| 40/40 [00:09<00:00,  4.19it/s, acc=82.6, loss=0.503]\n"
     ]
    },
    {
     "name": "stdout",
     "output_type": "stream",
     "text": [
      "Época [23/50], Perda Treino: 0.2946, Acurácia Treino: 87.56%, Perda Teste: 0.4081, Acurácia Teste: 82.56%\n"
     ]
    },
    {
     "name": "stderr",
     "output_type": "stream",
     "text": [
      "Época 24/50 [Treino]: 100%|██████████| 320/320 [00:18<00:00, 17.64it/s, acc=87.8, loss=0.191] \n",
      "Época 24/50 [Teste]: 100%|██████████| 40/40 [00:09<00:00,  4.29it/s, acc=81.6, loss=0.31] \n"
     ]
    },
    {
     "name": "stdout",
     "output_type": "stream",
     "text": [
      "Época [24/50], Perda Treino: 0.2833, Acurácia Treino: 87.79%, Perda Teste: 0.4407, Acurácia Teste: 81.63%\n"
     ]
    },
    {
     "name": "stderr",
     "output_type": "stream",
     "text": [
      "Época 25/50 [Treino]: 100%|██████████| 320/320 [00:18<00:00, 17.55it/s, acc=88.6, loss=0.34]  \n",
      "Época 25/50 [Teste]: 100%|██████████| 40/40 [00:09<00:00,  4.20it/s, acc=82.4, loss=0.606]\n"
     ]
    },
    {
     "name": "stdout",
     "output_type": "stream",
     "text": [
      "Época [25/50], Perda Treino: 0.2732, Acurácia Treino: 88.60%, Perda Teste: 0.4046, Acurácia Teste: 82.41%\n"
     ]
    },
    {
     "name": "stderr",
     "output_type": "stream",
     "text": [
      "Época 26/50 [Treino]: 100%|██████████| 320/320 [00:18<00:00, 17.56it/s, acc=88.1, loss=0.141] \n",
      "Época 26/50 [Teste]: 100%|██████████| 40/40 [00:09<00:00,  4.20it/s, acc=82.9, loss=0.515]\n"
     ]
    },
    {
     "name": "stdout",
     "output_type": "stream",
     "text": [
      "Época [26/50], Perda Treino: 0.2796, Acurácia Treino: 88.10%, Perda Teste: 0.3973, Acurácia Teste: 82.88%\n"
     ]
    },
    {
     "name": "stderr",
     "output_type": "stream",
     "text": [
      "Época 27/50 [Treino]: 100%|██████████| 320/320 [00:18<00:00, 17.36it/s, acc=88.3, loss=0.183] \n",
      "Época 27/50 [Teste]: 100%|██████████| 40/40 [00:09<00:00,  4.36it/s, acc=85.8, loss=0.479]\n"
     ]
    },
    {
     "name": "stdout",
     "output_type": "stream",
     "text": [
      "Época [27/50], Perda Treino: 0.2761, Acurácia Treino: 88.31%, Perda Teste: 0.3545, Acurácia Teste: 85.77%\n"
     ]
    },
    {
     "name": "stderr",
     "output_type": "stream",
     "text": [
      "Época 28/50 [Treino]: 100%|██████████| 320/320 [00:18<00:00, 17.26it/s, acc=89.1, loss=0.228] \n",
      "Época 28/50 [Teste]: 100%|██████████| 40/40 [00:09<00:00,  4.21it/s, acc=84.9, loss=0.653] \n"
     ]
    },
    {
     "name": "stdout",
     "output_type": "stream",
     "text": [
      "Época [28/50], Perda Treino: 0.2636, Acurácia Treino: 89.07%, Perda Teste: 0.3629, Acurácia Teste: 84.91%\n"
     ]
    },
    {
     "name": "stderr",
     "output_type": "stream",
     "text": [
      "Época 29/50 [Treino]: 100%|██████████| 320/320 [00:18<00:00, 17.58it/s, acc=89.3, loss=0.0636]\n",
      "Época 29/50 [Teste]: 100%|██████████| 40/40 [00:09<00:00,  4.27it/s, acc=85.8, loss=0.523] \n"
     ]
    },
    {
     "name": "stdout",
     "output_type": "stream",
     "text": [
      "Época [29/50], Perda Treino: 0.2588, Acurácia Treino: 89.33%, Perda Teste: 0.3662, Acurácia Teste: 85.77%\n"
     ]
    },
    {
     "name": "stderr",
     "output_type": "stream",
     "text": [
      "Época 30/50 [Treino]: 100%|██████████| 320/320 [00:18<00:00, 17.59it/s, acc=90, loss=0.284]   \n",
      "Época 30/50 [Teste]: 100%|██████████| 40/40 [00:09<00:00,  4.26it/s, acc=86.8, loss=0.266]\n"
     ]
    },
    {
     "name": "stdout",
     "output_type": "stream",
     "text": [
      "Época [30/50], Perda Treino: 0.2445, Acurácia Treino: 89.95%, Perda Teste: 0.3297, Acurácia Teste: 86.79%\n"
     ]
    },
    {
     "name": "stderr",
     "output_type": "stream",
     "text": [
      "Época 31/50 [Treino]: 100%|██████████| 320/320 [00:18<00:00, 17.49it/s, acc=89.8, loss=0.144] \n",
      "Época 31/50 [Teste]: 100%|██████████| 40/40 [00:09<00:00,  4.22it/s, acc=88, loss=0.301]  \n"
     ]
    },
    {
     "name": "stdout",
     "output_type": "stream",
     "text": [
      "Época [31/50], Perda Treino: 0.2461, Acurácia Treino: 89.78%, Perda Teste: 0.3247, Acurácia Teste: 88.04%\n"
     ]
    },
    {
     "name": "stderr",
     "output_type": "stream",
     "text": [
      "Época 32/50 [Treino]: 100%|██████████| 320/320 [00:18<00:00, 17.71it/s, acc=89.6, loss=0.266] \n",
      "Época 32/50 [Teste]: 100%|██████████| 40/40 [00:09<00:00,  4.34it/s, acc=85.8, loss=0.428]\n"
     ]
    },
    {
     "name": "stdout",
     "output_type": "stream",
     "text": [
      "Época [32/50], Perda Treino: 0.2413, Acurácia Treino: 89.64%, Perda Teste: 0.3463, Acurácia Teste: 85.77%\n"
     ]
    },
    {
     "name": "stderr",
     "output_type": "stream",
     "text": [
      "Época 33/50 [Treino]: 100%|██████████| 320/320 [00:18<00:00, 17.63it/s, acc=90, loss=0.229]   \n",
      "Época 33/50 [Teste]: 100%|██████████| 40/40 [00:09<00:00,  4.30it/s, acc=86.5, loss=0.352] \n"
     ]
    },
    {
     "name": "stdout",
     "output_type": "stream",
     "text": [
      "Época [33/50], Perda Treino: 0.2478, Acurácia Treino: 89.97%, Perda Teste: 0.3272, Acurácia Teste: 86.47%\n"
     ]
    },
    {
     "name": "stderr",
     "output_type": "stream",
     "text": [
      "Época 34/50 [Treino]: 100%|██████████| 320/320 [00:18<00:00, 17.57it/s, acc=90.4, loss=0.216] \n",
      "Época 34/50 [Teste]: 100%|██████████| 40/40 [00:09<00:00,  4.26it/s, acc=85.7, loss=0.402] \n"
     ]
    },
    {
     "name": "stdout",
     "output_type": "stream",
     "text": [
      "Época [34/50], Perda Treino: 0.2291, Acurácia Treino: 90.39%, Perda Teste: 0.3267, Acurácia Teste: 85.69%\n"
     ]
    },
    {
     "name": "stderr",
     "output_type": "stream",
     "text": [
      "Época 35/50 [Treino]: 100%|██████████| 320/320 [00:18<00:00, 17.58it/s, acc=90.8, loss=0.284] \n",
      "Época 35/50 [Teste]: 100%|██████████| 40/40 [00:09<00:00,  4.25it/s, acc=86.6, loss=0.174]\n"
     ]
    },
    {
     "name": "stdout",
     "output_type": "stream",
     "text": [
      "Época [35/50], Perda Treino: 0.2284, Acurácia Treino: 90.75%, Perda Teste: 0.3264, Acurácia Teste: 86.55%\n"
     ]
    },
    {
     "name": "stderr",
     "output_type": "stream",
     "text": [
      "Época 36/50 [Treino]: 100%|██████████| 320/320 [00:18<00:00, 17.70it/s, acc=90.4, loss=0.184] \n",
      "Época 36/50 [Teste]: 100%|██████████| 40/40 [00:09<00:00,  4.24it/s, acc=89.3, loss=0.369]\n"
     ]
    },
    {
     "name": "stdout",
     "output_type": "stream",
     "text": [
      "Época [36/50], Perda Treino: 0.2326, Acurácia Treino: 90.36%, Perda Teste: 0.2745, Acurácia Teste: 89.29%\n"
     ]
    },
    {
     "name": "stderr",
     "output_type": "stream",
     "text": [
      "Época 37/50 [Treino]: 100%|██████████| 320/320 [00:17<00:00, 17.93it/s, acc=91, loss=0.219]   \n",
      "Época 37/50 [Teste]: 100%|██████████| 40/40 [00:09<00:00,  4.27it/s, acc=85.1, loss=0.176] \n"
     ]
    },
    {
     "name": "stdout",
     "output_type": "stream",
     "text": [
      "Época [37/50], Perda Treino: 0.2200, Acurácia Treino: 90.97%, Perda Teste: 0.3481, Acurácia Teste: 85.14%\n"
     ]
    },
    {
     "name": "stderr",
     "output_type": "stream",
     "text": [
      "Época 38/50 [Treino]: 100%|██████████| 320/320 [00:18<00:00, 17.53it/s, acc=91.2, loss=0.385] \n",
      "Época 38/50 [Teste]: 100%|██████████| 40/40 [00:09<00:00,  4.19it/s, acc=86.3, loss=0.301] \n"
     ]
    },
    {
     "name": "stdout",
     "output_type": "stream",
     "text": [
      "Época [38/50], Perda Treino: 0.2131, Acurácia Treino: 91.17%, Perda Teste: 0.3110, Acurácia Teste: 86.32%\n"
     ]
    },
    {
     "name": "stderr",
     "output_type": "stream",
     "text": [
      "Época 39/50 [Treino]: 100%|██████████| 320/320 [00:18<00:00, 17.59it/s, acc=91.8, loss=0.309] \n",
      "Época 39/50 [Teste]: 100%|██████████| 40/40 [00:09<00:00,  4.26it/s, acc=89.6, loss=0.174]\n"
     ]
    },
    {
     "name": "stdout",
     "output_type": "stream",
     "text": [
      "Época [39/50], Perda Treino: 0.2049, Acurácia Treino: 91.82%, Perda Teste: 0.2709, Acurácia Teste: 89.60%\n"
     ]
    },
    {
     "name": "stderr",
     "output_type": "stream",
     "text": [
      "Época 40/50 [Treino]: 100%|██████████| 320/320 [00:18<00:00, 17.36it/s, acc=91.4, loss=0.068] \n",
      "Época 40/50 [Teste]: 100%|██████████| 40/40 [00:09<00:00,  4.19it/s, acc=87.8, loss=0.376] \n"
     ]
    },
    {
     "name": "stdout",
     "output_type": "stream",
     "text": [
      "Época [40/50], Perda Treino: 0.2097, Acurácia Treino: 91.44%, Perda Teste: 0.2908, Acurácia Teste: 87.80%\n"
     ]
    },
    {
     "name": "stderr",
     "output_type": "stream",
     "text": [
      "Época 41/50 [Treino]: 100%|██████████| 320/320 [00:18<00:00, 17.38it/s, acc=91.6, loss=0.146] \n",
      "Época 41/50 [Teste]: 100%|██████████| 40/40 [00:09<00:00,  4.26it/s, acc=89.5, loss=0.19]  \n"
     ]
    },
    {
     "name": "stdout",
     "output_type": "stream",
     "text": [
      "Época [41/50], Perda Treino: 0.2133, Acurácia Treino: 91.63%, Perda Teste: 0.2816, Acurácia Teste: 89.52%\n"
     ]
    },
    {
     "name": "stderr",
     "output_type": "stream",
     "text": [
      "Época 42/50 [Treino]: 100%|██████████| 320/320 [00:18<00:00, 17.55it/s, acc=92, loss=0.365]   \n",
      "Época 42/50 [Teste]: 100%|██████████| 40/40 [00:09<00:00,  4.19it/s, acc=88.7, loss=0.227] \n"
     ]
    },
    {
     "name": "stdout",
     "output_type": "stream",
     "text": [
      "Época [42/50], Perda Treino: 0.2030, Acurácia Treino: 91.96%, Perda Teste: 0.2714, Acurácia Teste: 88.66%\n"
     ]
    },
    {
     "name": "stderr",
     "output_type": "stream",
     "text": [
      "Época 43/50 [Treino]: 100%|██████████| 320/320 [00:18<00:00, 17.24it/s, acc=91.7, loss=0.446] \n",
      "Época 43/50 [Teste]: 100%|██████████| 40/40 [00:09<00:00,  4.15it/s, acc=89, loss=0.315]   \n"
     ]
    },
    {
     "name": "stdout",
     "output_type": "stream",
     "text": [
      "Época [43/50], Perda Treino: 0.2062, Acurácia Treino: 91.69%, Perda Teste: 0.2917, Acurácia Teste: 88.98%\n"
     ]
    },
    {
     "name": "stderr",
     "output_type": "stream",
     "text": [
      "Época 44/50 [Treino]: 100%|██████████| 320/320 [00:18<00:00, 16.91it/s, acc=92.5, loss=0.338] \n",
      "Época 44/50 [Teste]: 100%|██████████| 40/40 [00:09<00:00,  4.14it/s, acc=90.3, loss=0.341] \n"
     ]
    },
    {
     "name": "stdout",
     "output_type": "stream",
     "text": [
      "Época [44/50], Perda Treino: 0.1906, Acurácia Treino: 92.45%, Perda Teste: 0.2571, Acurácia Teste: 90.30%\n"
     ]
    },
    {
     "name": "stderr",
     "output_type": "stream",
     "text": [
      "Época 45/50 [Treino]: 100%|██████████| 320/320 [00:18<00:00, 17.58it/s, acc=92, loss=0.255]   \n",
      "Época 45/50 [Teste]: 100%|██████████| 40/40 [00:09<00:00,  4.26it/s, acc=91.6, loss=0.194] \n"
     ]
    },
    {
     "name": "stdout",
     "output_type": "stream",
     "text": [
      "Época [45/50], Perda Treino: 0.1928, Acurácia Treino: 91.99%, Perda Teste: 0.2255, Acurácia Teste: 91.63%\n"
     ]
    },
    {
     "name": "stderr",
     "output_type": "stream",
     "text": [
      "Época 46/50 [Treino]: 100%|██████████| 320/320 [00:18<00:00, 17.55it/s, acc=92.4, loss=0.263] \n",
      "Época 46/50 [Teste]: 100%|██████████| 40/40 [00:09<00:00,  4.32it/s, acc=91.4, loss=0.236] \n"
     ]
    },
    {
     "name": "stdout",
     "output_type": "stream",
     "text": [
      "Época [46/50], Perda Treino: 0.1895, Acurácia Treino: 92.44%, Perda Teste: 0.2073, Acurácia Teste: 91.40%\n"
     ]
    },
    {
     "name": "stderr",
     "output_type": "stream",
     "text": [
      "Época 47/50 [Treino]: 100%|██████████| 320/320 [00:18<00:00, 17.11it/s, acc=92.2, loss=0.327] \n",
      "Época 47/50 [Teste]: 100%|██████████| 40/40 [00:09<00:00,  4.24it/s, acc=90.5, loss=0.223] \n"
     ]
    },
    {
     "name": "stdout",
     "output_type": "stream",
     "text": [
      "Época [47/50], Perda Treino: 0.1921, Acurácia Treino: 92.20%, Perda Teste: 0.2426, Acurácia Teste: 90.46%\n"
     ]
    },
    {
     "name": "stderr",
     "output_type": "stream",
     "text": [
      "Época 48/50 [Treino]: 100%|██████████| 320/320 [00:17<00:00, 17.86it/s, acc=92.8, loss=0.305] \n",
      "Época 48/50 [Teste]: 100%|██████████| 40/40 [00:09<00:00,  4.25it/s, acc=90.1, loss=0.174] \n"
     ]
    },
    {
     "name": "stdout",
     "output_type": "stream",
     "text": [
      "Época [48/50], Perda Treino: 0.1785, Acurácia Treino: 92.79%, Perda Teste: 0.2570, Acurácia Teste: 90.07%\n"
     ]
    },
    {
     "name": "stderr",
     "output_type": "stream",
     "text": [
      "Época 49/50 [Treino]: 100%|██████████| 320/320 [00:18<00:00, 17.75it/s, acc=92.3, loss=0.0526]\n",
      "Época 49/50 [Teste]: 100%|██████████| 40/40 [00:09<00:00,  4.27it/s, acc=91, loss=0.134]   \n"
     ]
    },
    {
     "name": "stdout",
     "output_type": "stream",
     "text": [
      "Época [49/50], Perda Treino: 0.1906, Acurácia Treino: 92.31%, Perda Teste: 0.2406, Acurácia Teste: 91.01%\n"
     ]
    },
    {
     "name": "stderr",
     "output_type": "stream",
     "text": [
      "Época 50/50 [Treino]: 100%|██████████| 320/320 [00:18<00:00, 17.76it/s, acc=92.9, loss=0.254] \n",
      "Época 50/50 [Teste]: 100%|██████████| 40/40 [00:09<00:00,  4.28it/s, acc=91.9, loss=0.209] \n"
     ]
    },
    {
     "name": "stdout",
     "output_type": "stream",
     "text": [
      "Época [50/50], Perda Treino: 0.1755, Acurácia Treino: 92.93%, Perda Teste: 0.2106, Acurácia Teste: 91.95%\n"
     ]
    }
   ],
   "source": [
    "model = AlzheimerCNN(num_classes=4)\n",
    "criterion = nn.CrossEntropyLoss()\n",
    "optimizer = optim.Adam(model.parameters(), lr=0.001)\n",
    "\n",
    "train_losses, train_accuracies, test_losses, test_accuracies = train_model(\n",
    "    model, train_loader, test_loader, criterion, optimizer, num_epochs=50\n",
    ")"
   ]
  },
  {
   "cell_type": "markdown",
   "metadata": {},
   "source": [
    "## Avaliação do Modelo"
   ]
  },
  {
   "cell_type": "code",
   "execution_count": 11,
   "metadata": {},
   "outputs": [
    {
     "name": "stderr",
     "output_type": "stream",
     "text": [
      "C:\\Users\\Lucas\\AppData\\Local\\Temp\\ipykernel_15464\\937274395.py:35: FutureWarning: You are using `torch.load` with `weights_only=False` (the current default value), which uses the default pickle module implicitly. It is possible to construct malicious pickle data which will execute arbitrary code during unpickling (See https://github.com/pytorch/pytorch/blob/main/SECURITY.md#untrusted-models for more details). In a future release, the default value for `weights_only` will be flipped to `True`. This limits the functions that could be executed during unpickling. Arbitrary objects will no longer be allowed to be loaded via this mode unless they are explicitly allowlisted by the user via `torch.serialization.add_safe_globals`. We recommend you start setting `weights_only=True` for any use case where you don't have full control of the loaded file. Please open an issue on GitHub for any issues related to this experimental feature.\n",
      "  model.load_state_dict(torch.load('models/alzheimer_mri_model.pth'))\n",
      "Evaluating: 100%|██████████| 40/40 [00:09<00:00,  4.30it/s]\n"
     ]
    },
    {
     "name": "stdout",
     "output_type": "stream",
     "text": [
      "                      precision    recall  f1-score   support\n",
      "\n",
      "     Mild Impairment       0.91      0.93      0.92       179\n",
      " Moderate Impairment       0.92      1.00      0.96        12\n",
      "       No Impairment       0.91      0.96      0.93       640\n",
      "Very Mild Impairment       0.94      0.85      0.90       448\n",
      "\n",
      "            accuracy                           0.92      1279\n",
      "           macro avg       0.92      0.94      0.93      1279\n",
      "        weighted avg       0.92      0.92      0.92      1279\n",
      "\n",
      "Confusion Matrix:\n"
     ]
    },
    {
     "data": {
      "image/png": "[encoded data removed]",
      "text/plain": [
       "<Figure size 800x600 with 2 Axes>"
      ]
     },
     "metadata": {},
     "output_type": "display_data"
    }
   ],
   "source": [
    "def evaluate_model(model, test_loader, class_to_idx):\n",
    "    device = torch.device(\"cuda\" if torch.cuda.is_available() else \"cpu\")\n",
    "    model = model.to(device)\n",
    "    model.eval()\n",
    "    \n",
    "    all_preds = []\n",
    "    all_labels = []\n",
    "    \n",
    "    with torch.no_grad():\n",
    "        for images, labels in tqdm(test_loader, desc='Evaluating'):\n",
    "            images, labels = images.to(device), labels.to(device)\n",
    "            outputs = model(images)\n",
    "            _, predicted = torch.max(outputs, 1)\n",
    "            \n",
    "            all_preds.extend(predicted.cpu().numpy())\n",
    "            all_labels.extend(labels.cpu().numpy())\n",
    "    \n",
    "    # Print classification report\n",
    "    class_names = [class_name for class_name, _ in sorted(class_to_idx.items(), key=lambda x: x[1])]\n",
    "    print(classification_report(all_labels, all_preds, target_names=class_names))\n",
    "    \n",
    "    # Print confusion matrix\n",
    "    print(\"Confusion Matrix:\")\n",
    "    cm = confusion_matrix(all_labels, all_preds)\n",
    "    plt.figure(figsize=(8, 6))\n",
    "    sns.heatmap(cm, annot=True, fmt='d', cmap='Blues', xticklabels=class_names, yticklabels=class_names)\n",
    "    plt.title('Matriz de Confusão')\n",
    "    plt.xlabel('Predito')\n",
    "    plt.ylabel('Verdadeiro')\n",
    "    plt.show()\n",
    "    \n",
    "    return all_preds, all_labels\n",
    "\n",
    "# Load best model\n",
    "model.load_state_dict(torch.load('models/alzheimer_mri_model.pth'))\n",
    "\n",
    "# Evaluate\n",
    "predictions, true_labels = evaluate_model(model, test_loader, class_to_idx)"
   ]
  }
 ],
 "metadata": {
  "kernelspec": {
   "display_name": "Python 3",
   "language": "python",
   "name": "python3"
  },
  "language_info": {
   "codemirror_mode": {
    "name": "ipython",
    "version": 3
   },
   "file_extension": ".py",
   "mimetype": "text/x-python",
   "name": "python",
   "nbconvert_exporter": "python",
   "pygments_lexer": "ipython3",
   "version": "3.10.6"
  }
 },
 "nbformat": 4,
 "nbformat_minor": 4
}
