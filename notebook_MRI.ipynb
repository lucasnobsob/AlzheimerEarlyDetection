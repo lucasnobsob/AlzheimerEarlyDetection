{
 "cells": [
  {
   "cell_type": "markdown",
   "metadata": {},
   "source": [
    "# Detecção de Alzheimer com CNN Invariante à Resolução\n",
    "\n",
    "Este notebook implementa um modelo CNN para detecção da doença de Alzheimer que pode lidar com imagens de diferentes resoluções mantendo alta precisão."
   ]
  },
  {
   "cell_type": "code",
   "execution_count": 8,
   "metadata": {},
   "outputs": [
    {
     "name": "stdout",
     "output_type": "stream",
     "text": [
      "cuda\n"
     ]
    }
   ],
   "source": [
    "import torch\n",
    "import torch.nn as nn\n",
    "import torch.optim as optim\n",
    "from torch.utils.data import DataLoader\n",
    "from torchvision import datasets, transforms, models\n",
    "from sklearn.metrics import classification_report, confusion_matrix\n",
    "from sklearn.preprocessing import LabelEncoder\n",
    "import matplotlib.pyplot as plt\n",
    "import numpy as np\n",
    "import os\n",
    "import seaborn as sns\n",
    "from tqdm import tqdm\n",
    "\n",
    "from AlzheimerCNN import AlzheimerCNN\n",
    "\n",
    "device = torch.device(\"cuda\" if torch.cuda.is_available() else \"cpu\")\n",
    "print(device)"
   ]
  },
  {
   "cell_type": "markdown",
   "metadata": {},
   "source": [
    "## Pré-processamento dos Dados\n",
    "\n",
    "O pipeline de pré-processamento é projetado para lidar com diferentes tamanhos de imagem mantendo as proporções e adicionando robustez através de aumento de dados."
   ]
  },
  {
   "cell_type": "code",
   "execution_count": 9,
   "metadata": {},
   "outputs": [],
   "source": [
    "# Transformações para treinamento com aumento de dados\n",
    "train_transform = transforms.Compose([\n",
    "    transforms.Resize(256),  # Redimensiona o lado menor para 256 mantendo a proporção\n",
    "    transforms.RandomResizedCrop(224, scale=(0.8, 1.0)),  # Recorte aleatório com escala\n",
    "    transforms.RandomHorizontalFlip(),\n",
    "    transforms.RandomRotation(10),\n",
    "    transforms.ColorJitter(brightness=0.2, contrast=0.2),  # Adiciona variação de cor\n",
    "    transforms.ToTensor(),\n",
    "    transforms.Normalize(mean=[0.485, 0.456, 0.406], std=[0.229, 0.224, 0.225])\n",
    "])\n",
    "\n",
    "# Transformações para teste (sem aumento de dados)\n",
    "test_transform = transforms.Compose([\n",
    "    transforms.Resize(256),\n",
    "    transforms.CenterCrop(224),\n",
    "    transforms.ToTensor(),\n",
    "    transforms.Normalize(mean=[0.485, 0.456, 0.406], std=[0.229, 0.224, 0.225])\n",
    "])"
   ]
  },
  {
   "cell_type": "markdown",
   "metadata": {},
   "source": [
    "## Carregando o Dataset\n",
    "\n",
    "Carrega os datasets de treinamento e teste com as novas transformações."
   ]
  },
  {
   "cell_type": "code",
   "execution_count": 10,
   "metadata": {},
   "outputs": [
    {
     "name": "stdout",
     "output_type": "stream",
     "text": [
      "Mapeamento de Classes:\n",
      "0: Mild Impairment\n",
      "1: Moderate Impairment\n",
      "2: No Impairment\n",
      "3: Very Mild Impairment\n"
     ]
    }
   ],
   "source": [
    "# Atualize estes caminhos para as localizações do seu dataset\n",
    "train_dataset = datasets.ImageFolder(root='D:/Projetos/TrabalhoFinalDataScience/AlzheimerEarlyDetection/datasets/train', transform=train_transform)\n",
    "test_dataset = datasets.ImageFolder(root='D:/Projetos/TrabalhoFinalDataScience/AlzheimerEarlyDetection/datasets/test', transform=test_transform)\n",
    "\n",
    "train_loader = DataLoader(train_dataset, batch_size=32, shuffle=True, num_workers=4)\n",
    "test_loader = DataLoader(test_dataset, batch_size=32, shuffle=False, num_workers=4)\n",
    "\n",
    "# Imprime o mapeamento das classes\n",
    "class_to_idx = train_dataset.class_to_idx\n",
    "print(\"Mapeamento de Classes:\")\n",
    "for class_name, class_index in class_to_idx.items():\n",
    "    print(f\"{class_index}: {class_name}\")"
   ]
  },
  {
   "cell_type": "markdown",
   "metadata": {},
   "source": [
    "## Treinamento do Modelo\n",
    "\n",
    "Loop de treinamento com acompanhamento de progresso e salvamento do modelo."
   ]
  },
  {
   "cell_type": "code",
   "execution_count": 11,
   "metadata": {},
   "outputs": [],
   "source": [
    "def train_model(model, train_loader, test_loader, criterion, optimizer, num_epochs=100):\n",
    "    device = torch.device(\"cuda\" if torch.cuda.is_available() else \"cpu\")\n",
    "    model = model.to(device)\n",
    "    \n",
    "    train_losses = []\n",
    "    train_accuracies = []\n",
    "    test_losses = []\n",
    "    test_accuracies = []\n",
    "    \n",
    "    best_accuracy = 0.0\n",
    "    \n",
    "    for epoch in range(num_epochs):\n",
    "        # Fase de treinamento\n",
    "        model.train()\n",
    "        running_loss = 0.0\n",
    "        correct = 0\n",
    "        total = 0\n",
    "        \n",
    "        train_loop = tqdm(train_loader, desc=f'Época {epoch+1}/{num_epochs} [Treino]')\n",
    "        for images, labels in train_loop:\n",
    "            images, labels = images.to(device), labels.to(device)\n",
    "            \n",
    "            optimizer.zero_grad()\n",
    "            outputs = model(images)\n",
    "            loss = criterion(outputs, labels)\n",
    "            loss.backward()\n",
    "            optimizer.step()\n",
    "            \n",
    "            running_loss += loss.item()\n",
    "            _, predicted = torch.max(outputs, 1)\n",
    "            total += labels.size(0)\n",
    "            correct += (predicted == labels).sum().item()\n",
    "            \n",
    "            train_loop.set_postfix(loss=loss.item(), acc=100.*correct/total)\n",
    "        \n",
    "        epoch_loss = running_loss / len(train_loader)\n",
    "        epoch_accuracy = 100 * correct / total\n",
    "        train_losses.append(epoch_loss)\n",
    "        train_accuracies.append(epoch_accuracy)\n",
    "        \n",
    "        # Fase de teste\n",
    "        model.eval()\n",
    "        test_loss = 0.0\n",
    "        test_correct = 0\n",
    "        test_total = 0\n",
    "        \n",
    "        with torch.no_grad():\n",
    "            test_loop = tqdm(test_loader, desc=f'Época {epoch+1}/{num_epochs} [Teste]')\n",
    "            for images, labels in test_loop:\n",
    "                images, labels = images.to(device), labels.to(device)\n",
    "                outputs = model(images)\n",
    "                loss = criterion(outputs, labels)\n",
    "                \n",
    "                test_loss += loss.item()\n",
    "                _, predicted = torch.max(outputs, 1)\n",
    "                test_total += labels.size(0)\n",
    "                test_correct += (predicted == labels).sum().item()\n",
    "                \n",
    "                test_loop.set_postfix(loss=loss.item(), acc=100.*test_correct/test_total)\n",
    "        \n",
    "        test_epoch_loss = test_loss / len(test_loader)\n",
    "        test_epoch_accuracy = 100 * test_correct / test_total\n",
    "        test_losses.append(test_epoch_loss)\n",
    "        test_accuracies.append(test_epoch_accuracy)\n",
    "        \n",
    "        # Salva o melhor modelo\n",
    "        if test_epoch_accuracy > best_accuracy:\n",
    "            best_accuracy = test_epoch_accuracy\n",
    "            torch.save(model.state_dict(), 'best_model_resolution_invariant.pth')\n",
    "        \n",
    "        print(f'Época [{epoch+1}/{num_epochs}], '\n",
    "              f'Perda Treino: {epoch_loss:.4f}, Acurácia Treino: {epoch_accuracy:.2f}%, '\n",
    "              f'Perda Teste: {test_epoch_loss:.4f}, Acurácia Teste: {test_epoch_accuracy:.2f}%')\n",
    "    \n",
    "    return train_losses, train_accuracies, test_losses, test_accuracies"
   ]
  },
  {
   "cell_type": "markdown",
   "metadata": {},
   "source": [
    "## Inicializa e Treina o Modelo"
   ]
  },
  {
   "cell_type": "code",
   "execution_count": 12,
   "metadata": {},
   "outputs": [
    {
     "name": "stderr",
     "output_type": "stream",
     "text": [
      "Época 1/100 [Treino]: 100%|██████████| 320/320 [00:52<00:00,  6.11it/s, acc=37.7, loss=1.11] \n",
      "Época 1/100 [Teste]: 100%|██████████| 40/40 [00:18<00:00,  2.15it/s, acc=44.2, loss=1.25] \n"
     ]
    },
    {
     "name": "stdout",
     "output_type": "stream",
     "text": [
      "Época [1/100], Perda Treino: 1.2781, Acurácia Treino: 37.66%, Perda Teste: 1.1624, Acurácia Teste: 44.18%\n"
     ]
    },
    {
     "name": "stderr",
     "output_type": "stream",
     "text": [
      "Época 2/100 [Treino]: 100%|██████████| 320/320 [00:49<00:00,  6.46it/s, acc=61.5, loss=0.717]\n",
      "Época 2/100 [Teste]: 100%|██████████| 40/40 [00:16<00:00,  2.43it/s, acc=51.4, loss=1.15] \n"
     ]
    },
    {
     "name": "stdout",
     "output_type": "stream",
     "text": [
      "Época [2/100], Perda Treino: 0.8353, Acurácia Treino: 61.49%, Perda Teste: 0.9470, Acurácia Teste: 51.45%\n"
     ]
    },
    {
     "name": "stderr",
     "output_type": "stream",
     "text": [
      "Época 3/100 [Treino]: 100%|██████████| 320/320 [00:49<00:00,  6.44it/s, acc=66.9, loss=0.614]\n",
      "Época 3/100 [Teste]: 100%|██████████| 40/40 [00:16<00:00,  2.36it/s, acc=58.2, loss=1.17] \n"
     ]
    },
    {
     "name": "stdout",
     "output_type": "stream",
     "text": [
      "Época [3/100], Perda Treino: 0.7195, Acurácia Treino: 66.92%, Perda Teste: 0.8649, Acurácia Teste: 58.25%\n"
     ]
    },
    {
     "name": "stderr",
     "output_type": "stream",
     "text": [
      "Época 4/100 [Treino]: 100%|██████████| 320/320 [00:49<00:00,  6.45it/s, acc=69.6, loss=0.34] \n",
      "Época 4/100 [Teste]: 100%|██████████| 40/40 [00:13<00:00,  2.86it/s, acc=61.9, loss=1.07] \n"
     ]
    },
    {
     "name": "stdout",
     "output_type": "stream",
     "text": [
      "Época [4/100], Perda Treino: 0.6663, Acurácia Treino: 69.64%, Perda Teste: 0.7760, Acurácia Teste: 61.92%\n"
     ]
    },
    {
     "name": "stderr",
     "output_type": "stream",
     "text": [
      "Época 5/100 [Treino]: 100%|██████████| 320/320 [00:47<00:00,  6.76it/s, acc=71.9, loss=0.634]\n",
      "Época 5/100 [Teste]: 100%|██████████| 40/40 [00:16<00:00,  2.39it/s, acc=63.1, loss=0.784]\n"
     ]
    },
    {
     "name": "stdout",
     "output_type": "stream",
     "text": [
      "Época [5/100], Perda Treino: 0.6185, Acurácia Treino: 71.94%, Perda Teste: 0.7494, Acurácia Teste: 63.10%\n"
     ]
    },
    {
     "name": "stderr",
     "output_type": "stream",
     "text": [
      "Época 6/100 [Treino]: 100%|██████████| 320/320 [00:49<00:00,  6.45it/s, acc=73.5, loss=0.532]\n",
      "Época 6/100 [Teste]: 100%|██████████| 40/40 [00:16<00:00,  2.38it/s, acc=65.2, loss=0.844]\n"
     ]
    },
    {
     "name": "stdout",
     "output_type": "stream",
     "text": [
      "Época [6/100], Perda Treino: 0.5896, Acurácia Treino: 73.51%, Perda Teste: 0.7404, Acurácia Teste: 65.21%\n"
     ]
    },
    {
     "name": "stderr",
     "output_type": "stream",
     "text": [
      "Época 7/100 [Treino]: 100%|██████████| 320/320 [00:49<00:00,  6.41it/s, acc=75.9, loss=0.538]\n",
      "Época 7/100 [Teste]: 100%|██████████| 40/40 [00:16<00:00,  2.39it/s, acc=65.1, loss=1.06] \n"
     ]
    },
    {
     "name": "stdout",
     "output_type": "stream",
     "text": [
      "Época [7/100], Perda Treino: 0.5535, Acurácia Treino: 75.86%, Perda Teste: 0.7244, Acurácia Teste: 65.05%\n"
     ]
    },
    {
     "name": "stderr",
     "output_type": "stream",
     "text": [
      "Época 8/100 [Treino]: 100%|██████████| 320/320 [00:49<00:00,  6.46it/s, acc=75.8, loss=0.541]\n",
      "Época 8/100 [Teste]: 100%|██████████| 40/40 [00:16<00:00,  2.41it/s, acc=66.8, loss=0.923]\n"
     ]
    },
    {
     "name": "stdout",
     "output_type": "stream",
     "text": [
      "Época [8/100], Perda Treino: 0.5282, Acurácia Treino: 75.85%, Perda Teste: 0.6952, Acurácia Teste: 66.77%\n"
     ]
    },
    {
     "name": "stderr",
     "output_type": "stream",
     "text": [
      "Época 9/100 [Treino]: 100%|██████████| 320/320 [00:50<00:00,  6.38it/s, acc=77, loss=0.399]  \n",
      "Época 9/100 [Teste]: 100%|██████████| 40/40 [00:16<00:00,  2.37it/s, acc=66.2, loss=0.957]\n"
     ]
    },
    {
     "name": "stdout",
     "output_type": "stream",
     "text": [
      "Época [9/100], Perda Treino: 0.5119, Acurácia Treino: 76.98%, Perda Teste: 0.7030, Acurácia Teste: 66.22%\n"
     ]
    },
    {
     "name": "stderr",
     "output_type": "stream",
     "text": [
      "Época 10/100 [Treino]: 100%|██████████| 320/320 [00:49<00:00,  6.49it/s, acc=77.8, loss=0.424]\n",
      "Época 10/100 [Teste]: 100%|██████████| 40/40 [00:16<00:00,  2.37it/s, acc=67.6, loss=0.982]\n"
     ]
    },
    {
     "name": "stdout",
     "output_type": "stream",
     "text": [
      "Época [10/100], Perda Treino: 0.4894, Acurácia Treino: 77.83%, Perda Teste: 0.6762, Acurácia Teste: 67.63%\n"
     ]
    },
    {
     "name": "stderr",
     "output_type": "stream",
     "text": [
      "Época 11/100 [Treino]: 100%|██████████| 320/320 [00:49<00:00,  6.43it/s, acc=77.9, loss=0.443]\n",
      "Época 11/100 [Teste]: 100%|██████████| 40/40 [00:16<00:00,  2.40it/s, acc=70.1, loss=0.747]\n"
     ]
    },
    {
     "name": "stdout",
     "output_type": "stream",
     "text": [
      "Época [11/100], Perda Treino: 0.4837, Acurácia Treino: 77.91%, Perda Teste: 0.6407, Acurácia Teste: 70.05%\n"
     ]
    },
    {
     "name": "stderr",
     "output_type": "stream",
     "text": [
      "Época 12/100 [Treino]: 100%|██████████| 320/320 [00:41<00:00,  7.71it/s, acc=78.4, loss=0.408]\n",
      "Época 12/100 [Teste]: 100%|██████████| 40/40 [00:16<00:00,  2.42it/s, acc=68.6, loss=0.96] \n"
     ]
    },
    {
     "name": "stdout",
     "output_type": "stream",
     "text": [
      "Época [12/100], Perda Treino: 0.4668, Acurácia Treino: 78.43%, Perda Teste: 0.6607, Acurácia Teste: 68.57%\n"
     ]
    },
    {
     "name": "stderr",
     "output_type": "stream",
     "text": [
      "Época 13/100 [Treino]: 100%|██████████| 320/320 [00:49<00:00,  6.42it/s, acc=80, loss=0.317]  \n",
      "Época 13/100 [Teste]: 100%|██████████| 40/40 [00:16<00:00,  2.40it/s, acc=69, loss=0.695]  \n"
     ]
    },
    {
     "name": "stdout",
     "output_type": "stream",
     "text": [
      "Época [13/100], Perda Treino: 0.4442, Acurácia Treino: 79.97%, Perda Teste: 0.6518, Acurácia Teste: 69.04%\n"
     ]
    },
    {
     "name": "stderr",
     "output_type": "stream",
     "text": [
      "Época 14/100 [Treino]: 100%|██████████| 320/320 [00:49<00:00,  6.44it/s, acc=80.3, loss=0.391]\n",
      "Época 14/100 [Teste]: 100%|██████████| 40/40 [00:16<00:00,  2.40it/s, acc=71.7, loss=0.849]\n"
     ]
    },
    {
     "name": "stdout",
     "output_type": "stream",
     "text": [
      "Época [14/100], Perda Treino: 0.4427, Acurácia Treino: 80.30%, Perda Teste: 0.6234, Acurácia Teste: 71.70%\n"
     ]
    },
    {
     "name": "stderr",
     "output_type": "stream",
     "text": [
      "Época 15/100 [Treino]: 100%|██████████| 320/320 [00:49<00:00,  6.47it/s, acc=80.6, loss=0.344]\n",
      "Época 15/100 [Teste]: 100%|██████████| 40/40 [00:16<00:00,  2.38it/s, acc=73, loss=0.748]  \n"
     ]
    },
    {
     "name": "stdout",
     "output_type": "stream",
     "text": [
      "Época [15/100], Perda Treino: 0.4361, Acurácia Treino: 80.63%, Perda Teste: 0.6136, Acurácia Teste: 73.03%\n"
     ]
    },
    {
     "name": "stderr",
     "output_type": "stream",
     "text": [
      "Época 16/100 [Treino]: 100%|██████████| 320/320 [00:49<00:00,  6.43it/s, acc=81.8, loss=0.392]\n",
      "Época 16/100 [Teste]: 100%|██████████| 40/40 [00:16<00:00,  2.40it/s, acc=73.7, loss=0.826]\n"
     ]
    },
    {
     "name": "stdout",
     "output_type": "stream",
     "text": [
      "Época [16/100], Perda Treino: 0.4178, Acurácia Treino: 81.78%, Perda Teste: 0.5976, Acurácia Teste: 73.73%\n"
     ]
    },
    {
     "name": "stderr",
     "output_type": "stream",
     "text": [
      "Época 17/100 [Treino]: 100%|██████████| 320/320 [00:50<00:00,  6.36it/s, acc=81.8, loss=0.298]\n",
      "Época 17/100 [Teste]: 100%|██████████| 40/40 [00:16<00:00,  2.40it/s, acc=73.9, loss=0.926]\n"
     ]
    },
    {
     "name": "stdout",
     "output_type": "stream",
     "text": [
      "Época [17/100], Perda Treino: 0.4063, Acurácia Treino: 81.81%, Perda Teste: 0.5793, Acurácia Teste: 73.89%\n"
     ]
    },
    {
     "name": "stderr",
     "output_type": "stream",
     "text": [
      "Época 18/100 [Treino]: 100%|██████████| 320/320 [00:49<00:00,  6.43it/s, acc=82.6, loss=0.321]\n",
      "Época 18/100 [Teste]: 100%|██████████| 40/40 [00:16<00:00,  2.42it/s, acc=76.4, loss=0.596]\n"
     ]
    },
    {
     "name": "stdout",
     "output_type": "stream",
     "text": [
      "Época [18/100], Perda Treino: 0.3988, Acurácia Treino: 82.62%, Perda Teste: 0.5333, Acurácia Teste: 76.39%\n"
     ]
    },
    {
     "name": "stderr",
     "output_type": "stream",
     "text": [
      "Época 19/100 [Treino]: 100%|██████████| 320/320 [00:49<00:00,  6.41it/s, acc=82.3, loss=0.31] \n",
      "Época 19/100 [Teste]: 100%|██████████| 40/40 [00:16<00:00,  2.41it/s, acc=74.4, loss=0.734]\n"
     ]
    },
    {
     "name": "stdout",
     "output_type": "stream",
     "text": [
      "Época [19/100], Perda Treino: 0.3861, Acurácia Treino: 82.26%, Perda Teste: 0.5492, Acurácia Teste: 74.35%\n"
     ]
    },
    {
     "name": "stderr",
     "output_type": "stream",
     "text": [
      "Época 20/100 [Treino]: 100%|██████████| 320/320 [00:43<00:00,  7.33it/s, acc=82.8, loss=0.318]\n",
      "Época 20/100 [Teste]: 100%|██████████| 40/40 [00:16<00:00,  2.39it/s, acc=74.4, loss=0.741]\n"
     ]
    },
    {
     "name": "stdout",
     "output_type": "stream",
     "text": [
      "Época [20/100], Perda Treino: 0.3865, Acurácia Treino: 82.84%, Perda Teste: 0.5607, Acurácia Teste: 74.35%\n"
     ]
    },
    {
     "name": "stderr",
     "output_type": "stream",
     "text": [
      "Época 21/100 [Treino]: 100%|██████████| 320/320 [00:49<00:00,  6.46it/s, acc=83.3, loss=0.285]\n",
      "Época 21/100 [Teste]: 100%|██████████| 40/40 [00:16<00:00,  2.38it/s, acc=75.1, loss=0.496]\n"
     ]
    },
    {
     "name": "stdout",
     "output_type": "stream",
     "text": [
      "Época [21/100], Perda Treino: 0.3778, Acurácia Treino: 83.31%, Perda Teste: 0.5278, Acurácia Teste: 75.14%\n"
     ]
    },
    {
     "name": "stderr",
     "output_type": "stream",
     "text": [
      "Época 22/100 [Treino]: 100%|██████████| 320/320 [00:49<00:00,  6.51it/s, acc=84.1, loss=0.41] \n",
      "Época 22/100 [Teste]: 100%|██████████| 40/40 [00:16<00:00,  2.41it/s, acc=77.1, loss=0.69] \n"
     ]
    },
    {
     "name": "stdout",
     "output_type": "stream",
     "text": [
      "Época [22/100], Perda Treino: 0.3642, Acurácia Treino: 84.06%, Perda Teste: 0.4951, Acurácia Teste: 77.09%\n"
     ]
    },
    {
     "name": "stderr",
     "output_type": "stream",
     "text": [
      "Época 23/100 [Treino]: 100%|██████████| 320/320 [00:49<00:00,  6.42it/s, acc=84.2, loss=0.271]\n",
      "Época 23/100 [Teste]: 100%|██████████| 40/40 [00:16<00:00,  2.39it/s, acc=78.3, loss=0.582]\n"
     ]
    },
    {
     "name": "stdout",
     "output_type": "stream",
     "text": [
      "Época [23/100], Perda Treino: 0.3625, Acurácia Treino: 84.25%, Perda Teste: 0.4809, Acurácia Teste: 78.26%\n"
     ]
    },
    {
     "name": "stderr",
     "output_type": "stream",
     "text": [
      "Época 24/100 [Treino]: 100%|██████████| 320/320 [00:49<00:00,  6.48it/s, acc=84.5, loss=0.17] \n",
      "Época 24/100 [Teste]: 100%|██████████| 40/40 [00:16<00:00,  2.40it/s, acc=78.4, loss=0.529]\n"
     ]
    },
    {
     "name": "stdout",
     "output_type": "stream",
     "text": [
      "Época [24/100], Perda Treino: 0.3466, Acurácia Treino: 84.49%, Perda Teste: 0.4994, Acurácia Teste: 78.42%\n"
     ]
    },
    {
     "name": "stderr",
     "output_type": "stream",
     "text": [
      "Época 25/100 [Treino]: 100%|██████████| 320/320 [00:48<00:00,  6.56it/s, acc=85.2, loss=0.399]\n",
      "Época 25/100 [Teste]: 100%|██████████| 40/40 [00:16<00:00,  2.40it/s, acc=77.8, loss=0.517]\n"
     ]
    },
    {
     "name": "stdout",
     "output_type": "stream",
     "text": [
      "Época [25/100], Perda Treino: 0.3375, Acurácia Treino: 85.20%, Perda Teste: 0.4656, Acurácia Teste: 77.80%\n"
     ]
    },
    {
     "name": "stderr",
     "output_type": "stream",
     "text": [
      "Época 26/100 [Treino]: 100%|██████████| 320/320 [00:49<00:00,  6.50it/s, acc=84.8, loss=0.377]\n",
      "Época 26/100 [Teste]: 100%|██████████| 40/40 [00:16<00:00,  2.39it/s, acc=77.9, loss=0.711]\n"
     ]
    },
    {
     "name": "stdout",
     "output_type": "stream",
     "text": [
      "Época [26/100], Perda Treino: 0.3362, Acurácia Treino: 84.84%, Perda Teste: 0.4762, Acurácia Teste: 77.87%\n"
     ]
    },
    {
     "name": "stderr",
     "output_type": "stream",
     "text": [
      "Época 27/100 [Treino]: 100%|██████████| 320/320 [00:49<00:00,  6.53it/s, acc=85.4, loss=0.42]  \n",
      "Época 27/100 [Teste]: 100%|██████████| 40/40 [00:09<00:00,  4.04it/s, acc=79.2, loss=0.632]\n"
     ]
    },
    {
     "name": "stdout",
     "output_type": "stream",
     "text": [
      "Época [27/100], Perda Treino: 0.3361, Acurácia Treino: 85.36%, Perda Teste: 0.4656, Acurácia Teste: 79.20%\n"
     ]
    },
    {
     "name": "stderr",
     "output_type": "stream",
     "text": [
      "Época 28/100 [Treino]: 100%|██████████| 320/320 [00:27<00:00, 11.78it/s, acc=86.2, loss=0.297] \n",
      "Época 28/100 [Teste]: 100%|██████████| 40/40 [00:09<00:00,  4.07it/s, acc=80.9, loss=0.391]\n"
     ]
    },
    {
     "name": "stdout",
     "output_type": "stream",
     "text": [
      "Época [28/100], Perda Treino: 0.3245, Acurácia Treino: 86.15%, Perda Teste: 0.4237, Acurácia Teste: 80.92%\n"
     ]
    },
    {
     "name": "stderr",
     "output_type": "stream",
     "text": [
      "Época 29/100 [Treino]: 100%|██████████| 320/320 [00:27<00:00, 11.46it/s, acc=86.3, loss=0.372]\n",
      "Época 29/100 [Teste]: 100%|██████████| 40/40 [00:10<00:00,  3.96it/s, acc=80.3, loss=0.549]\n"
     ]
    },
    {
     "name": "stdout",
     "output_type": "stream",
     "text": [
      "Época [29/100], Perda Treino: 0.3099, Acurácia Treino: 86.35%, Perda Teste: 0.4518, Acurácia Teste: 80.30%\n"
     ]
    },
    {
     "name": "stderr",
     "output_type": "stream",
     "text": [
      "Época 30/100 [Treino]: 100%|██████████| 320/320 [00:27<00:00, 11.62it/s, acc=86.3, loss=0.322] \n",
      "Época 30/100 [Teste]: 100%|██████████| 40/40 [00:10<00:00,  3.98it/s, acc=79.2, loss=0.421]\n"
     ]
    },
    {
     "name": "stdout",
     "output_type": "stream",
     "text": [
      "Época [30/100], Perda Treino: 0.3072, Acurácia Treino: 86.33%, Perda Teste: 0.4411, Acurácia Teste: 79.20%\n"
     ]
    },
    {
     "name": "stderr",
     "output_type": "stream",
     "text": [
      "Época 31/100 [Treino]: 100%|██████████| 320/320 [00:27<00:00, 11.52it/s, acc=86.2, loss=0.432] \n",
      "Época 31/100 [Teste]: 100%|██████████| 40/40 [00:10<00:00,  3.86it/s, acc=79.2, loss=0.489]\n"
     ]
    },
    {
     "name": "stdout",
     "output_type": "stream",
     "text": [
      "Época [31/100], Perda Treino: 0.3074, Acurácia Treino: 86.22%, Perda Teste: 0.4581, Acurácia Teste: 79.20%\n"
     ]
    },
    {
     "name": "stderr",
     "output_type": "stream",
     "text": [
      "Época 32/100 [Treino]: 100%|██████████| 320/320 [00:28<00:00, 11.43it/s, acc=87.2, loss=0.276]\n",
      "Época 32/100 [Teste]: 100%|██████████| 40/40 [00:09<00:00,  4.01it/s, acc=84, loss=0.659]  \n"
     ]
    },
    {
     "name": "stdout",
     "output_type": "stream",
     "text": [
      "Época [32/100], Perda Treino: 0.2977, Acurácia Treino: 87.18%, Perda Teste: 0.4022, Acurácia Teste: 83.97%\n"
     ]
    },
    {
     "name": "stderr",
     "output_type": "stream",
     "text": [
      "Época 33/100 [Treino]: 100%|██████████| 320/320 [00:27<00:00, 11.57it/s, acc=87.6, loss=0.299] \n",
      "Época 33/100 [Teste]: 100%|██████████| 40/40 [00:10<00:00,  3.97it/s, acc=81.9, loss=0.417]\n"
     ]
    },
    {
     "name": "stdout",
     "output_type": "stream",
     "text": [
      "Época [33/100], Perda Treino: 0.2907, Acurácia Treino: 87.65%, Perda Teste: 0.4103, Acurácia Teste: 81.94%\n"
     ]
    },
    {
     "name": "stderr",
     "output_type": "stream",
     "text": [
      "Época 34/100 [Treino]: 100%|██████████| 320/320 [00:27<00:00, 11.59it/s, acc=87.5, loss=0.117] \n",
      "Época 34/100 [Teste]: 100%|██████████| 40/40 [00:10<00:00,  3.94it/s, acc=83.2, loss=0.469]\n"
     ]
    },
    {
     "name": "stdout",
     "output_type": "stream",
     "text": [
      "Época [34/100], Perda Treino: 0.2940, Acurácia Treino: 87.54%, Perda Teste: 0.4172, Acurácia Teste: 83.19%\n"
     ]
    },
    {
     "name": "stderr",
     "output_type": "stream",
     "text": [
      "Época 35/100 [Treino]: 100%|██████████| 320/320 [00:27<00:00, 11.70it/s, acc=87.3, loss=0.137] \n",
      "Época 35/100 [Teste]: 100%|██████████| 40/40 [00:09<00:00,  4.04it/s, acc=83.3, loss=0.378]\n"
     ]
    },
    {
     "name": "stdout",
     "output_type": "stream",
     "text": [
      "Época [35/100], Perda Treino: 0.2975, Acurácia Treino: 87.29%, Perda Teste: 0.3938, Acurácia Teste: 83.35%\n"
     ]
    },
    {
     "name": "stderr",
     "output_type": "stream",
     "text": [
      "Época 36/100 [Treino]: 100%|██████████| 320/320 [00:27<00:00, 11.75it/s, acc=87.8, loss=0.393] \n",
      "Época 36/100 [Teste]: 100%|██████████| 40/40 [00:09<00:00,  4.04it/s, acc=83.3, loss=0.434]\n"
     ]
    },
    {
     "name": "stdout",
     "output_type": "stream",
     "text": [
      "Época [36/100], Perda Treino: 0.2863, Acurácia Treino: 87.77%, Perda Teste: 0.3903, Acurácia Teste: 83.35%\n"
     ]
    },
    {
     "name": "stderr",
     "output_type": "stream",
     "text": [
      "Época 37/100 [Treino]: 100%|██████████| 320/320 [00:27<00:00, 11.71it/s, acc=88.1, loss=0.156] \n",
      "Época 37/100 [Teste]: 100%|██████████| 40/40 [00:10<00:00,  3.96it/s, acc=83.1, loss=0.57]  \n"
     ]
    },
    {
     "name": "stdout",
     "output_type": "stream",
     "text": [
      "Época [37/100], Perda Treino: 0.2766, Acurácia Treino: 88.06%, Perda Teste: 0.3975, Acurácia Teste: 83.11%\n"
     ]
    },
    {
     "name": "stderr",
     "output_type": "stream",
     "text": [
      "Época 38/100 [Treino]: 100%|██████████| 320/320 [00:27<00:00, 11.70it/s, acc=87.8, loss=0.478] \n",
      "Época 38/100 [Teste]: 100%|██████████| 40/40 [00:09<00:00,  4.08it/s, acc=84.7, loss=0.232]\n"
     ]
    },
    {
     "name": "stdout",
     "output_type": "stream",
     "text": [
      "Época [38/100], Perda Treino: 0.2824, Acurácia Treino: 87.78%, Perda Teste: 0.3840, Acurácia Teste: 84.68%\n"
     ]
    },
    {
     "name": "stderr",
     "output_type": "stream",
     "text": [
      "Época 39/100 [Treino]: 100%|██████████| 320/320 [00:27<00:00, 11.56it/s, acc=88.6, loss=0.261] \n",
      "Época 39/100 [Teste]: 100%|██████████| 40/40 [00:10<00:00,  3.95it/s, acc=85, loss=0.521]  \n"
     ]
    },
    {
     "name": "stdout",
     "output_type": "stream",
     "text": [
      "Época [39/100], Perda Treino: 0.2662, Acurácia Treino: 88.57%, Perda Teste: 0.3495, Acurácia Teste: 84.99%\n"
     ]
    },
    {
     "name": "stderr",
     "output_type": "stream",
     "text": [
      "Época 40/100 [Treino]: 100%|██████████| 320/320 [00:27<00:00, 11.73it/s, acc=88.7, loss=0.475] \n",
      "Época 40/100 [Teste]: 100%|██████████| 40/40 [00:10<00:00,  3.98it/s, acc=84.8, loss=0.543]\n"
     ]
    },
    {
     "name": "stdout",
     "output_type": "stream",
     "text": [
      "Época [40/100], Perda Treino: 0.2678, Acurácia Treino: 88.74%, Perda Teste: 0.3606, Acurácia Teste: 84.75%\n"
     ]
    },
    {
     "name": "stderr",
     "output_type": "stream",
     "text": [
      "Época 41/100 [Treino]: 100%|██████████| 320/320 [00:27<00:00, 11.64it/s, acc=88.8, loss=0.392] \n",
      "Época 41/100 [Teste]: 100%|██████████| 40/40 [00:10<00:00,  3.99it/s, acc=86.3, loss=0.436]\n"
     ]
    },
    {
     "name": "stdout",
     "output_type": "stream",
     "text": [
      "Época [41/100], Perda Treino: 0.2619, Acurácia Treino: 88.81%, Perda Teste: 0.3527, Acurácia Teste: 86.32%\n"
     ]
    },
    {
     "name": "stderr",
     "output_type": "stream",
     "text": [
      "Época 42/100 [Treino]: 100%|██████████| 320/320 [00:27<00:00, 11.59it/s, acc=88.8, loss=0.134] \n",
      "Época 42/100 [Teste]: 100%|██████████| 40/40 [00:10<00:00,  3.93it/s, acc=84.1, loss=0.541] \n"
     ]
    },
    {
     "name": "stdout",
     "output_type": "stream",
     "text": [
      "Época [42/100], Perda Treino: 0.2630, Acurácia Treino: 88.82%, Perda Teste: 0.3604, Acurácia Teste: 84.13%\n"
     ]
    },
    {
     "name": "stderr",
     "output_type": "stream",
     "text": [
      "Época 43/100 [Treino]: 100%|██████████| 320/320 [00:27<00:00, 11.59it/s, acc=89.2, loss=0.23]  \n",
      "Época 43/100 [Teste]: 100%|██████████| 40/40 [00:10<00:00,  3.81it/s, acc=85.5, loss=0.718] \n"
     ]
    },
    {
     "name": "stdout",
     "output_type": "stream",
     "text": [
      "Época [43/100], Perda Treino: 0.2521, Acurácia Treino: 89.16%, Perda Teste: 0.3380, Acurácia Teste: 85.46%\n"
     ]
    },
    {
     "name": "stderr",
     "output_type": "stream",
     "text": [
      "Época 44/100 [Treino]: 100%|██████████| 320/320 [00:27<00:00, 11.48it/s, acc=89.6, loss=0.106] \n",
      "Época 44/100 [Teste]: 100%|██████████| 40/40 [00:11<00:00,  3.60it/s, acc=85.1, loss=0.399]\n"
     ]
    },
    {
     "name": "stdout",
     "output_type": "stream",
     "text": [
      "Época [44/100], Perda Treino: 0.2557, Acurácia Treino: 89.56%, Perda Teste: 0.3386, Acurácia Teste: 85.14%\n"
     ]
    },
    {
     "name": "stderr",
     "output_type": "stream",
     "text": [
      "Época 45/100 [Treino]: 100%|██████████| 320/320 [00:28<00:00, 11.39it/s, acc=89.5, loss=0.256] \n",
      "Época 45/100 [Teste]: 100%|██████████| 40/40 [00:10<00:00,  3.94it/s, acc=86.2, loss=0.342]\n"
     ]
    },
    {
     "name": "stdout",
     "output_type": "stream",
     "text": [
      "Época [45/100], Perda Treino: 0.2454, Acurácia Treino: 89.53%, Perda Teste: 0.3168, Acurácia Teste: 86.24%\n"
     ]
    },
    {
     "name": "stderr",
     "output_type": "stream",
     "text": [
      "Época 46/100 [Treino]: 100%|██████████| 320/320 [00:27<00:00, 11.49it/s, acc=89.9, loss=0.237] \n",
      "Época 46/100 [Teste]: 100%|██████████| 40/40 [00:10<00:00,  3.89it/s, acc=88.8, loss=0.394] \n"
     ]
    },
    {
     "name": "stdout",
     "output_type": "stream",
     "text": [
      "Época [46/100], Perda Treino: 0.2464, Acurácia Treino: 89.85%, Perda Teste: 0.2930, Acurácia Teste: 88.82%\n"
     ]
    },
    {
     "name": "stderr",
     "output_type": "stream",
     "text": [
      "Época 47/100 [Treino]: 100%|██████████| 320/320 [00:27<00:00, 11.52it/s, acc=89.2, loss=0.189] \n",
      "Época 47/100 [Teste]: 100%|██████████| 40/40 [00:10<00:00,  3.92it/s, acc=87.6, loss=0.449] \n"
     ]
    },
    {
     "name": "stdout",
     "output_type": "stream",
     "text": [
      "Época [47/100], Perda Treino: 0.2548, Acurácia Treino: 89.15%, Perda Teste: 0.3004, Acurácia Teste: 87.65%\n"
     ]
    },
    {
     "name": "stderr",
     "output_type": "stream",
     "text": [
      "Época 48/100 [Treino]: 100%|██████████| 320/320 [00:28<00:00, 11.31it/s, acc=89.8, loss=0.11]  \n",
      "Época 48/100 [Teste]: 100%|██████████| 40/40 [00:10<00:00,  3.89it/s, acc=88.6, loss=0.484] \n"
     ]
    },
    {
     "name": "stdout",
     "output_type": "stream",
     "text": [
      "Época [48/100], Perda Treino: 0.2393, Acurácia Treino: 89.77%, Perda Teste: 0.2993, Acurácia Teste: 88.58%\n"
     ]
    },
    {
     "name": "stderr",
     "output_type": "stream",
     "text": [
      "Época 49/100 [Treino]: 100%|██████████| 320/320 [00:27<00:00, 11.59it/s, acc=89.9, loss=0.244] \n",
      "Época 49/100 [Teste]: 100%|██████████| 40/40 [00:10<00:00,  3.87it/s, acc=86.9, loss=0.556] \n"
     ]
    },
    {
     "name": "stdout",
     "output_type": "stream",
     "text": [
      "Época [49/100], Perda Treino: 0.2401, Acurácia Treino: 89.85%, Perda Teste: 0.3051, Acurácia Teste: 86.94%\n"
     ]
    },
    {
     "name": "stderr",
     "output_type": "stream",
     "text": [
      "Época 50/100 [Treino]: 100%|██████████| 320/320 [00:27<00:00, 11.48it/s, acc=89.9, loss=0.234] \n",
      "Época 50/100 [Teste]: 100%|██████████| 40/40 [00:10<00:00,  3.95it/s, acc=89.1, loss=0.261]\n"
     ]
    },
    {
     "name": "stdout",
     "output_type": "stream",
     "text": [
      "Época [50/100], Perda Treino: 0.2432, Acurácia Treino: 89.94%, Perda Teste: 0.2665, Acurácia Teste: 89.05%\n"
     ]
    },
    {
     "name": "stderr",
     "output_type": "stream",
     "text": [
      "Época 51/100 [Treino]: 100%|██████████| 320/320 [00:27<00:00, 11.53it/s, acc=90.1, loss=0.173] \n",
      "Época 51/100 [Teste]: 100%|██████████| 40/40 [00:10<00:00,  3.81it/s, acc=90, loss=0.431]   \n"
     ]
    },
    {
     "name": "stdout",
     "output_type": "stream",
     "text": [
      "Época [51/100], Perda Treino: 0.2382, Acurácia Treino: 90.10%, Perda Teste: 0.2657, Acurácia Teste: 89.99%\n"
     ]
    },
    {
     "name": "stderr",
     "output_type": "stream",
     "text": [
      "Época 52/100 [Treino]: 100%|██████████| 320/320 [00:27<00:00, 11.67it/s, acc=89.9, loss=0.252] \n",
      "Época 52/100 [Teste]: 100%|██████████| 40/40 [00:10<00:00,  3.90it/s, acc=89.2, loss=0.315]\n"
     ]
    },
    {
     "name": "stdout",
     "output_type": "stream",
     "text": [
      "Época [52/100], Perda Treino: 0.2410, Acurácia Treino: 89.93%, Perda Teste: 0.2797, Acurácia Teste: 89.21%\n"
     ]
    },
    {
     "name": "stderr",
     "output_type": "stream",
     "text": [
      "Época 53/100 [Treino]: 100%|██████████| 320/320 [00:27<00:00, 11.73it/s, acc=90.5, loss=0.131] \n",
      "Época 53/100 [Teste]: 100%|██████████| 40/40 [00:09<00:00,  4.03it/s, acc=86.4, loss=0.693] \n"
     ]
    },
    {
     "name": "stdout",
     "output_type": "stream",
     "text": [
      "Época [53/100], Perda Treino: 0.2259, Acurácia Treino: 90.54%, Perda Teste: 0.3524, Acurácia Teste: 86.40%\n"
     ]
    },
    {
     "name": "stderr",
     "output_type": "stream",
     "text": [
      "Época 54/100 [Treino]: 100%|██████████| 320/320 [00:27<00:00, 11.72it/s, acc=90.2, loss=0.193] \n",
      "Época 54/100 [Teste]: 100%|██████████| 40/40 [00:09<00:00,  4.07it/s, acc=87.3, loss=0.417] \n"
     ]
    },
    {
     "name": "stdout",
     "output_type": "stream",
     "text": [
      "Época [54/100], Perda Treino: 0.2318, Acurácia Treino: 90.22%, Perda Teste: 0.2964, Acurácia Teste: 87.26%\n"
     ]
    },
    {
     "name": "stderr",
     "output_type": "stream",
     "text": [
      "Época 55/100 [Treino]: 100%|██████████| 320/320 [00:27<00:00, 11.82it/s, acc=90.5, loss=0.381] \n",
      "Época 55/100 [Teste]: 100%|██████████| 40/40 [00:09<00:00,  4.04it/s, acc=90.3, loss=0.422]\n"
     ]
    },
    {
     "name": "stdout",
     "output_type": "stream",
     "text": [
      "Época [55/100], Perda Treino: 0.2275, Acurácia Treino: 90.49%, Perda Teste: 0.2602, Acurácia Teste: 90.30%\n"
     ]
    },
    {
     "name": "stderr",
     "output_type": "stream",
     "text": [
      "Época 56/100 [Treino]: 100%|██████████| 320/320 [00:27<00:00, 11.80it/s, acc=90.7, loss=0.189] \n",
      "Época 56/100 [Teste]: 100%|██████████| 40/40 [00:09<00:00,  4.06it/s, acc=90.5, loss=0.371]\n"
     ]
    },
    {
     "name": "stdout",
     "output_type": "stream",
     "text": [
      "Época [56/100], Perda Treino: 0.2209, Acurácia Treino: 90.74%, Perda Teste: 0.2422, Acurácia Teste: 90.54%\n"
     ]
    },
    {
     "name": "stderr",
     "output_type": "stream",
     "text": [
      "Época 57/100 [Treino]: 100%|██████████| 320/320 [00:27<00:00, 11.81it/s, acc=90.4, loss=0.51]  \n",
      "Época 57/100 [Teste]: 100%|██████████| 40/40 [00:09<00:00,  4.05it/s, acc=88.8, loss=0.202] \n"
     ]
    },
    {
     "name": "stdout",
     "output_type": "stream",
     "text": [
      "Época [57/100], Perda Treino: 0.2305, Acurácia Treino: 90.36%, Perda Teste: 0.2591, Acurácia Teste: 88.82%\n"
     ]
    },
    {
     "name": "stderr",
     "output_type": "stream",
     "text": [
      "Época 58/100 [Treino]: 100%|██████████| 320/320 [00:27<00:00, 11.73it/s, acc=91, loss=0.249]   \n",
      "Época 58/100 [Teste]: 100%|██████████| 40/40 [00:09<00:00,  4.04it/s, acc=90.9, loss=0.276] \n"
     ]
    },
    {
     "name": "stdout",
     "output_type": "stream",
     "text": [
      "Época [58/100], Perda Treino: 0.2210, Acurácia Treino: 91.03%, Perda Teste: 0.2344, Acurácia Teste: 90.93%\n"
     ]
    },
    {
     "name": "stderr",
     "output_type": "stream",
     "text": [
      "Época 59/100 [Treino]: 100%|██████████| 320/320 [00:27<00:00, 11.78it/s, acc=91.3, loss=0.161] \n",
      "Época 59/100 [Teste]: 100%|██████████| 40/40 [00:10<00:00,  3.99it/s, acc=91.7, loss=0.264] \n"
     ]
    },
    {
     "name": "stdout",
     "output_type": "stream",
     "text": [
      "Época [59/100], Perda Treino: 0.2136, Acurácia Treino: 91.31%, Perda Teste: 0.2169, Acurácia Teste: 91.71%\n"
     ]
    },
    {
     "name": "stderr",
     "output_type": "stream",
     "text": [
      "Época 60/100 [Treino]: 100%|██████████| 320/320 [00:27<00:00, 11.73it/s, acc=91, loss=0.205]   \n",
      "Época 60/100 [Teste]: 100%|██████████| 40/40 [00:09<00:00,  4.04it/s, acc=89.7, loss=0.306]\n"
     ]
    },
    {
     "name": "stdout",
     "output_type": "stream",
     "text": [
      "Época [60/100], Perda Treino: 0.2136, Acurácia Treino: 91.02%, Perda Teste: 0.2561, Acurácia Teste: 89.68%\n"
     ]
    },
    {
     "name": "stderr",
     "output_type": "stream",
     "text": [
      "Época 61/100 [Treino]: 100%|██████████| 320/320 [00:27<00:00, 11.71it/s, acc=90.7, loss=0.145] \n",
      "Época 61/100 [Teste]: 100%|██████████| 40/40 [00:09<00:00,  4.06it/s, acc=91.9, loss=0.258] \n"
     ]
    },
    {
     "name": "stdout",
     "output_type": "stream",
     "text": [
      "Época [61/100], Perda Treino: 0.2182, Acurácia Treino: 90.70%, Perda Teste: 0.2360, Acurácia Teste: 91.95%\n"
     ]
    },
    {
     "name": "stderr",
     "output_type": "stream",
     "text": [
      "Época 62/100 [Treino]: 100%|██████████| 320/320 [00:27<00:00, 11.82it/s, acc=90.9, loss=0.233] \n",
      "Época 62/100 [Teste]: 100%|██████████| 40/40 [00:09<00:00,  4.05it/s, acc=86.2, loss=0.807] \n"
     ]
    },
    {
     "name": "stdout",
     "output_type": "stream",
     "text": [
      "Época [62/100], Perda Treino: 0.2148, Acurácia Treino: 90.91%, Perda Teste: 0.3407, Acurácia Teste: 86.16%\n"
     ]
    },
    {
     "name": "stderr",
     "output_type": "stream",
     "text": [
      "Época 63/100 [Treino]: 100%|██████████| 320/320 [00:27<00:00, 11.80it/s, acc=91.5, loss=0.198] \n",
      "Época 63/100 [Teste]: 100%|██████████| 40/40 [00:09<00:00,  4.04it/s, acc=91.9, loss=0.357] \n"
     ]
    },
    {
     "name": "stdout",
     "output_type": "stream",
     "text": [
      "Época [63/100], Perda Treino: 0.2029, Acurácia Treino: 91.46%, Perda Teste: 0.2191, Acurácia Teste: 91.95%\n"
     ]
    },
    {
     "name": "stderr",
     "output_type": "stream",
     "text": [
      "Época 64/100 [Treino]: 100%|██████████| 320/320 [00:27<00:00, 11.69it/s, acc=91.1, loss=0.137] \n",
      "Época 64/100 [Teste]: 100%|██████████| 40/40 [00:09<00:00,  4.01it/s, acc=91.9, loss=0.259]\n"
     ]
    },
    {
     "name": "stdout",
     "output_type": "stream",
     "text": [
      "Época [64/100], Perda Treino: 0.2130, Acurácia Treino: 91.10%, Perda Teste: 0.2117, Acurácia Teste: 91.87%\n"
     ]
    },
    {
     "name": "stderr",
     "output_type": "stream",
     "text": [
      "Época 65/100 [Treino]: 100%|██████████| 320/320 [00:27<00:00, 11.69it/s, acc=91.2, loss=0.123] \n",
      "Época 65/100 [Teste]: 100%|██████████| 40/40 [00:09<00:00,  4.07it/s, acc=91.9, loss=0.322] \n"
     ]
    },
    {
     "name": "stdout",
     "output_type": "stream",
     "text": [
      "Época [65/100], Perda Treino: 0.2081, Acurácia Treino: 91.16%, Perda Teste: 0.2109, Acurácia Teste: 91.87%\n"
     ]
    },
    {
     "name": "stderr",
     "output_type": "stream",
     "text": [
      "Época 66/100 [Treino]: 100%|██████████| 320/320 [00:27<00:00, 11.59it/s, acc=91.7, loss=0.0696] \n",
      "Época 66/100 [Teste]: 100%|██████████| 40/40 [00:10<00:00,  3.90it/s, acc=92.6, loss=0.267] \n"
     ]
    },
    {
     "name": "stdout",
     "output_type": "stream",
     "text": [
      "Época [66/100], Perda Treino: 0.1944, Acurácia Treino: 91.70%, Perda Teste: 0.1891, Acurácia Teste: 92.57%\n"
     ]
    },
    {
     "name": "stderr",
     "output_type": "stream",
     "text": [
      "Época 67/100 [Treino]: 100%|██████████| 320/320 [00:27<00:00, 11.51it/s, acc=91.8, loss=0.116] \n",
      "Época 67/100 [Teste]: 100%|██████████| 40/40 [00:09<00:00,  4.05it/s, acc=93.1, loss=0.316] \n"
     ]
    },
    {
     "name": "stdout",
     "output_type": "stream",
     "text": [
      "Época [67/100], Perda Treino: 0.1988, Acurácia Treino: 91.80%, Perda Teste: 0.1946, Acurácia Teste: 93.12%\n"
     ]
    },
    {
     "name": "stderr",
     "output_type": "stream",
     "text": [
      "Época 68/100 [Treino]: 100%|██████████| 320/320 [00:27<00:00, 11.82it/s, acc=91.6, loss=0.322] \n",
      "Época 68/100 [Teste]: 100%|██████████| 40/40 [00:09<00:00,  4.05it/s, acc=89.8, loss=0.487] \n"
     ]
    },
    {
     "name": "stdout",
     "output_type": "stream",
     "text": [
      "Época [68/100], Perda Treino: 0.2093, Acurácia Treino: 91.63%, Perda Teste: 0.2447, Acurácia Teste: 89.84%\n"
     ]
    },
    {
     "name": "stderr",
     "output_type": "stream",
     "text": [
      "Época 69/100 [Treino]: 100%|██████████| 320/320 [00:27<00:00, 11.79it/s, acc=91.7, loss=0.345] \n",
      "Época 69/100 [Teste]: 100%|██████████| 40/40 [00:09<00:00,  4.06it/s, acc=92, loss=0.425]   \n"
     ]
    },
    {
     "name": "stdout",
     "output_type": "stream",
     "text": [
      "Época [69/100], Perda Treino: 0.2020, Acurácia Treino: 91.70%, Perda Teste: 0.1964, Acurácia Teste: 92.03%\n"
     ]
    },
    {
     "name": "stderr",
     "output_type": "stream",
     "text": [
      "Época 70/100 [Treino]: 100%|██████████| 320/320 [00:27<00:00, 11.81it/s, acc=91.3, loss=0.0693]\n",
      "Época 70/100 [Teste]: 100%|██████████| 40/40 [00:09<00:00,  4.14it/s, acc=90.1, loss=0.439] \n"
     ]
    },
    {
     "name": "stdout",
     "output_type": "stream",
     "text": [
      "Época [70/100], Perda Treino: 0.2079, Acurácia Treino: 91.35%, Perda Teste: 0.2654, Acurácia Teste: 90.15%\n"
     ]
    },
    {
     "name": "stderr",
     "output_type": "stream",
     "text": [
      "Época 71/100 [Treino]: 100%|██████████| 320/320 [00:27<00:00, 11.78it/s, acc=91.8, loss=0.216] \n",
      "Época 71/100 [Teste]: 100%|██████████| 40/40 [00:09<00:00,  4.07it/s, acc=93.9, loss=0.22]  \n"
     ]
    },
    {
     "name": "stdout",
     "output_type": "stream",
     "text": [
      "Época [71/100], Perda Treino: 0.2035, Acurácia Treino: 91.84%, Perda Teste: 0.1907, Acurácia Teste: 93.90%\n"
     ]
    },
    {
     "name": "stderr",
     "output_type": "stream",
     "text": [
      "Época 72/100 [Treino]: 100%|██████████| 320/320 [00:27<00:00, 11.72it/s, acc=92.2, loss=0.128] \n",
      "Época 72/100 [Teste]: 100%|██████████| 40/40 [00:09<00:00,  4.07it/s, acc=91.1, loss=0.355] \n"
     ]
    },
    {
     "name": "stdout",
     "output_type": "stream",
     "text": [
      "Época [72/100], Perda Treino: 0.1968, Acurácia Treino: 92.17%, Perda Teste: 0.2129, Acurácia Teste: 91.09%\n"
     ]
    },
    {
     "name": "stderr",
     "output_type": "stream",
     "text": [
      "Época 73/100 [Treino]: 100%|██████████| 320/320 [00:27<00:00, 11.73it/s, acc=91.9, loss=0.233] \n",
      "Época 73/100 [Teste]: 100%|██████████| 40/40 [00:09<00:00,  4.05it/s, acc=90.9, loss=0.29]  \n"
     ]
    },
    {
     "name": "stdout",
     "output_type": "stream",
     "text": [
      "Época [73/100], Perda Treino: 0.1973, Acurácia Treino: 91.86%, Perda Teste: 0.2396, Acurácia Teste: 90.93%\n"
     ]
    },
    {
     "name": "stderr",
     "output_type": "stream",
     "text": [
      "Época 74/100 [Treino]: 100%|██████████| 320/320 [00:27<00:00, 11.72it/s, acc=92.4, loss=0.117] \n",
      "Época 74/100 [Teste]: 100%|██████████| 40/40 [00:09<00:00,  4.05it/s, acc=93, loss=0.228]   \n"
     ]
    },
    {
     "name": "stdout",
     "output_type": "stream",
     "text": [
      "Época [74/100], Perda Treino: 0.1843, Acurácia Treino: 92.39%, Perda Teste: 0.1906, Acurácia Teste: 92.96%\n"
     ]
    },
    {
     "name": "stderr",
     "output_type": "stream",
     "text": [
      "Época 75/100 [Treino]: 100%|██████████| 320/320 [00:27<00:00, 11.81it/s, acc=92.2, loss=0.143] \n",
      "Época 75/100 [Teste]: 100%|██████████| 40/40 [00:09<00:00,  4.05it/s, acc=93.3, loss=0.18]  \n"
     ]
    },
    {
     "name": "stdout",
     "output_type": "stream",
     "text": [
      "Época [75/100], Perda Treino: 0.1947, Acurácia Treino: 92.25%, Perda Teste: 0.1848, Acurácia Teste: 93.28%\n"
     ]
    },
    {
     "name": "stderr",
     "output_type": "stream",
     "text": [
      "Época 76/100 [Treino]: 100%|██████████| 320/320 [00:27<00:00, 11.78it/s, acc=92.6, loss=0.349] \n",
      "Época 76/100 [Teste]: 100%|██████████| 40/40 [00:09<00:00,  4.07it/s, acc=93.3, loss=0.188] \n"
     ]
    },
    {
     "name": "stdout",
     "output_type": "stream",
     "text": [
      "Época [76/100], Perda Treino: 0.1872, Acurácia Treino: 92.57%, Perda Teste: 0.1862, Acurácia Teste: 93.28%\n"
     ]
    },
    {
     "name": "stderr",
     "output_type": "stream",
     "text": [
      "Época 77/100 [Treino]: 100%|██████████| 320/320 [00:27<00:00, 11.64it/s, acc=92.9, loss=0.0742]\n",
      "Época 77/100 [Teste]: 100%|██████████| 40/40 [00:10<00:00,  3.97it/s, acc=92.2, loss=0.347] \n"
     ]
    },
    {
     "name": "stdout",
     "output_type": "stream",
     "text": [
      "Época [77/100], Perda Treino: 0.1826, Acurácia Treino: 92.86%, Perda Teste: 0.1964, Acurácia Teste: 92.18%\n"
     ]
    },
    {
     "name": "stderr",
     "output_type": "stream",
     "text": [
      "Época 78/100 [Treino]: 100%|██████████| 320/320 [00:27<00:00, 11.73it/s, acc=92, loss=0.161]   \n",
      "Época 78/100 [Teste]: 100%|██████████| 40/40 [00:09<00:00,  4.04it/s, acc=91.6, loss=0.358] \n"
     ]
    },
    {
     "name": "stdout",
     "output_type": "stream",
     "text": [
      "Época [78/100], Perda Treino: 0.1990, Acurácia Treino: 91.97%, Perda Teste: 0.2265, Acurácia Teste: 91.63%\n"
     ]
    },
    {
     "name": "stderr",
     "output_type": "stream",
     "text": [
      "Época 79/100 [Treino]: 100%|██████████| 320/320 [00:27<00:00, 11.79it/s, acc=92.6, loss=0.375] \n",
      "Época 79/100 [Teste]: 100%|██████████| 40/40 [00:09<00:00,  4.08it/s, acc=91.6, loss=0.156] \n"
     ]
    },
    {
     "name": "stdout",
     "output_type": "stream",
     "text": [
      "Época [79/100], Perda Treino: 0.1854, Acurácia Treino: 92.61%, Perda Teste: 0.2236, Acurácia Teste: 91.63%\n"
     ]
    },
    {
     "name": "stderr",
     "output_type": "stream",
     "text": [
      "Época 80/100 [Treino]: 100%|██████████| 320/320 [00:27<00:00, 11.81it/s, acc=92.7, loss=0.136] \n",
      "Época 80/100 [Teste]: 100%|██████████| 40/40 [00:09<00:00,  4.04it/s, acc=93.5, loss=0.306] \n"
     ]
    },
    {
     "name": "stdout",
     "output_type": "stream",
     "text": [
      "Época [80/100], Perda Treino: 0.1814, Acurácia Treino: 92.66%, Perda Teste: 0.1591, Acurácia Teste: 93.51%\n"
     ]
    },
    {
     "name": "stderr",
     "output_type": "stream",
     "text": [
      "Época 81/100 [Treino]: 100%|██████████| 320/320 [00:27<00:00, 11.78it/s, acc=92.3, loss=0.222] \n",
      "Época 81/100 [Teste]: 100%|██████████| 40/40 [00:09<00:00,  4.09it/s, acc=94, loss=0.158]   \n"
     ]
    },
    {
     "name": "stdout",
     "output_type": "stream",
     "text": [
      "Época [81/100], Perda Treino: 0.1874, Acurácia Treino: 92.31%, Perda Teste: 0.1723, Acurácia Teste: 93.98%\n"
     ]
    },
    {
     "name": "stderr",
     "output_type": "stream",
     "text": [
      "Época 82/100 [Treino]: 100%|██████████| 320/320 [00:27<00:00, 11.66it/s, acc=93, loss=0.156]   \n",
      "Época 82/100 [Teste]: 100%|██████████| 40/40 [00:10<00:00,  3.92it/s, acc=93.7, loss=0.265] \n"
     ]
    },
    {
     "name": "stdout",
     "output_type": "stream",
     "text": [
      "Época [82/100], Perda Treino: 0.1770, Acurácia Treino: 93.03%, Perda Teste: 0.1753, Acurácia Teste: 93.67%\n"
     ]
    },
    {
     "name": "stderr",
     "output_type": "stream",
     "text": [
      "Época 83/100 [Treino]: 100%|██████████| 320/320 [00:27<00:00, 11.74it/s, acc=92.5, loss=0.154] \n",
      "Época 83/100 [Teste]: 100%|██████████| 40/40 [00:10<00:00,  3.98it/s, acc=93.6, loss=0.359] \n"
     ]
    },
    {
     "name": "stdout",
     "output_type": "stream",
     "text": [
      "Época [83/100], Perda Treino: 0.1868, Acurácia Treino: 92.48%, Perda Teste: 0.1831, Acurácia Teste: 93.59%\n"
     ]
    },
    {
     "name": "stderr",
     "output_type": "stream",
     "text": [
      "Época 84/100 [Treino]: 100%|██████████| 320/320 [00:27<00:00, 11.79it/s, acc=92.7, loss=0.192]  \n",
      "Época 84/100 [Teste]: 100%|██████████| 40/40 [00:10<00:00,  3.99it/s, acc=92.9, loss=0.435] \n"
     ]
    },
    {
     "name": "stdout",
     "output_type": "stream",
     "text": [
      "Época [84/100], Perda Treino: 0.1768, Acurácia Treino: 92.74%, Perda Teste: 0.1996, Acurácia Teste: 92.89%\n"
     ]
    },
    {
     "name": "stderr",
     "output_type": "stream",
     "text": [
      "Época 85/100 [Treino]: 100%|██████████| 320/320 [00:27<00:00, 11.79it/s, acc=93.1, loss=0.252]  \n",
      "Época 85/100 [Teste]: 100%|██████████| 40/40 [00:09<00:00,  4.07it/s, acc=93.2, loss=0.33]  \n"
     ]
    },
    {
     "name": "stdout",
     "output_type": "stream",
     "text": [
      "Época [85/100], Perda Treino: 0.1825, Acurácia Treino: 93.13%, Perda Teste: 0.1954, Acurácia Teste: 93.20%\n"
     ]
    },
    {
     "name": "stderr",
     "output_type": "stream",
     "text": [
      "Época 86/100 [Treino]: 100%|██████████| 320/320 [00:27<00:00, 11.72it/s, acc=92.7, loss=0.295] \n",
      "Época 86/100 [Teste]: 100%|██████████| 40/40 [00:10<00:00,  3.93it/s, acc=93, loss=0.277]    \n"
     ]
    },
    {
     "name": "stdout",
     "output_type": "stream",
     "text": [
      "Época [86/100], Perda Treino: 0.1799, Acurácia Treino: 92.68%, Perda Teste: 0.1888, Acurácia Teste: 92.96%\n"
     ]
    },
    {
     "name": "stderr",
     "output_type": "stream",
     "text": [
      "Época 87/100 [Treino]: 100%|██████████| 320/320 [00:27<00:00, 11.67it/s, acc=92.7, loss=0.114]  \n",
      "Época 87/100 [Teste]: 100%|██████████| 40/40 [00:09<00:00,  4.03it/s, acc=94.8, loss=0.187] \n"
     ]
    },
    {
     "name": "stdout",
     "output_type": "stream",
     "text": [
      "Época [87/100], Perda Treino: 0.1729, Acurácia Treino: 92.69%, Perda Teste: 0.1503, Acurácia Teste: 94.84%\n"
     ]
    },
    {
     "name": "stderr",
     "output_type": "stream",
     "text": [
      "Época 88/100 [Treino]: 100%|██████████| 320/320 [00:27<00:00, 11.71it/s, acc=92.8, loss=0.23]  \n",
      "Época 88/100 [Teste]: 100%|██████████| 40/40 [00:09<00:00,  4.08it/s, acc=93.7, loss=0.244] \n"
     ]
    },
    {
     "name": "stdout",
     "output_type": "stream",
     "text": [
      "Época [88/100], Perda Treino: 0.1749, Acurácia Treino: 92.77%, Perda Teste: 0.1824, Acurácia Teste: 93.67%\n"
     ]
    },
    {
     "name": "stderr",
     "output_type": "stream",
     "text": [
      "Época 89/100 [Treino]: 100%|██████████| 320/320 [00:27<00:00, 11.66it/s, acc=92.9, loss=0.0705]\n",
      "Época 89/100 [Teste]: 100%|██████████| 40/40 [00:10<00:00,  3.94it/s, acc=94.2, loss=0.237] \n"
     ]
    },
    {
     "name": "stdout",
     "output_type": "stream",
     "text": [
      "Época [89/100], Perda Treino: 0.1797, Acurácia Treino: 92.90%, Perda Teste: 0.1603, Acurácia Teste: 94.21%\n"
     ]
    },
    {
     "name": "stderr",
     "output_type": "stream",
     "text": [
      "Época 90/100 [Treino]: 100%|██████████| 320/320 [00:27<00:00, 11.60it/s, acc=93.1, loss=0.0906]\n",
      "Época 90/100 [Teste]: 100%|██████████| 40/40 [00:10<00:00,  3.85it/s, acc=93.7, loss=0.3]   \n"
     ]
    },
    {
     "name": "stdout",
     "output_type": "stream",
     "text": [
      "Época [90/100], Perda Treino: 0.1664, Acurácia Treino: 93.10%, Perda Teste: 0.1846, Acurácia Teste: 93.67%\n"
     ]
    },
    {
     "name": "stderr",
     "output_type": "stream",
     "text": [
      "Época 91/100 [Treino]: 100%|██████████| 320/320 [00:27<00:00, 11.71it/s, acc=93.4, loss=0.221] \n",
      "Época 91/100 [Teste]: 100%|██████████| 40/40 [00:10<00:00,  3.99it/s, acc=94, loss=0.156]   \n"
     ]
    },
    {
     "name": "stdout",
     "output_type": "stream",
     "text": [
      "Época [91/100], Perda Treino: 0.1642, Acurácia Treino: 93.37%, Perda Teste: 0.1600, Acurácia Teste: 93.98%\n"
     ]
    },
    {
     "name": "stderr",
     "output_type": "stream",
     "text": [
      "Época 92/100 [Treino]: 100%|██████████| 320/320 [00:27<00:00, 11.72it/s, acc=92.9, loss=0.32]   \n",
      "Época 92/100 [Teste]: 100%|██████████| 40/40 [00:10<00:00,  3.98it/s, acc=94.1, loss=0.175] \n"
     ]
    },
    {
     "name": "stdout",
     "output_type": "stream",
     "text": [
      "Época [92/100], Perda Treino: 0.1736, Acurácia Treino: 92.94%, Perda Teste: 0.1702, Acurácia Teste: 94.06%\n"
     ]
    },
    {
     "name": "stderr",
     "output_type": "stream",
     "text": [
      "Época 93/100 [Treino]: 100%|██████████| 320/320 [00:27<00:00, 11.56it/s, acc=92.9, loss=0.156] \n",
      "Época 93/100 [Teste]: 100%|██████████| 40/40 [00:10<00:00,  3.96it/s, acc=94.1, loss=0.215] \n"
     ]
    },
    {
     "name": "stdout",
     "output_type": "stream",
     "text": [
      "Época [93/100], Perda Treino: 0.1688, Acurácia Treino: 92.94%, Perda Teste: 0.1757, Acurácia Teste: 94.06%\n"
     ]
    },
    {
     "name": "stderr",
     "output_type": "stream",
     "text": [
      "Época 94/100 [Treino]: 100%|██████████| 320/320 [00:27<00:00, 11.61it/s, acc=93.1, loss=0.144] \n",
      "Época 94/100 [Teste]: 100%|██████████| 40/40 [00:10<00:00,  3.99it/s, acc=94.1, loss=0.393]  \n"
     ]
    },
    {
     "name": "stdout",
     "output_type": "stream",
     "text": [
      "Época [94/100], Perda Treino: 0.1724, Acurácia Treino: 93.12%, Perda Teste: 0.1842, Acurácia Teste: 94.06%\n"
     ]
    },
    {
     "name": "stderr",
     "output_type": "stream",
     "text": [
      "Época 95/100 [Treino]: 100%|██████████| 320/320 [00:27<00:00, 11.61it/s, acc=93, loss=0.135]   \n",
      "Época 95/100 [Teste]: 100%|██████████| 40/40 [00:10<00:00,  3.92it/s, acc=93.9, loss=0.297] \n"
     ]
    },
    {
     "name": "stdout",
     "output_type": "stream",
     "text": [
      "Época [95/100], Perda Treino: 0.1730, Acurácia Treino: 93.02%, Perda Teste: 0.1708, Acurácia Teste: 93.90%\n"
     ]
    },
    {
     "name": "stderr",
     "output_type": "stream",
     "text": [
      "Época 96/100 [Treino]: 100%|██████████| 320/320 [00:27<00:00, 11.59it/s, acc=93.6, loss=0.0671]\n",
      "Época 96/100 [Teste]: 100%|██████████| 40/40 [00:10<00:00,  3.93it/s, acc=93.4, loss=0.497] \n"
     ]
    },
    {
     "name": "stdout",
     "output_type": "stream",
     "text": [
      "Época [96/100], Perda Treino: 0.1616, Acurácia Treino: 93.55%, Perda Teste: 0.1758, Acurácia Teste: 93.43%\n"
     ]
    },
    {
     "name": "stderr",
     "output_type": "stream",
     "text": [
      "Época 97/100 [Treino]: 100%|██████████| 320/320 [00:27<00:00, 11.61it/s, acc=93.3, loss=0.0983]\n",
      "Época 97/100 [Teste]: 100%|██████████| 40/40 [00:10<00:00,  4.00it/s, acc=94.4, loss=0.265] \n"
     ]
    },
    {
     "name": "stdout",
     "output_type": "stream",
     "text": [
      "Época [97/100], Perda Treino: 0.1696, Acurácia Treino: 93.28%, Perda Teste: 0.1705, Acurácia Teste: 94.37%\n"
     ]
    },
    {
     "name": "stderr",
     "output_type": "stream",
     "text": [
      "Época 98/100 [Treino]: 100%|██████████| 320/320 [00:27<00:00, 11.55it/s, acc=93, loss=0.0835]   \n",
      "Época 98/100 [Teste]: 100%|██████████| 40/40 [00:10<00:00,  3.97it/s, acc=93.9, loss=0.454] \n"
     ]
    },
    {
     "name": "stdout",
     "output_type": "stream",
     "text": [
      "Época [98/100], Perda Treino: 0.1740, Acurácia Treino: 93.02%, Perda Teste: 0.1755, Acurácia Teste: 93.90%\n"
     ]
    },
    {
     "name": "stderr",
     "output_type": "stream",
     "text": [
      "Época 99/100 [Treino]: 100%|██████████| 320/320 [00:27<00:00, 11.57it/s, acc=93.2, loss=0.0397]\n",
      "Época 99/100 [Teste]: 100%|██████████| 40/40 [00:10<00:00,  3.84it/s, acc=94.1, loss=0.486] \n"
     ]
    },
    {
     "name": "stdout",
     "output_type": "stream",
     "text": [
      "Época [99/100], Perda Treino: 0.1636, Acurácia Treino: 93.17%, Perda Teste: 0.1669, Acurácia Teste: 94.14%\n"
     ]
    },
    {
     "name": "stderr",
     "output_type": "stream",
     "text": [
      "Época 100/100 [Treino]: 100%|██████████| 320/320 [00:27<00:00, 11.61it/s, acc=93.5, loss=0.283] \n",
      "Época 100/100 [Teste]: 100%|██████████| 40/40 [00:10<00:00,  3.95it/s, acc=94.7, loss=0.508]  "
     ]
    },
    {
     "name": "stdout",
     "output_type": "stream",
     "text": [
      "Época [100/100], Perda Treino: 0.1651, Acurácia Treino: 93.52%, Perda Teste: 0.1584, Acurácia Teste: 94.68%\n"
     ]
    },
    {
     "name": "stderr",
     "output_type": "stream",
     "text": [
      "\n"
     ]
    }
   ],
   "source": [
    "# Inicializa o modelo\n",
    "model = AlzheimerCNN(num_classes=4)\n",
    "\n",
    "# Função de perda e otimizador\n",
    "criterion = nn.CrossEntropyLoss()\n",
    "optimizer = optim.Adam(model.parameters(), lr=0.001)\n",
    "\n",
    "# Treina o modelo\n",
    "train_losses, train_accuracies, test_losses, test_accuracies = train_model(\n",
    "    model, train_loader, test_loader, criterion, optimizer, num_epochs=100\n",
    ")"
   ]
  },
  {
   "cell_type": "markdown",
   "metadata": {},
   "source": [
    "## Visualização dos Resultados do Treinamento"
   ]
  },
  {
   "cell_type": "code",
   "execution_count": 13,
   "metadata": {},
   "outputs": [
    {
     "data": {
      "image/png": "[encoded data removed]",
      "text/plain": [
       "<Figure size 1200x400 with 2 Axes>"
      ]
     },
     "metadata": {},
     "output_type": "display_data"
    }
   ],
   "source": [
    "plt.figure(figsize=(12, 4))\n",
    "\n",
    "plt.subplot(1, 2, 1)\n",
    "plt.plot(train_losses, label='Perda Treino')\n",
    "plt.plot(test_losses, label='Perda Teste')\n",
    "plt.title('Perda por Época')\n",
    "plt.xlabel('Época')\n",
    "plt.ylabel('Perda')\n",
    "plt.legend()\n",
    "\n",
    "plt.subplot(1, 2, 2)\n",
    "plt.plot(train_accuracies, label='Acurácia Treino')\n",
    "plt.plot(test_accuracies, label='Acurácia Teste')\n",
    "plt.title('Acurácia por Época')\n",
    "plt.xlabel('Época')\n",
    "plt.ylabel('Acurácia (%)')\n",
    "plt.legend()\n",
    "\n",
    "plt.tight_layout()\n",
    "plt.show()"
   ]
  },
  {
   "cell_type": "markdown",
   "metadata": {},
   "source": [
    "## Avaliação do Modelo\n",
    "\n",
    "Avaliação detalhada do desempenho do modelo."
   ]
  },
  {
   "cell_type": "code",
   "execution_count": 14,
   "metadata": {},
   "outputs": [
    {
     "name": "stderr",
     "output_type": "stream",
     "text": [
      "C:\\Users\\Lucas\\AppData\\Local\\Temp\\ipykernel_3816\\2164362886.py:36: FutureWarning: You are using `torch.load` with `weights_only=False` (the current default value), which uses the default pickle module implicitly. It is possible to construct malicious pickle data which will execute arbitrary code during unpickling (See https://github.com/pytorch/pytorch/blob/main/SECURITY.md#untrusted-models for more details). In a future release, the default value for `weights_only` will be flipped to `True`. This limits the functions that could be executed during unpickling. Arbitrary objects will no longer be allowed to be loaded via this mode unless they are explicitly allowlisted by the user via `torch.serialization.add_safe_globals`. We recommend you start setting `weights_only=True` for any use case where you don't have full control of the loaded file. Please open an issue on GitHub for any issues related to this experimental feature.\n",
      "  model.load_state_dict(torch.load('alzheimer_mri_model.pth'))\n",
      "Evaluating: 100%|██████████| 40/40 [00:10<00:00,  3.98it/s]"
     ]
    },
    {
     "name": "stdout",
     "output_type": "stream",
     "text": [
      "                      precision    recall  f1-score   support\n",
      "\n",
      "     Mild Impairment       0.98      0.96      0.97       179\n",
      " Moderate Impairment       1.00      1.00      1.00        12\n",
      "       No Impairment       0.96      0.97      0.96       640\n",
      "Very Mild Impairment       0.95      0.94      0.94       448\n",
      "\n",
      "            accuracy                           0.96      1279\n",
      "           macro avg       0.97      0.97      0.97      1279\n",
      "        weighted avg       0.96      0.96      0.96      1279\n",
      "\n",
      "Confusion Matrix:\n"
     ]
    },
    {
     "name": "stderr",
     "output_type": "stream",
     "text": [
      "\n"
     ]
    },
    {
     "data": {
      "image/png": "[encoded data removed]",
      "text/plain": [
       "<Figure size 800x600 with 2 Axes>"
      ]
     },
     "metadata": {},
     "output_type": "display_data"
    }
   ],
   "source": [
    "def evaluate_model(model, test_loader):\n",
    "    device = torch.device(\"cuda\" if torch.cuda.is_available() else \"cpu\")\n",
    "    model = model.to(device)\n",
    "    model.eval()\n",
    "    \n",
    "    all_preds = []\n",
    "    all_labels = []\n",
    "    \n",
    "    with torch.no_grad():\n",
    "        for images, labels in tqdm(test_loader, desc='Evaluating'):\n",
    "            images, labels = images.to(device), labels.to(device)\n",
    "            outputs = model(images)\n",
    "            _, predicted = torch.max(outputs, 1)\n",
    "            \n",
    "            all_preds.extend(predicted.cpu().numpy())\n",
    "            all_labels.extend(labels.cpu().numpy())\n",
    "    \n",
    "    # Print classification report\n",
    "    print(classification_report(all_labels, all_preds, target_names=class_to_idx.keys()))\n",
    "    \n",
    "    # Print confusion matrix\n",
    "    print(\"Confusion Matrix:\")\n",
    "    le = LabelEncoder()\n",
    "    le.fit_transform(all_labels)\n",
    "    cm = confusion_matrix(all_labels, all_preds)\n",
    "    plt.figure(figsize=(8, 6))\n",
    "    sns.heatmap(cm, annot=True, fmt='d', cmap='Blues', xticklabels=le.classes_, yticklabels=le.classes_)\n",
    "    plt.title('Matriz de Confusão')\n",
    "    plt.xlabel('Predito')\n",
    "    plt.ylabel('Verdadeiro')\n",
    "    plt.show()\n",
    "    \n",
    "    return all_preds, all_labels\n",
    "\n",
    "# Load best model\n",
    "model.load_state_dict(torch.load('alzheimer_mri_model.pth'))\n",
    "\n",
    "# Evaluate\n",
    "predictions, true_labels = evaluate_model(model, test_loader)"
   ]
  }
 ],
 "metadata": {
  "kernelspec": {
   "display_name": "Python 3",
   "language": "python",
   "name": "python3"
  },
  "language_info": {
   "codemirror_mode": {
    "name": "ipython",
    "version": 3
   },
   "file_extension": ".py",
   "mimetype": "text/x-python",
   "name": "python",
   "nbconvert_exporter": "python",
   "pygments_lexer": "ipython3",
   "version": "3.10.6"
  }
 },
 "nbformat": 4,
 "nbformat_minor": 4
}
