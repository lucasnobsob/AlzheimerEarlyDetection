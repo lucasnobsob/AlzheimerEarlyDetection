{
 "cells": [
  {
   "cell_type": "markdown",
   "metadata": {},
   "source": [
    "# Detecção de Alzheimer com CNN Invariante à Resolução\n",
    "\n",
    "Este notebook implementa um modelo CNN para detecção da doença de Alzheimer que pode lidar com imagens de diferentes resoluções mantendo alta precisão."
   ]
  },
  {
   "cell_type": "code",
   "execution_count": 1,
   "metadata": {},
   "outputs": [
    {
     "name": "stdout",
     "output_type": "stream",
     "text": [
      "cuda\n"
     ]
    }
   ],
   "source": [
    "import torch\n",
    "import torch.nn as nn\n",
    "import torch.optim as optim\n",
    "from torch.utils.data import DataLoader\n",
    "from torchvision import datasets, transforms, models\n",
    "from sklearn.metrics import classification_report, confusion_matrix\n",
    "from sklearn.preprocessing import LabelEncoder\n",
    "import matplotlib.pyplot as plt\n",
    "import numpy as np\n",
    "import os\n",
    "import seaborn as sns\n",
    "from tqdm import tqdm\n",
    "\n",
    "from AlzheimerCNN import AlzheimerCNN\n",
    "\n",
    "device = torch.device(\"cuda\" if torch.cuda.is_available() else \"cpu\")\n",
    "print(device)"
   ]
  },
  {
   "cell_type": "markdown",
   "metadata": {},
   "source": [
    "## Pré-processamento dos Dados\n",
    "\n",
    "O pipeline de pré-processamento é projetado para lidar com diferentes tamanhos de imagem mantendo as proporções e adicionando robustez através de aumento de dados."
   ]
  },
  {
   "cell_type": "code",
   "execution_count": 2,
   "metadata": {},
   "outputs": [],
   "source": [
    "# Transformações para treinamento com aumento de dados\n",
    "train_transform = transforms.Compose([\n",
    "    transforms.Resize(256),  # Redimensiona o lado menor para 256 mantendo a proporção\n",
    "    transforms.RandomResizedCrop(224, scale=(0.8, 1.0)),  # Recorte aleatório com escala\n",
    "    transforms.RandomHorizontalFlip(),\n",
    "    transforms.RandomRotation(10),\n",
    "    transforms.ColorJitter(brightness=0.2, contrast=0.2),  # Adiciona variação de cor\n",
    "    transforms.ToTensor(),\n",
    "    transforms.Normalize(mean=[0.485, 0.456, 0.406], std=[0.229, 0.224, 0.225])\n",
    "])\n",
    "\n",
    "# Transformações para teste (sem aumento de dados)\n",
    "test_transform = transforms.Compose([\n",
    "    transforms.Resize(256),\n",
    "    transforms.CenterCrop(224),\n",
    "    transforms.ToTensor(),\n",
    "    transforms.Normalize(mean=[0.485, 0.456, 0.406], std=[0.229, 0.224, 0.225])\n",
    "])"
   ]
  },
  {
   "cell_type": "markdown",
   "metadata": {},
   "source": [
    "## Carregando o Dataset\n",
    "\n",
    "Carrega os datasets de treinamento e teste com as novas transformações."
   ]
  },
  {
   "cell_type": "code",
   "execution_count": null,
   "metadata": {},
   "outputs": [
    {
     "name": "stdout",
     "output_type": "stream",
     "text": [
      "Mapeamento de Classes:\n",
      "0: Mild Impairment\n",
      "1: Moderate Impairment\n",
      "2: No Impairment\n",
      "3: Very Mild Impairment\n"
     ]
    }
   ],
   "source": [
    "# Atualize estes caminhos para as localizações do seu dataset\n",
    "train_dataset = datasets.ImageFolder(root='D:/Projetos/TrabalhoFinalDataScience/AlzheimerEarlyDetection/datasets/train', transform=train_transform)\n",
    "test_dataset = datasets.ImageFolder(root='D:/Projetos/TrabalhoFinalDataScience/AlzheimerEarlyDetection/datasets/test', transform=test_transform)\n",
    "\n",
    "train_loader = DataLoader(train_dataset, batch_size=32, shuffle=True, num_workers=4)\n",
    "test_loader = DataLoader(test_dataset, batch_size=32, shuffle=False, num_workers=4)\n",
    "\n",
    "# Imprime o mapeamento das classes\n",
    "class_to_idx = train_dataset.class_to_idx\n",
    "print(\"Mapeamento de Classes:\")\n",
    "for class_name, class_index in class_to_idx.items():\n",
    "    print(f\"{class_index}: {class_name}\")"
   ]
  },
  {
   "cell_type": "markdown",
   "metadata": {},
   "source": [
    "## Treinamento do Modelo\n",
    "\n",
    "Loop de treinamento com acompanhamento de progresso e salvamento do modelo."
   ]
  },
  {
   "cell_type": "code",
   "execution_count": null,
   "metadata": {},
   "outputs": [],
   "source": [
    "def train_model(model, train_loader, test_loader, criterion, optimizer, num_epochs=100):\n",
    "    device = torch.device(\"cuda\" if torch.cuda.is_available() else \"cpu\")\n",
    "    model = model.to(device)\n",
    "    \n",
    "    train_losses = []\n",
    "    train_accuracies = []\n",
    "    test_losses = []\n",
    "    test_accuracies = []\n",
    "    \n",
    "    best_accuracy = 0.0\n",
    "    \n",
    "    for epoch in range(num_epochs):\n",
    "        # Fase de treinamento\n",
    "        model.train()\n",
    "        running_loss = 0.0\n",
    "        correct = 0\n",
    "        total = 0\n",
    "        \n",
    "        train_loop = tqdm(train_loader, desc=f'Época {epoch+1}/{num_epochs} [Treino]')\n",
    "        for images, labels in train_loop:\n",
    "            images, labels = images.to(device), labels.to(device)\n",
    "            \n",
    "            optimizer.zero_grad()\n",
    "            outputs = model(images)\n",
    "            loss = criterion(outputs, labels)\n",
    "            loss.backward()\n",
    "            optimizer.step()\n",
    "            \n",
    "            running_loss += loss.item()\n",
    "            _, predicted = torch.max(outputs, 1)\n",
    "            total += labels.size(0)\n",
    "            correct += (predicted == labels).sum().item()\n",
    "            \n",
    "            train_loop.set_postfix(loss=loss.item(), acc=100.*correct/total)\n",
    "        \n",
    "        epoch_loss = running_loss / len(train_loader)\n",
    "        epoch_accuracy = 100 * correct / total\n",
    "        train_losses.append(epoch_loss)\n",
    "        train_accuracies.append(epoch_accuracy)\n",
    "        \n",
    "        # Fase de teste\n",
    "        model.eval()\n",
    "        test_loss = 0.0\n",
    "        test_correct = 0\n",
    "        test_total = 0\n",
    "        \n",
    "        with torch.no_grad():\n",
    "            test_loop = tqdm(test_loader, desc=f'Época {epoch+1}/{num_epochs} [Teste]')\n",
    "            for images, labels in test_loop:\n",
    "                images, labels = images.to(device), labels.to(device)\n",
    "                outputs = model(images)\n",
    "                loss = criterion(outputs, labels)\n",
    "                \n",
    "                test_loss += loss.item()\n",
    "                _, predicted = torch.max(outputs, 1)\n",
    "                test_total += labels.size(0)\n",
    "                test_correct += (predicted == labels).sum().item()\n",
    "                \n",
    "                test_loop.set_postfix(loss=loss.item(), acc=100.*test_correct/test_total)\n",
    "        \n",
    "        test_epoch_loss = test_loss / len(test_loader)\n",
    "        test_epoch_accuracy = 100 * test_correct / test_total\n",
    "        test_losses.append(test_epoch_loss)\n",
    "        test_accuracies.append(test_epoch_accuracy)\n",
    "        \n",
    "        # Salva o melhor modelo\n",
    "        if test_epoch_accuracy > best_accuracy:\n",
    "            best_accuracy = test_epoch_accuracy\n",
    "            torch.save(model.state_dict(), 'models/best_model_resolution_invariant.pth')\n",
    "        \n",
    "        print(f'Época [{epoch+1}/{num_epochs}], '\n",
    "              f'Perda Treino: {epoch_loss:.4f}, Acurácia Treino: {epoch_accuracy:.2f}%, '\n",
    "              f'Perda Teste: {test_epoch_loss:.4f}, Acurácia Teste: {test_epoch_accuracy:.2f}%')\n",
    "    \n",
    "    return train_losses, train_accuracies, test_losses, test_accuracies"
   ]
  },
  {
   "cell_type": "markdown",
   "metadata": {},
   "source": [
    "## Inicializa e Treina o Modelo"
   ]
  },
  {
   "cell_type": "code",
   "execution_count": 5,
   "metadata": {},
   "outputs": [
    {
     "name": "stderr",
     "output_type": "stream",
     "text": [
      "Época 1/100 [Treino]: 100%|██████████| 320/320 [00:33<00:00,  9.54it/s, acc=43.4, loss=0.912]\n",
      "Época 1/100 [Teste]: 100%|██████████| 40/40 [00:11<00:00,  3.39it/s, acc=46.4, loss=1.26] \n"
     ]
    },
    {
     "name": "stdout",
     "output_type": "stream",
     "text": [
      "Época [1/100], Perda Treino: 1.1652, Acurácia Treino: 43.43%, Perda Teste: 1.0116, Acurácia Teste: 46.44%\n"
     ]
    },
    {
     "name": "stderr",
     "output_type": "stream",
     "text": [
      "Época 2/100 [Treino]: 100%|██████████| 320/320 [00:29<00:00, 10.87it/s, acc=63.5, loss=0.745]\n",
      "Época 2/100 [Teste]: 100%|██████████| 40/40 [00:10<00:00,  3.89it/s, acc=55.8, loss=1.16] \n"
     ]
    },
    {
     "name": "stdout",
     "output_type": "stream",
     "text": [
      "Época [2/100], Perda Treino: 0.7752, Acurácia Treino: 63.53%, Perda Teste: 0.8657, Acurácia Teste: 55.82%\n"
     ]
    },
    {
     "name": "stderr",
     "output_type": "stream",
     "text": [
      "Época 3/100 [Treino]: 100%|██████████| 320/320 [00:29<00:00, 10.93it/s, acc=67.4, loss=0.66] \n",
      "Época 3/100 [Teste]: 100%|██████████| 40/40 [00:10<00:00,  3.95it/s, acc=55.8, loss=1.18] \n"
     ]
    },
    {
     "name": "stdout",
     "output_type": "stream",
     "text": [
      "Época [3/100], Perda Treino: 0.7070, Acurácia Treino: 67.43%, Perda Teste: 0.8973, Acurácia Teste: 55.82%\n"
     ]
    },
    {
     "name": "stderr",
     "output_type": "stream",
     "text": [
      "Época 4/100 [Treino]: 100%|██████████| 320/320 [00:28<00:00, 11.12it/s, acc=70.5, loss=0.611]\n",
      "Época 4/100 [Teste]: 100%|██████████| 40/40 [00:10<00:00,  3.92it/s, acc=55.9, loss=1.49] \n"
     ]
    },
    {
     "name": "stdout",
     "output_type": "stream",
     "text": [
      "Época [4/100], Perda Treino: 0.6513, Acurácia Treino: 70.53%, Perda Teste: 0.8460, Acurácia Teste: 55.90%\n"
     ]
    },
    {
     "name": "stderr",
     "output_type": "stream",
     "text": [
      "Época 5/100 [Treino]: 100%|██████████| 320/320 [00:29<00:00, 10.91it/s, acc=72.4, loss=0.513]\n",
      "Época 5/100 [Teste]: 100%|██████████| 40/40 [00:10<00:00,  3.92it/s, acc=63.3, loss=0.908]\n"
     ]
    },
    {
     "name": "stdout",
     "output_type": "stream",
     "text": [
      "Época [5/100], Perda Treino: 0.6100, Acurácia Treino: 72.36%, Perda Teste: 0.7731, Acurácia Teste: 63.33%\n"
     ]
    },
    {
     "name": "stderr",
     "output_type": "stream",
     "text": [
      "Época 6/100 [Treino]: 100%|██████████| 320/320 [00:29<00:00, 10.92it/s, acc=73.9, loss=0.61] \n",
      "Época 6/100 [Teste]: 100%|██████████| 40/40 [00:10<00:00,  3.88it/s, acc=64, loss=1.21]   \n"
     ]
    },
    {
     "name": "stdout",
     "output_type": "stream",
     "text": [
      "Época [6/100], Perda Treino: 0.5795, Acurácia Treino: 73.87%, Perda Teste: 0.7736, Acurácia Teste: 64.03%\n"
     ]
    },
    {
     "name": "stderr",
     "output_type": "stream",
     "text": [
      "Época 7/100 [Treino]: 100%|██████████| 320/320 [00:28<00:00, 11.11it/s, acc=75.1, loss=0.62] \n",
      "Época 7/100 [Teste]: 100%|██████████| 40/40 [00:10<00:00,  3.92it/s, acc=63.5, loss=1.1]  \n"
     ]
    },
    {
     "name": "stdout",
     "output_type": "stream",
     "text": [
      "Época [7/100], Perda Treino: 0.5595, Acurácia Treino: 75.13%, Perda Teste: 0.7500, Acurácia Teste: 63.49%\n"
     ]
    },
    {
     "name": "stderr",
     "output_type": "stream",
     "text": [
      "Época 8/100 [Treino]: 100%|██████████| 320/320 [00:29<00:00, 11.00it/s, acc=77.2, loss=0.344]\n",
      "Época 8/100 [Teste]: 100%|██████████| 40/40 [00:10<00:00,  3.91it/s, acc=65.4, loss=0.742]\n"
     ]
    },
    {
     "name": "stdout",
     "output_type": "stream",
     "text": [
      "Época [8/100], Perda Treino: 0.5185, Acurácia Treino: 77.21%, Perda Teste: 0.7180, Acurácia Teste: 65.44%\n"
     ]
    },
    {
     "name": "stderr",
     "output_type": "stream",
     "text": [
      "Época 9/100 [Treino]: 100%|██████████| 320/320 [00:29<00:00, 10.87it/s, acc=77.3, loss=0.63] \n",
      "Época 9/100 [Teste]: 100%|██████████| 40/40 [00:10<00:00,  3.87it/s, acc=66.6, loss=1.1]  \n"
     ]
    },
    {
     "name": "stdout",
     "output_type": "stream",
     "text": [
      "Época [9/100], Perda Treino: 0.4946, Acurácia Treino: 77.31%, Perda Teste: 0.6864, Acurácia Teste: 66.61%\n"
     ]
    },
    {
     "name": "stderr",
     "output_type": "stream",
     "text": [
      "Época 10/100 [Treino]: 100%|██████████| 320/320 [00:29<00:00, 10.90it/s, acc=78.6, loss=0.419]\n",
      "Época 10/100 [Teste]: 100%|██████████| 40/40 [00:10<00:00,  3.82it/s, acc=68.3, loss=1.03] \n"
     ]
    },
    {
     "name": "stdout",
     "output_type": "stream",
     "text": [
      "Época [10/100], Perda Treino: 0.4861, Acurácia Treino: 78.59%, Perda Teste: 0.6660, Acurácia Teste: 68.33%\n"
     ]
    },
    {
     "name": "stderr",
     "output_type": "stream",
     "text": [
      "Época 11/100 [Treino]: 100%|██████████| 320/320 [00:28<00:00, 11.41it/s, acc=79.7, loss=0.283]\n",
      "Época 11/100 [Teste]: 100%|██████████| 40/40 [00:10<00:00,  3.92it/s, acc=65, loss=1.28]   \n"
     ]
    },
    {
     "name": "stdout",
     "output_type": "stream",
     "text": [
      "Época [11/100], Perda Treino: 0.4653, Acurácia Treino: 79.69%, Perda Teste: 0.7195, Acurácia Teste: 64.97%\n"
     ]
    },
    {
     "name": "stderr",
     "output_type": "stream",
     "text": [
      "Época 12/100 [Treino]: 100%|██████████| 320/320 [00:31<00:00, 10.22it/s, acc=80.4, loss=0.308]\n",
      "Época 12/100 [Teste]: 100%|██████████| 40/40 [00:10<00:00,  3.72it/s, acc=68.1, loss=1.17] \n"
     ]
    },
    {
     "name": "stdout",
     "output_type": "stream",
     "text": [
      "Época [12/100], Perda Treino: 0.4448, Acurácia Treino: 80.44%, Perda Teste: 0.6410, Acurácia Teste: 68.10%\n"
     ]
    },
    {
     "name": "stderr",
     "output_type": "stream",
     "text": [
      "Época 13/100 [Treino]: 100%|██████████| 320/320 [00:28<00:00, 11.21it/s, acc=81.1, loss=0.744] \n",
      "Época 13/100 [Teste]: 100%|██████████| 40/40 [00:09<00:00,  4.01it/s, acc=69.4, loss=0.956]\n"
     ]
    },
    {
     "name": "stdout",
     "output_type": "stream",
     "text": [
      "Época [13/100], Perda Treino: 0.4280, Acurácia Treino: 81.14%, Perda Teste: 0.6296, Acurácia Teste: 69.35%\n"
     ]
    },
    {
     "name": "stderr",
     "output_type": "stream",
     "text": [
      "Época 14/100 [Treino]: 100%|██████████| 320/320 [00:28<00:00, 11.37it/s, acc=81.8, loss=0.397]\n",
      "Época 14/100 [Teste]: 100%|██████████| 40/40 [00:10<00:00,  3.88it/s, acc=71.7, loss=0.967]\n"
     ]
    },
    {
     "name": "stdout",
     "output_type": "stream",
     "text": [
      "Época [14/100], Perda Treino: 0.4127, Acurácia Treino: 81.83%, Perda Teste: 0.5956, Acurácia Teste: 71.70%\n"
     ]
    },
    {
     "name": "stderr",
     "output_type": "stream",
     "text": [
      "Época 15/100 [Treino]: 100%|██████████| 320/320 [00:29<00:00, 10.89it/s, acc=82.4, loss=0.46] \n",
      "Época 15/100 [Teste]: 100%|██████████| 40/40 [00:10<00:00,  3.92it/s, acc=72.2, loss=0.881]\n"
     ]
    },
    {
     "name": "stdout",
     "output_type": "stream",
     "text": [
      "Época [15/100], Perda Treino: 0.4069, Acurácia Treino: 82.43%, Perda Teste: 0.5913, Acurácia Teste: 72.24%\n"
     ]
    },
    {
     "name": "stderr",
     "output_type": "stream",
     "text": [
      "Época 16/100 [Treino]: 100%|██████████| 320/320 [00:29<00:00, 10.90it/s, acc=82.7, loss=0.204]\n",
      "Época 16/100 [Teste]: 100%|██████████| 40/40 [00:10<00:00,  3.94it/s, acc=71.2, loss=0.97] \n"
     ]
    },
    {
     "name": "stdout",
     "output_type": "stream",
     "text": [
      "Época [16/100], Perda Treino: 0.3963, Acurácia Treino: 82.67%, Perda Teste: 0.6342, Acurácia Teste: 71.23%\n"
     ]
    },
    {
     "name": "stderr",
     "output_type": "stream",
     "text": [
      "Época 17/100 [Treino]: 100%|██████████| 320/320 [00:29<00:00, 10.92it/s, acc=83.2, loss=0.394]\n",
      "Época 17/100 [Teste]: 100%|██████████| 40/40 [00:10<00:00,  3.88it/s, acc=74.7, loss=1.1]  \n"
     ]
    },
    {
     "name": "stdout",
     "output_type": "stream",
     "text": [
      "Época [17/100], Perda Treino: 0.3764, Acurácia Treino: 83.23%, Perda Teste: 0.5591, Acurácia Teste: 74.75%\n"
     ]
    },
    {
     "name": "stderr",
     "output_type": "stream",
     "text": [
      "Época 18/100 [Treino]: 100%|██████████| 320/320 [00:29<00:00, 10.96it/s, acc=83.7, loss=0.271]\n",
      "Época 18/100 [Teste]: 100%|██████████| 40/40 [00:10<00:00,  3.89it/s, acc=76.3, loss=0.72] \n"
     ]
    },
    {
     "name": "stdout",
     "output_type": "stream",
     "text": [
      "Época [18/100], Perda Treino: 0.3689, Acurácia Treino: 83.66%, Perda Teste: 0.5168, Acurácia Teste: 76.31%\n"
     ]
    },
    {
     "name": "stderr",
     "output_type": "stream",
     "text": [
      "Época 19/100 [Treino]: 100%|██████████| 320/320 [00:29<00:00, 10.80it/s, acc=84.3, loss=0.425]\n",
      "Época 19/100 [Teste]: 100%|██████████| 40/40 [00:10<00:00,  3.93it/s, acc=75.7, loss=0.823]\n"
     ]
    },
    {
     "name": "stdout",
     "output_type": "stream",
     "text": [
      "Época [19/100], Perda Treino: 0.3589, Acurácia Treino: 84.35%, Perda Teste: 0.5235, Acurácia Teste: 75.68%\n"
     ]
    },
    {
     "name": "stderr",
     "output_type": "stream",
     "text": [
      "Época 20/100 [Treino]: 100%|██████████| 320/320 [00:30<00:00, 10.66it/s, acc=84.8, loss=0.358]\n",
      "Época 20/100 [Teste]: 100%|██████████| 40/40 [00:10<00:00,  3.78it/s, acc=76.9, loss=0.891]\n"
     ]
    },
    {
     "name": "stdout",
     "output_type": "stream",
     "text": [
      "Época [20/100], Perda Treino: 0.3482, Acurácia Treino: 84.78%, Perda Teste: 0.5203, Acurácia Teste: 76.94%\n"
     ]
    },
    {
     "name": "stderr",
     "output_type": "stream",
     "text": [
      "Época 21/100 [Treino]: 100%|██████████| 320/320 [00:29<00:00, 10.75it/s, acc=84.8, loss=0.314]\n",
      "Época 21/100 [Teste]: 100%|██████████| 40/40 [00:10<00:00,  3.66it/s, acc=78.3, loss=0.846]\n"
     ]
    },
    {
     "name": "stdout",
     "output_type": "stream",
     "text": [
      "Época [21/100], Perda Treino: 0.3375, Acurácia Treino: 84.77%, Perda Teste: 0.4712, Acurácia Teste: 78.26%\n"
     ]
    },
    {
     "name": "stderr",
     "output_type": "stream",
     "text": [
      "Época 22/100 [Treino]: 100%|██████████| 320/320 [00:30<00:00, 10.55it/s, acc=85.4, loss=0.539]\n",
      "Época 22/100 [Teste]: 100%|██████████| 40/40 [00:10<00:00,  3.92it/s, acc=77, loss=0.997]  \n"
     ]
    },
    {
     "name": "stdout",
     "output_type": "stream",
     "text": [
      "Época [22/100], Perda Treino: 0.3330, Acurácia Treino: 85.40%, Perda Teste: 0.4906, Acurácia Teste: 77.01%\n"
     ]
    },
    {
     "name": "stderr",
     "output_type": "stream",
     "text": [
      "Época 23/100 [Treino]: 100%|██████████| 320/320 [00:29<00:00, 10.74it/s, acc=85.9, loss=0.349] \n",
      "Época 23/100 [Teste]: 100%|██████████| 40/40 [00:10<00:00,  3.87it/s, acc=73.8, loss=1.26] \n"
     ]
    },
    {
     "name": "stdout",
     "output_type": "stream",
     "text": [
      "Época [23/100], Perda Treino: 0.3216, Acurácia Treino: 85.94%, Perda Teste: 0.5293, Acurácia Teste: 73.81%\n"
     ]
    },
    {
     "name": "stderr",
     "output_type": "stream",
     "text": [
      "Época 24/100 [Treino]: 100%|██████████| 320/320 [00:29<00:00, 10.81it/s, acc=86.2, loss=0.433]\n",
      "Época 24/100 [Teste]: 100%|██████████| 40/40 [00:10<00:00,  3.85it/s, acc=80.8, loss=0.592]\n"
     ]
    },
    {
     "name": "stdout",
     "output_type": "stream",
     "text": [
      "Época [24/100], Perda Treino: 0.3187, Acurácia Treino: 86.16%, Perda Teste: 0.4460, Acurácia Teste: 80.77%\n"
     ]
    },
    {
     "name": "stderr",
     "output_type": "stream",
     "text": [
      "Época 25/100 [Treino]: 100%|██████████| 320/320 [00:29<00:00, 11.00it/s, acc=86.2, loss=0.196] \n",
      "Época 25/100 [Teste]: 100%|██████████| 40/40 [00:10<00:00,  3.95it/s, acc=83.7, loss=0.614]\n"
     ]
    },
    {
     "name": "stdout",
     "output_type": "stream",
     "text": [
      "Época [25/100], Perda Treino: 0.3138, Acurácia Treino: 86.25%, Perda Teste: 0.4074, Acurácia Teste: 83.66%\n"
     ]
    },
    {
     "name": "stderr",
     "output_type": "stream",
     "text": [
      "Época 26/100 [Treino]: 100%|██████████| 320/320 [00:28<00:00, 11.25it/s, acc=87, loss=0.356]  \n",
      "Época 26/100 [Teste]: 100%|██████████| 40/40 [00:10<00:00,  3.96it/s, acc=81, loss=0.636]  \n"
     ]
    },
    {
     "name": "stdout",
     "output_type": "stream",
     "text": [
      "Época [26/100], Perda Treino: 0.3050, Acurácia Treino: 86.96%, Perda Teste: 0.4285, Acurácia Teste: 81.00%\n"
     ]
    },
    {
     "name": "stderr",
     "output_type": "stream",
     "text": [
      "Época 27/100 [Treino]: 100%|██████████| 320/320 [00:28<00:00, 11.29it/s, acc=87.9, loss=0.297] \n",
      "Época 27/100 [Teste]: 100%|██████████| 40/40 [00:10<00:00,  3.98it/s, acc=83.7, loss=0.685]\n"
     ]
    },
    {
     "name": "stdout",
     "output_type": "stream",
     "text": [
      "Época [27/100], Perda Treino: 0.2816, Acurácia Treino: 87.91%, Perda Teste: 0.3971, Acurácia Teste: 83.66%\n"
     ]
    },
    {
     "name": "stderr",
     "output_type": "stream",
     "text": [
      "Época 28/100 [Treino]: 100%|██████████| 320/320 [00:29<00:00, 11.03it/s, acc=87.9, loss=0.302] \n",
      "Época 28/100 [Teste]: 100%|██████████| 40/40 [00:10<00:00,  3.84it/s, acc=84.3, loss=0.514]\n"
     ]
    },
    {
     "name": "stdout",
     "output_type": "stream",
     "text": [
      "Época [28/100], Perda Treino: 0.2755, Acurácia Treino: 87.90%, Perda Teste: 0.3763, Acurácia Teste: 84.28%\n"
     ]
    },
    {
     "name": "stderr",
     "output_type": "stream",
     "text": [
      "Época 29/100 [Treino]: 100%|██████████| 320/320 [00:28<00:00, 11.07it/s, acc=88.2, loss=0.303]\n",
      "Época 29/100 [Teste]: 100%|██████████| 40/40 [00:10<00:00,  3.88it/s, acc=84.3, loss=0.756]\n"
     ]
    },
    {
     "name": "stdout",
     "output_type": "stream",
     "text": [
      "Época [29/100], Perda Treino: 0.2840, Acurácia Treino: 88.17%, Perda Teste: 0.3865, Acurácia Teste: 84.28%\n"
     ]
    },
    {
     "name": "stderr",
     "output_type": "stream",
     "text": [
      "Época 30/100 [Treino]: 100%|██████████| 320/320 [00:27<00:00, 11.43it/s, acc=88.2, loss=0.295] \n",
      "Época 30/100 [Teste]: 100%|██████████| 40/40 [00:10<00:00,  3.91it/s, acc=83.8, loss=0.408]\n"
     ]
    },
    {
     "name": "stdout",
     "output_type": "stream",
     "text": [
      "Época [30/100], Perda Treino: 0.2749, Acurácia Treino: 88.23%, Perda Teste: 0.3914, Acurácia Teste: 83.82%\n"
     ]
    },
    {
     "name": "stderr",
     "output_type": "stream",
     "text": [
      "Época 31/100 [Treino]: 100%|██████████| 320/320 [00:28<00:00, 11.41it/s, acc=88.2, loss=0.257] \n",
      "Época 31/100 [Teste]: 100%|██████████| 40/40 [00:10<00:00,  3.94it/s, acc=85.9, loss=0.522]\n"
     ]
    },
    {
     "name": "stdout",
     "output_type": "stream",
     "text": [
      "Época [31/100], Perda Treino: 0.2718, Acurácia Treino: 88.22%, Perda Teste: 0.3645, Acurácia Teste: 85.93%\n"
     ]
    },
    {
     "name": "stderr",
     "output_type": "stream",
     "text": [
      "Época 32/100 [Treino]: 100%|██████████| 320/320 [00:30<00:00, 10.40it/s, acc=88.9, loss=0.0892]\n",
      "Época 32/100 [Teste]: 100%|██████████| 40/40 [00:12<00:00,  3.24it/s, acc=82.5, loss=0.824] \n"
     ]
    },
    {
     "name": "stdout",
     "output_type": "stream",
     "text": [
      "Época [32/100], Perda Treino: 0.2633, Acurácia Treino: 88.92%, Perda Teste: 0.3888, Acurácia Teste: 82.49%\n"
     ]
    },
    {
     "name": "stderr",
     "output_type": "stream",
     "text": [
      "Época 33/100 [Treino]: 100%|██████████| 320/320 [00:34<00:00,  9.20it/s, acc=89, loss=0.217]   \n",
      "Época 33/100 [Teste]: 100%|██████████| 40/40 [00:13<00:00,  2.94it/s, acc=85.4, loss=0.604] \n"
     ]
    },
    {
     "name": "stdout",
     "output_type": "stream",
     "text": [
      "Época [33/100], Perda Treino: 0.2553, Acurácia Treino: 89.04%, Perda Teste: 0.3408, Acurácia Teste: 85.38%\n"
     ]
    },
    {
     "name": "stderr",
     "output_type": "stream",
     "text": [
      "Época 34/100 [Treino]: 100%|██████████| 320/320 [00:44<00:00,  7.19it/s, acc=89, loss=0.2]     \n",
      "Época 34/100 [Teste]: 100%|██████████| 40/40 [00:14<00:00,  2.82it/s, acc=84.4, loss=0.72]  \n"
     ]
    },
    {
     "name": "stdout",
     "output_type": "stream",
     "text": [
      "Época [34/100], Perda Treino: 0.2574, Acurácia Treino: 88.99%, Perda Teste: 0.3864, Acurácia Teste: 84.44%\n"
     ]
    },
    {
     "name": "stderr",
     "output_type": "stream",
     "text": [
      "Época 35/100 [Treino]: 100%|██████████| 320/320 [00:47<00:00,  6.81it/s, acc=89.4, loss=0.197] \n",
      "Época 35/100 [Teste]: 100%|██████████| 40/40 [00:14<00:00,  2.83it/s, acc=85.8, loss=0.305]\n"
     ]
    },
    {
     "name": "stdout",
     "output_type": "stream",
     "text": [
      "Época [35/100], Perda Treino: 0.2458, Acurácia Treino: 89.42%, Perda Teste: 0.3335, Acurácia Teste: 85.85%\n"
     ]
    },
    {
     "name": "stderr",
     "output_type": "stream",
     "text": [
      "Época 36/100 [Treino]: 100%|██████████| 320/320 [00:44<00:00,  7.20it/s, acc=90, loss=0.337]   \n",
      "Época 36/100 [Teste]: 100%|██████████| 40/40 [00:14<00:00,  2.84it/s, acc=87.4, loss=0.48]  \n"
     ]
    },
    {
     "name": "stdout",
     "output_type": "stream",
     "text": [
      "Época [36/100], Perda Treino: 0.2411, Acurácia Treino: 89.99%, Perda Teste: 0.3084, Acurácia Teste: 87.41%\n"
     ]
    },
    {
     "name": "stderr",
     "output_type": "stream",
     "text": [
      "Época 37/100 [Treino]: 100%|██████████| 320/320 [00:39<00:00,  8.01it/s, acc=90.2, loss=0.136] \n",
      "Época 37/100 [Teste]: 100%|██████████| 40/40 [00:12<00:00,  3.20it/s, acc=85.9, loss=0.497] \n"
     ]
    },
    {
     "name": "stdout",
     "output_type": "stream",
     "text": [
      "Época [37/100], Perda Treino: 0.2384, Acurácia Treino: 90.19%, Perda Teste: 0.3266, Acurácia Teste: 85.93%\n"
     ]
    },
    {
     "name": "stderr",
     "output_type": "stream",
     "text": [
      "Época 38/100 [Treino]: 100%|██████████| 320/320 [00:44<00:00,  7.17it/s, acc=89.8, loss=0.23]  \n",
      "Época 38/100 [Teste]: 100%|██████████| 40/40 [00:12<00:00,  3.30it/s, acc=89.5, loss=0.507] \n"
     ]
    },
    {
     "name": "stdout",
     "output_type": "stream",
     "text": [
      "Época [38/100], Perda Treino: 0.2397, Acurácia Treino: 89.81%, Perda Teste: 0.2769, Acurácia Teste: 89.52%\n"
     ]
    },
    {
     "name": "stderr",
     "output_type": "stream",
     "text": [
      "Época 39/100 [Treino]: 100%|██████████| 320/320 [00:38<00:00,  8.30it/s, acc=90.8, loss=0.34]   \n",
      "Época 39/100 [Teste]: 100%|██████████| 40/40 [00:13<00:00,  3.04it/s, acc=90.9, loss=0.354] \n"
     ]
    },
    {
     "name": "stdout",
     "output_type": "stream",
     "text": [
      "Época [39/100], Perda Treino: 0.2210, Acurácia Treino: 90.78%, Perda Teste: 0.2470, Acurácia Teste: 90.93%\n"
     ]
    },
    {
     "name": "stderr",
     "output_type": "stream",
     "text": [
      "Época 40/100 [Treino]: 100%|██████████| 320/320 [00:43<00:00,  7.40it/s, acc=90.4, loss=0.215] \n",
      "Época 40/100 [Teste]: 100%|██████████| 40/40 [00:14<00:00,  2.83it/s, acc=89.4, loss=0.437]\n"
     ]
    },
    {
     "name": "stdout",
     "output_type": "stream",
     "text": [
      "Época [40/100], Perda Treino: 0.2318, Acurácia Treino: 90.43%, Perda Teste: 0.2852, Acurácia Teste: 89.44%\n"
     ]
    },
    {
     "name": "stderr",
     "output_type": "stream",
     "text": [
      "Época 41/100 [Treino]: 100%|██████████| 320/320 [00:41<00:00,  7.79it/s, acc=91, loss=0.126]   \n",
      "Época 41/100 [Teste]: 100%|██████████| 40/40 [00:11<00:00,  3.40it/s, acc=90.5, loss=0.414] \n"
     ]
    },
    {
     "name": "stdout",
     "output_type": "stream",
     "text": [
      "Época [41/100], Perda Treino: 0.2164, Acurácia Treino: 91.04%, Perda Teste: 0.2628, Acurácia Teste: 90.46%\n"
     ]
    },
    {
     "name": "stderr",
     "output_type": "stream",
     "text": [
      "Época 42/100 [Treino]: 100%|██████████| 320/320 [00:40<00:00,  7.89it/s, acc=91.2, loss=0.166] \n",
      "Época 42/100 [Teste]: 100%|██████████| 40/40 [00:11<00:00,  3.35it/s, acc=87.9, loss=0.572] \n"
     ]
    },
    {
     "name": "stdout",
     "output_type": "stream",
     "text": [
      "Época [42/100], Perda Treino: 0.2160, Acurácia Treino: 91.16%, Perda Teste: 0.3152, Acurácia Teste: 87.88%\n"
     ]
    },
    {
     "name": "stderr",
     "output_type": "stream",
     "text": [
      "Época 43/100 [Treino]: 100%|██████████| 320/320 [00:40<00:00,  7.98it/s, acc=90.9, loss=0.215] \n",
      "Época 43/100 [Teste]: 100%|██████████| 40/40 [00:11<00:00,  3.38it/s, acc=87, loss=0.198]   \n"
     ]
    },
    {
     "name": "stdout",
     "output_type": "stream",
     "text": [
      "Época [43/100], Perda Treino: 0.2161, Acurácia Treino: 90.89%, Perda Teste: 0.3039, Acurácia Teste: 87.02%\n"
     ]
    },
    {
     "name": "stderr",
     "output_type": "stream",
     "text": [
      "Época 44/100 [Treino]: 100%|██████████| 320/320 [00:37<00:00,  8.54it/s, acc=90.8, loss=0.152] \n",
      "Época 44/100 [Teste]: 100%|██████████| 40/40 [00:11<00:00,  3.38it/s, acc=90.5, loss=0.212] \n"
     ]
    },
    {
     "name": "stdout",
     "output_type": "stream",
     "text": [
      "Época [44/100], Perda Treino: 0.2185, Acurácia Treino: 90.77%, Perda Teste: 0.2612, Acurácia Teste: 90.46%\n"
     ]
    },
    {
     "name": "stderr",
     "output_type": "stream",
     "text": [
      "Época 45/100 [Treino]: 100%|██████████| 320/320 [00:36<00:00,  8.68it/s, acc=91.6, loss=0.161] \n",
      "Época 45/100 [Teste]: 100%|██████████| 40/40 [00:12<00:00,  3.28it/s, acc=91.8, loss=0.337] \n"
     ]
    },
    {
     "name": "stdout",
     "output_type": "stream",
     "text": [
      "Época [45/100], Perda Treino: 0.2057, Acurácia Treino: 91.61%, Perda Teste: 0.2246, Acurácia Teste: 91.79%\n"
     ]
    },
    {
     "name": "stderr",
     "output_type": "stream",
     "text": [
      "Época 46/100 [Treino]: 100%|██████████| 320/320 [00:36<00:00,  8.66it/s, acc=91.7, loss=0.14]  \n",
      "Época 46/100 [Teste]: 100%|██████████| 40/40 [00:12<00:00,  3.33it/s, acc=92.3, loss=0.281] \n"
     ]
    },
    {
     "name": "stdout",
     "output_type": "stream",
     "text": [
      "Época [46/100], Perda Treino: 0.1973, Acurácia Treino: 91.75%, Perda Teste: 0.2091, Acurácia Teste: 92.34%\n"
     ]
    },
    {
     "name": "stderr",
     "output_type": "stream",
     "text": [
      "Época 47/100 [Treino]: 100%|██████████| 320/320 [00:37<00:00,  8.60it/s, acc=91.3, loss=0.397] \n",
      "Época 47/100 [Teste]: 100%|██████████| 40/40 [00:11<00:00,  3.34it/s, acc=92, loss=0.472]   \n"
     ]
    },
    {
     "name": "stdout",
     "output_type": "stream",
     "text": [
      "Época [47/100], Perda Treino: 0.2050, Acurácia Treino: 91.34%, Perda Teste: 0.2270, Acurácia Teste: 92.03%\n"
     ]
    },
    {
     "name": "stderr",
     "output_type": "stream",
     "text": [
      "Época 48/100 [Treino]: 100%|██████████| 320/320 [00:38<00:00,  8.42it/s, acc=92, loss=0.0477]  \n",
      "Época 48/100 [Teste]: 100%|██████████| 40/40 [00:11<00:00,  3.37it/s, acc=91.4, loss=0.429] \n"
     ]
    },
    {
     "name": "stdout",
     "output_type": "stream",
     "text": [
      "Época [48/100], Perda Treino: 0.1957, Acurácia Treino: 91.97%, Perda Teste: 0.2426, Acurácia Teste: 91.40%\n"
     ]
    },
    {
     "name": "stderr",
     "output_type": "stream",
     "text": [
      "Época 49/100 [Treino]: 100%|██████████| 320/320 [00:37<00:00,  8.44it/s, acc=92.3, loss=0.245] \n",
      "Época 49/100 [Teste]: 100%|██████████| 40/40 [00:13<00:00,  2.89it/s, acc=91.9, loss=0.485] \n"
     ]
    },
    {
     "name": "stdout",
     "output_type": "stream",
     "text": [
      "Época [49/100], Perda Treino: 0.1918, Acurácia Treino: 92.27%, Perda Teste: 0.2210, Acurácia Teste: 91.87%\n"
     ]
    },
    {
     "name": "stderr",
     "output_type": "stream",
     "text": [
      "Época 50/100 [Treino]: 100%|██████████| 320/320 [00:38<00:00,  8.26it/s, acc=92.3, loss=0.0669]\n",
      "Época 50/100 [Teste]: 100%|██████████| 40/40 [00:11<00:00,  3.35it/s, acc=90.5, loss=0.392] \n"
     ]
    },
    {
     "name": "stdout",
     "output_type": "stream",
     "text": [
      "Época [50/100], Perda Treino: 0.1920, Acurácia Treino: 92.29%, Perda Teste: 0.2107, Acurácia Teste: 90.54%\n"
     ]
    },
    {
     "name": "stderr",
     "output_type": "stream",
     "text": [
      "Época 51/100 [Treino]: 100%|██████████| 320/320 [00:38<00:00,  8.32it/s, acc=92.5, loss=0.112] \n",
      "Época 51/100 [Teste]: 100%|██████████| 40/40 [00:12<00:00,  3.33it/s, acc=91.2, loss=0.323] \n"
     ]
    },
    {
     "name": "stdout",
     "output_type": "stream",
     "text": [
      "Época [51/100], Perda Treino: 0.1860, Acurácia Treino: 92.53%, Perda Teste: 0.2456, Acurácia Teste: 91.24%\n"
     ]
    },
    {
     "name": "stderr",
     "output_type": "stream",
     "text": [
      "Época 52/100 [Treino]: 100%|██████████| 320/320 [00:37<00:00,  8.46it/s, acc=92.8, loss=0.124] \n",
      "Época 52/100 [Teste]: 100%|██████████| 40/40 [00:11<00:00,  3.42it/s, acc=91.6, loss=0.231] \n"
     ]
    },
    {
     "name": "stdout",
     "output_type": "stream",
     "text": [
      "Época [52/100], Perda Treino: 0.1815, Acurácia Treino: 92.84%, Perda Teste: 0.2219, Acurácia Teste: 91.56%\n"
     ]
    },
    {
     "name": "stderr",
     "output_type": "stream",
     "text": [
      "Época 53/100 [Treino]: 100%|██████████| 320/320 [00:36<00:00,  8.73it/s, acc=92.8, loss=0.188] \n",
      "Época 53/100 [Teste]: 100%|██████████| 40/40 [00:11<00:00,  3.41it/s, acc=92.9, loss=0.259] \n"
     ]
    },
    {
     "name": "stdout",
     "output_type": "stream",
     "text": [
      "Época [53/100], Perda Treino: 0.1777, Acurácia Treino: 92.80%, Perda Teste: 0.1779, Acurácia Teste: 92.89%\n"
     ]
    },
    {
     "name": "stderr",
     "output_type": "stream",
     "text": [
      "Época 54/100 [Treino]: 100%|██████████| 320/320 [00:36<00:00,  8.86it/s, acc=92.7, loss=0.131] \n",
      "Época 54/100 [Teste]: 100%|██████████| 40/40 [00:12<00:00,  3.17it/s, acc=93.5, loss=0.369] \n"
     ]
    },
    {
     "name": "stdout",
     "output_type": "stream",
     "text": [
      "Época [54/100], Perda Treino: 0.1825, Acurácia Treino: 92.68%, Perda Teste: 0.2002, Acurácia Teste: 93.51%\n"
     ]
    },
    {
     "name": "stderr",
     "output_type": "stream",
     "text": [
      "Época 55/100 [Treino]: 100%|██████████| 320/320 [00:44<00:00,  7.12it/s, acc=93.1, loss=0.14]  \n",
      "Época 55/100 [Teste]: 100%|██████████| 40/40 [00:12<00:00,  3.16it/s, acc=93.8, loss=0.3]   \n"
     ]
    },
    {
     "name": "stdout",
     "output_type": "stream",
     "text": [
      "Época [55/100], Perda Treino: 0.1715, Acurácia Treino: 93.07%, Perda Teste: 0.1654, Acurácia Teste: 93.82%\n"
     ]
    },
    {
     "name": "stderr",
     "output_type": "stream",
     "text": [
      "Época 56/100 [Treino]: 100%|██████████| 320/320 [00:42<00:00,  7.54it/s, acc=93.1, loss=0.113] \n",
      "Época 56/100 [Teste]: 100%|██████████| 40/40 [00:12<00:00,  3.20it/s, acc=91, loss=0.338]   \n"
     ]
    },
    {
     "name": "stdout",
     "output_type": "stream",
     "text": [
      "Época [56/100], Perda Treino: 0.1721, Acurácia Treino: 93.09%, Perda Teste: 0.2343, Acurácia Teste: 91.01%\n"
     ]
    },
    {
     "name": "stderr",
     "output_type": "stream",
     "text": [
      "Época 57/100 [Treino]: 100%|██████████| 320/320 [00:41<00:00,  7.80it/s, acc=93.3, loss=0.0828]\n",
      "Época 57/100 [Teste]: 100%|██████████| 40/40 [00:12<00:00,  3.22it/s, acc=91.7, loss=0.489] \n"
     ]
    },
    {
     "name": "stdout",
     "output_type": "stream",
     "text": [
      "Época [57/100], Perda Treino: 0.1680, Acurácia Treino: 93.29%, Perda Teste: 0.2236, Acurácia Teste: 91.71%\n"
     ]
    },
    {
     "name": "stderr",
     "output_type": "stream",
     "text": [
      "Época 58/100 [Treino]: 100%|██████████| 320/320 [00:44<00:00,  7.15it/s, acc=92.8, loss=0.195] \n",
      "Época 58/100 [Teste]: 100%|██████████| 40/40 [00:14<00:00,  2.81it/s, acc=92.3, loss=0.223] \n"
     ]
    },
    {
     "name": "stdout",
     "output_type": "stream",
     "text": [
      "Época [58/100], Perda Treino: 0.1765, Acurácia Treino: 92.81%, Perda Teste: 0.2029, Acurácia Teste: 92.34%\n"
     ]
    },
    {
     "name": "stderr",
     "output_type": "stream",
     "text": [
      "Época 59/100 [Treino]: 100%|██████████| 320/320 [00:40<00:00,  7.81it/s, acc=93.2, loss=0.113] \n",
      "Época 59/100 [Teste]: 100%|██████████| 40/40 [00:12<00:00,  3.25it/s, acc=87.2, loss=0.448]  \n"
     ]
    },
    {
     "name": "stdout",
     "output_type": "stream",
     "text": [
      "Época [59/100], Perda Treino: 0.1741, Acurácia Treino: 93.16%, Perda Teste: 0.3093, Acurácia Teste: 87.18%\n"
     ]
    },
    {
     "name": "stderr",
     "output_type": "stream",
     "text": [
      "Época 60/100 [Treino]: 100%|██████████| 320/320 [00:42<00:00,  7.59it/s, acc=93.4, loss=0.357] \n",
      "Época 60/100 [Teste]: 100%|██████████| 40/40 [00:12<00:00,  3.21it/s, acc=93.1, loss=0.328] \n"
     ]
    },
    {
     "name": "stdout",
     "output_type": "stream",
     "text": [
      "Época [60/100], Perda Treino: 0.1649, Acurácia Treino: 93.38%, Perda Teste: 0.1703, Acurácia Teste: 93.12%\n"
     ]
    },
    {
     "name": "stderr",
     "output_type": "stream",
     "text": [
      "Época 61/100 [Treino]: 100%|██████████| 320/320 [00:41<00:00,  7.73it/s, acc=94.1, loss=0.237] \n",
      "Época 61/100 [Teste]: 100%|██████████| 40/40 [00:12<00:00,  3.25it/s, acc=93.6, loss=0.223] \n"
     ]
    },
    {
     "name": "stdout",
     "output_type": "stream",
     "text": [
      "Época [61/100], Perda Treino: 0.1513, Acurácia Treino: 94.07%, Perda Teste: 0.1957, Acurácia Teste: 93.59%\n"
     ]
    },
    {
     "name": "stderr",
     "output_type": "stream",
     "text": [
      "Época 62/100 [Treino]: 100%|██████████| 320/320 [00:40<00:00,  7.93it/s, acc=93.7, loss=0.271]  \n",
      "Época 62/100 [Teste]: 100%|██████████| 40/40 [00:14<00:00,  2.74it/s, acc=94.4, loss=0.246] \n"
     ]
    },
    {
     "name": "stdout",
     "output_type": "stream",
     "text": [
      "Época [62/100], Perda Treino: 0.1565, Acurácia Treino: 93.67%, Perda Teste: 0.1542, Acurácia Teste: 94.37%\n"
     ]
    },
    {
     "name": "stderr",
     "output_type": "stream",
     "text": [
      "Época 63/100 [Treino]: 100%|██████████| 320/320 [00:50<00:00,  6.34it/s, acc=93.4, loss=0.116] \n",
      "Época 63/100 [Teste]: 100%|██████████| 40/40 [00:12<00:00,  3.27it/s, acc=95.2, loss=0.167] \n"
     ]
    },
    {
     "name": "stdout",
     "output_type": "stream",
     "text": [
      "Época [63/100], Perda Treino: 0.1587, Acurácia Treino: 93.42%, Perda Teste: 0.1462, Acurácia Teste: 95.15%\n"
     ]
    },
    {
     "name": "stderr",
     "output_type": "stream",
     "text": [
      "Época 64/100 [Treino]: 100%|██████████| 320/320 [00:41<00:00,  7.74it/s, acc=94, loss=0.0353]  \n",
      "Época 64/100 [Teste]: 100%|██████████| 40/40 [00:12<00:00,  3.26it/s, acc=94.7, loss=0.174] \n"
     ]
    },
    {
     "name": "stdout",
     "output_type": "stream",
     "text": [
      "Época [64/100], Perda Treino: 0.1494, Acurácia Treino: 93.96%, Perda Teste: 0.1513, Acurácia Teste: 94.68%\n"
     ]
    },
    {
     "name": "stderr",
     "output_type": "stream",
     "text": [
      "Época 65/100 [Treino]: 100%|██████████| 320/320 [00:42<00:00,  7.49it/s, acc=93.9, loss=0.45]  \n",
      "Época 65/100 [Teste]: 100%|██████████| 40/40 [00:12<00:00,  3.25it/s, acc=94.8, loss=0.0665]\n"
     ]
    },
    {
     "name": "stdout",
     "output_type": "stream",
     "text": [
      "Época [65/100], Perda Treino: 0.1571, Acurácia Treino: 93.94%, Perda Teste: 0.1321, Acurácia Teste: 94.76%\n"
     ]
    },
    {
     "name": "stderr",
     "output_type": "stream",
     "text": [
      "Época 66/100 [Treino]: 100%|██████████| 320/320 [00:43<00:00,  7.42it/s, acc=93.7, loss=0.44]  \n",
      "Época 66/100 [Teste]: 100%|██████████| 40/40 [00:12<00:00,  3.26it/s, acc=94.6, loss=0.155] \n"
     ]
    },
    {
     "name": "stdout",
     "output_type": "stream",
     "text": [
      "Época [66/100], Perda Treino: 0.1594, Acurácia Treino: 93.68%, Perda Teste: 0.1504, Acurácia Teste: 94.61%\n"
     ]
    },
    {
     "name": "stderr",
     "output_type": "stream",
     "text": [
      "Época 67/100 [Treino]: 100%|██████████| 320/320 [00:46<00:00,  6.89it/s, acc=94.1, loss=0.106] \n",
      "Época 67/100 [Teste]: 100%|██████████| 40/40 [00:12<00:00,  3.25it/s, acc=95.8, loss=0.112] \n"
     ]
    },
    {
     "name": "stdout",
     "output_type": "stream",
     "text": [
      "Época [67/100], Perda Treino: 0.1512, Acurácia Treino: 94.05%, Perda Teste: 0.1222, Acurácia Teste: 95.78%\n"
     ]
    },
    {
     "name": "stderr",
     "output_type": "stream",
     "text": [
      "Época 68/100 [Treino]: 100%|██████████| 320/320 [00:43<00:00,  7.39it/s, acc=94, loss=0.0395]  \n",
      "Época 68/100 [Teste]: 100%|██████████| 40/40 [00:11<00:00,  3.42it/s, acc=94.3, loss=0.279] \n"
     ]
    },
    {
     "name": "stdout",
     "output_type": "stream",
     "text": [
      "Época [68/100], Perda Treino: 0.1512, Acurácia Treino: 94.01%, Perda Teste: 0.1528, Acurácia Teste: 94.29%\n"
     ]
    },
    {
     "name": "stderr",
     "output_type": "stream",
     "text": [
      "Época 69/100 [Treino]: 100%|██████████| 320/320 [00:46<00:00,  6.92it/s, acc=94, loss=0.16]    \n",
      "Época 69/100 [Teste]: 100%|██████████| 40/40 [00:14<00:00,  2.85it/s, acc=95.2, loss=0.225] \n"
     ]
    },
    {
     "name": "stdout",
     "output_type": "stream",
     "text": [
      "Época [69/100], Perda Treino: 0.1482, Acurácia Treino: 93.99%, Perda Teste: 0.1420, Acurácia Teste: 95.15%\n"
     ]
    },
    {
     "name": "stderr",
     "output_type": "stream",
     "text": [
      "Época 70/100 [Treino]: 100%|██████████| 320/320 [00:41<00:00,  7.63it/s, acc=94.4, loss=0.337]  \n",
      "Época 70/100 [Teste]: 100%|██████████| 40/40 [00:13<00:00,  2.86it/s, acc=94.2, loss=0.147] \n"
     ]
    },
    {
     "name": "stdout",
     "output_type": "stream",
     "text": [
      "Época [70/100], Perda Treino: 0.1490, Acurácia Treino: 94.42%, Perda Teste: 0.1530, Acurácia Teste: 94.21%\n"
     ]
    },
    {
     "name": "stderr",
     "output_type": "stream",
     "text": [
      "Época 71/100 [Treino]: 100%|██████████| 320/320 [00:41<00:00,  7.65it/s, acc=94.3, loss=0.228] \n",
      "Época 71/100 [Teste]: 100%|██████████| 40/40 [00:13<00:00,  2.91it/s, acc=95.1, loss=0.0464]\n"
     ]
    },
    {
     "name": "stdout",
     "output_type": "stream",
     "text": [
      "Época [71/100], Perda Treino: 0.1455, Acurácia Treino: 94.29%, Perda Teste: 0.1393, Acurácia Teste: 95.07%\n"
     ]
    },
    {
     "name": "stderr",
     "output_type": "stream",
     "text": [
      "Época 72/100 [Treino]: 100%|██████████| 320/320 [00:41<00:00,  7.70it/s, acc=94.5, loss=0.0352] \n",
      "Época 72/100 [Teste]: 100%|██████████| 40/40 [00:13<00:00,  2.88it/s, acc=95.3, loss=0.147]  \n"
     ]
    },
    {
     "name": "stdout",
     "output_type": "stream",
     "text": [
      "Época [72/100], Perda Treino: 0.1413, Acurácia Treino: 94.54%, Perda Teste: 0.1228, Acurácia Teste: 95.31%\n"
     ]
    },
    {
     "name": "stderr",
     "output_type": "stream",
     "text": [
      "Época 73/100 [Treino]: 100%|██████████| 320/320 [00:38<00:00,  8.26it/s, acc=94.4, loss=0.093] \n",
      "Época 73/100 [Teste]: 100%|██████████| 40/40 [00:13<00:00,  2.87it/s, acc=96.4, loss=0.138] \n"
     ]
    },
    {
     "name": "stdout",
     "output_type": "stream",
     "text": [
      "Época [73/100], Perda Treino: 0.1454, Acurácia Treino: 94.44%, Perda Teste: 0.1116, Acurácia Teste: 96.40%\n"
     ]
    },
    {
     "name": "stderr",
     "output_type": "stream",
     "text": [
      "Época 74/100 [Treino]: 100%|██████████| 320/320 [00:42<00:00,  7.57it/s, acc=94.3, loss=0.0937]\n",
      "Época 74/100 [Teste]: 100%|██████████| 40/40 [00:14<00:00,  2.81it/s, acc=96.2, loss=0.13]   \n"
     ]
    },
    {
     "name": "stdout",
     "output_type": "stream",
     "text": [
      "Época [74/100], Perda Treino: 0.1413, Acurácia Treino: 94.28%, Perda Teste: 0.1103, Acurácia Teste: 96.25%\n"
     ]
    },
    {
     "name": "stderr",
     "output_type": "stream",
     "text": [
      "Época 75/100 [Treino]: 100%|██████████| 320/320 [00:41<00:00,  7.64it/s, acc=94.4, loss=0.0348]\n",
      "Época 75/100 [Teste]: 100%|██████████| 40/40 [00:13<00:00,  2.96it/s, acc=94.7, loss=0.291]  \n"
     ]
    },
    {
     "name": "stdout",
     "output_type": "stream",
     "text": [
      "Época [75/100], Perda Treino: 0.1408, Acurácia Treino: 94.42%, Perda Teste: 0.1508, Acurácia Teste: 94.68%\n"
     ]
    },
    {
     "name": "stderr",
     "output_type": "stream",
     "text": [
      "Época 76/100 [Treino]: 100%|██████████| 320/320 [00:40<00:00,  7.85it/s, acc=95.2, loss=0.102] \n",
      "Época 76/100 [Teste]: 100%|██████████| 40/40 [00:14<00:00,  2.84it/s, acc=94, loss=0.319]    \n"
     ]
    },
    {
     "name": "stdout",
     "output_type": "stream",
     "text": [
      "Época [76/100], Perda Treino: 0.1263, Acurácia Treino: 95.20%, Perda Teste: 0.1757, Acurácia Teste: 93.98%\n"
     ]
    },
    {
     "name": "stderr",
     "output_type": "stream",
     "text": [
      "Época 77/100 [Treino]: 100%|██████████| 320/320 [00:40<00:00,  7.93it/s, acc=94.8, loss=0.0923] \n",
      "Época 77/100 [Teste]: 100%|██████████| 40/40 [00:13<00:00,  2.92it/s, acc=95.9, loss=0.311] \n"
     ]
    },
    {
     "name": "stdout",
     "output_type": "stream",
     "text": [
      "Época [77/100], Perda Treino: 0.1349, Acurácia Treino: 94.78%, Perda Teste: 0.1408, Acurácia Teste: 95.86%\n"
     ]
    },
    {
     "name": "stderr",
     "output_type": "stream",
     "text": [
      "Época 78/100 [Treino]: 100%|██████████| 320/320 [00:40<00:00,  7.85it/s, acc=94.6, loss=0.337] \n",
      "Época 78/100 [Teste]: 100%|██████████| 40/40 [00:13<00:00,  2.86it/s, acc=95.9, loss=0.233] \n"
     ]
    },
    {
     "name": "stdout",
     "output_type": "stream",
     "text": [
      "Época [78/100], Perda Treino: 0.1355, Acurácia Treino: 94.65%, Perda Teste: 0.1178, Acurácia Teste: 95.93%\n"
     ]
    },
    {
     "name": "stderr",
     "output_type": "stream",
     "text": [
      "Época 79/100 [Treino]: 100%|██████████| 320/320 [00:39<00:00,  8.11it/s, acc=94.9, loss=0.155] \n",
      "Época 79/100 [Teste]: 100%|██████████| 40/40 [00:14<00:00,  2.85it/s, acc=95.2, loss=0.189] \n"
     ]
    },
    {
     "name": "stdout",
     "output_type": "stream",
     "text": [
      "Época [79/100], Perda Treino: 0.1349, Acurácia Treino: 94.91%, Perda Teste: 0.1339, Acurácia Teste: 95.15%\n"
     ]
    },
    {
     "name": "stderr",
     "output_type": "stream",
     "text": [
      "Época 80/100 [Treino]: 100%|██████████| 320/320 [00:38<00:00,  8.26it/s, acc=95, loss=0.0385]  \n",
      "Época 80/100 [Teste]: 100%|██████████| 40/40 [00:13<00:00,  2.87it/s, acc=95.3, loss=0.317]  \n"
     ]
    },
    {
     "name": "stdout",
     "output_type": "stream",
     "text": [
      "Época [80/100], Perda Treino: 0.1310, Acurácia Treino: 94.98%, Perda Teste: 0.1503, Acurácia Teste: 95.31%\n"
     ]
    },
    {
     "name": "stderr",
     "output_type": "stream",
     "text": [
      "Época 81/100 [Treino]: 100%|██████████| 320/320 [00:39<00:00,  8.18it/s, acc=94.9, loss=0.128]  \n",
      "Época 81/100 [Teste]: 100%|██████████| 40/40 [00:13<00:00,  2.92it/s, acc=94.2, loss=0.115]  \n"
     ]
    },
    {
     "name": "stdout",
     "output_type": "stream",
     "text": [
      "Época [81/100], Perda Treino: 0.1350, Acurácia Treino: 94.90%, Perda Teste: 0.1378, Acurácia Teste: 94.21%\n"
     ]
    },
    {
     "name": "stderr",
     "output_type": "stream",
     "text": [
      "Época 82/100 [Treino]: 100%|██████████| 320/320 [00:39<00:00,  8.10it/s, acc=95.2, loss=0.134]  \n",
      "Época 82/100 [Teste]: 100%|██████████| 40/40 [00:14<00:00,  2.85it/s, acc=95.9, loss=0.162]  \n"
     ]
    },
    {
     "name": "stdout",
     "output_type": "stream",
     "text": [
      "Época [82/100], Perda Treino: 0.1239, Acurácia Treino: 95.18%, Perda Teste: 0.1343, Acurácia Teste: 95.86%\n"
     ]
    },
    {
     "name": "stderr",
     "output_type": "stream",
     "text": [
      "Época 83/100 [Treino]: 100%|██████████| 320/320 [00:39<00:00,  8.13it/s, acc=95.1, loss=0.0533] \n",
      "Época 83/100 [Teste]: 100%|██████████| 40/40 [00:11<00:00,  3.48it/s, acc=94.8, loss=0.125]  \n"
     ]
    },
    {
     "name": "stdout",
     "output_type": "stream",
     "text": [
      "Época [83/100], Perda Treino: 0.1307, Acurácia Treino: 95.13%, Perda Teste: 0.1655, Acurácia Teste: 94.84%\n"
     ]
    },
    {
     "name": "stderr",
     "output_type": "stream",
     "text": [
      "Época 84/100 [Treino]: 100%|██████████| 320/320 [00:39<00:00,  8.07it/s, acc=95.4, loss=0.101]  \n",
      "Época 84/100 [Teste]: 100%|██████████| 40/40 [00:11<00:00,  3.47it/s, acc=96.6, loss=0.0818] \n"
     ]
    },
    {
     "name": "stdout",
     "output_type": "stream",
     "text": [
      "Época [84/100], Perda Treino: 0.1248, Acurácia Treino: 95.41%, Perda Teste: 0.1101, Acurácia Teste: 96.56%\n"
     ]
    },
    {
     "name": "stderr",
     "output_type": "stream",
     "text": [
      "Época 85/100 [Treino]: 100%|██████████| 320/320 [00:39<00:00,  8.11it/s, acc=95.4, loss=0.0662]\n",
      "Época 85/100 [Teste]: 100%|██████████| 40/40 [00:11<00:00,  3.40it/s, acc=95.7, loss=0.17]   \n"
     ]
    },
    {
     "name": "stdout",
     "output_type": "stream",
     "text": [
      "Época [85/100], Perda Treino: 0.1230, Acurácia Treino: 95.36%, Perda Teste: 0.1040, Acurácia Teste: 95.70%\n"
     ]
    },
    {
     "name": "stderr",
     "output_type": "stream",
     "text": [
      "Época 86/100 [Treino]: 100%|██████████| 320/320 [00:38<00:00,  8.39it/s, acc=94.9, loss=0.112]  \n",
      "Época 86/100 [Teste]: 100%|██████████| 40/40 [00:14<00:00,  2.82it/s, acc=95.4, loss=0.0993] \n"
     ]
    },
    {
     "name": "stdout",
     "output_type": "stream",
     "text": [
      "Época [86/100], Perda Treino: 0.1301, Acurácia Treino: 94.85%, Perda Teste: 0.1117, Acurácia Teste: 95.39%\n"
     ]
    },
    {
     "name": "stderr",
     "output_type": "stream",
     "text": [
      "Época 87/100 [Treino]: 100%|██████████| 320/320 [00:33<00:00,  9.61it/s, acc=95, loss=0.104]   \n",
      "Época 87/100 [Teste]: 100%|██████████| 40/40 [00:10<00:00,  3.84it/s, acc=96.9, loss=0.144] \n"
     ]
    },
    {
     "name": "stdout",
     "output_type": "stream",
     "text": [
      "Época [87/100], Perda Treino: 0.1273, Acurácia Treino: 95.04%, Perda Teste: 0.1005, Acurácia Teste: 96.87%\n"
     ]
    },
    {
     "name": "stderr",
     "output_type": "stream",
     "text": [
      "Época 88/100 [Treino]: 100%|██████████| 320/320 [00:29<00:00, 10.73it/s, acc=95.3, loss=0.456]  \n",
      "Época 88/100 [Teste]: 100%|██████████| 40/40 [00:10<00:00,  3.83it/s, acc=93.7, loss=0.107] \n"
     ]
    },
    {
     "name": "stdout",
     "output_type": "stream",
     "text": [
      "Época [88/100], Perda Treino: 0.1196, Acurácia Treino: 95.28%, Perda Teste: 0.1842, Acurácia Teste: 93.75%\n"
     ]
    },
    {
     "name": "stderr",
     "output_type": "stream",
     "text": [
      "Época 89/100 [Treino]: 100%|██████████| 320/320 [00:29<00:00, 10.95it/s, acc=95.3, loss=0.205]  \n",
      "Época 89/100 [Teste]: 100%|██████████| 40/40 [00:10<00:00,  3.87it/s, acc=96.2, loss=0.217] \n"
     ]
    },
    {
     "name": "stdout",
     "output_type": "stream",
     "text": [
      "Época [89/100], Perda Treino: 0.1203, Acurácia Treino: 95.32%, Perda Teste: 0.1062, Acurácia Teste: 96.17%\n"
     ]
    },
    {
     "name": "stderr",
     "output_type": "stream",
     "text": [
      "Época 90/100 [Treino]: 100%|██████████| 320/320 [00:29<00:00, 11.01it/s, acc=95.3, loss=0.0797]\n",
      "Época 90/100 [Teste]: 100%|██████████| 40/40 [00:10<00:00,  3.90it/s, acc=95.9, loss=0.0797] \n"
     ]
    },
    {
     "name": "stdout",
     "output_type": "stream",
     "text": [
      "Época [90/100], Perda Treino: 0.1195, Acurácia Treino: 95.34%, Perda Teste: 0.1067, Acurácia Teste: 95.86%\n"
     ]
    },
    {
     "name": "stderr",
     "output_type": "stream",
     "text": [
      "Época 91/100 [Treino]: 100%|██████████| 320/320 [00:29<00:00, 10.95it/s, acc=95.7, loss=0.0659] \n",
      "Época 91/100 [Teste]: 100%|██████████| 40/40 [00:10<00:00,  3.77it/s, acc=96.6, loss=0.0445] \n"
     ]
    },
    {
     "name": "stdout",
     "output_type": "stream",
     "text": [
      "Época [91/100], Perda Treino: 0.1158, Acurácia Treino: 95.70%, Perda Teste: 0.0885, Acurácia Teste: 96.64%\n"
     ]
    },
    {
     "name": "stderr",
     "output_type": "stream",
     "text": [
      "Época 92/100 [Treino]: 100%|██████████| 320/320 [00:29<00:00, 10.90it/s, acc=95.2, loss=0.0402] \n",
      "Época 92/100 [Teste]: 100%|██████████| 40/40 [00:10<00:00,  3.99it/s, acc=97.2, loss=0.0565]\n"
     ]
    },
    {
     "name": "stdout",
     "output_type": "stream",
     "text": [
      "Época [92/100], Perda Treino: 0.1236, Acurácia Treino: 95.23%, Perda Teste: 0.0843, Acurácia Teste: 97.19%\n"
     ]
    },
    {
     "name": "stderr",
     "output_type": "stream",
     "text": [
      "Época 93/100 [Treino]: 100%|██████████| 320/320 [00:29<00:00, 10.96it/s, acc=95.3, loss=0.0459] \n",
      "Época 93/100 [Teste]: 100%|██████████| 40/40 [00:10<00:00,  3.87it/s, acc=96.1, loss=0.0997] \n"
     ]
    },
    {
     "name": "stdout",
     "output_type": "stream",
     "text": [
      "Época [93/100], Perda Treino: 0.1243, Acurácia Treino: 95.31%, Perda Teste: 0.1091, Acurácia Teste: 96.09%\n"
     ]
    },
    {
     "name": "stderr",
     "output_type": "stream",
     "text": [
      "Época 94/100 [Treino]: 100%|██████████| 320/320 [00:28<00:00, 11.12it/s, acc=95.7, loss=0.0584]\n",
      "Época 94/100 [Teste]: 100%|██████████| 40/40 [00:10<00:00,  3.92it/s, acc=97.1, loss=0.188] \n"
     ]
    },
    {
     "name": "stdout",
     "output_type": "stream",
     "text": [
      "Época [94/100], Perda Treino: 0.1185, Acurácia Treino: 95.65%, Perda Teste: 0.0952, Acurácia Teste: 97.11%\n"
     ]
    },
    {
     "name": "stderr",
     "output_type": "stream",
     "text": [
      "Época 95/100 [Treino]: 100%|██████████| 320/320 [00:29<00:00, 11.01it/s, acc=95.4, loss=0.252]  \n",
      "Época 95/100 [Teste]: 100%|██████████| 40/40 [00:10<00:00,  3.88it/s, acc=95.6, loss=0.0403] \n"
     ]
    },
    {
     "name": "stdout",
     "output_type": "stream",
     "text": [
      "Época [95/100], Perda Treino: 0.1225, Acurácia Treino: 95.38%, Perda Teste: 0.0961, Acurácia Teste: 95.62%\n"
     ]
    },
    {
     "name": "stderr",
     "output_type": "stream",
     "text": [
      "Época 96/100 [Treino]: 100%|██████████| 320/320 [00:28<00:00, 11.06it/s, acc=95.8, loss=0.0926] \n",
      "Época 96/100 [Teste]: 100%|██████████| 40/40 [00:10<00:00,  3.92it/s, acc=97, loss=0.0835]  \n"
     ]
    },
    {
     "name": "stdout",
     "output_type": "stream",
     "text": [
      "Época [96/100], Perda Treino: 0.1155, Acurácia Treino: 95.84%, Perda Teste: 0.0889, Acurácia Teste: 97.03%\n"
     ]
    },
    {
     "name": "stderr",
     "output_type": "stream",
     "text": [
      "Época 97/100 [Treino]: 100%|██████████| 320/320 [00:29<00:00, 10.96it/s, acc=95.8, loss=0.0708] \n",
      "Época 97/100 [Teste]: 100%|██████████| 40/40 [00:10<00:00,  3.91it/s, acc=97.3, loss=0.077]  \n"
     ]
    },
    {
     "name": "stdout",
     "output_type": "stream",
     "text": [
      "Época [97/100], Perda Treino: 0.1070, Acurácia Treino: 95.79%, Perda Teste: 0.0862, Acurácia Teste: 97.34%\n"
     ]
    },
    {
     "name": "stderr",
     "output_type": "stream",
     "text": [
      "Época 98/100 [Treino]: 100%|██████████| 320/320 [00:28<00:00, 11.06it/s, acc=96, loss=0.397]   \n",
      "Época 98/100 [Teste]: 100%|██████████| 40/40 [00:10<00:00,  3.84it/s, acc=96.4, loss=0.196]  \n"
     ]
    },
    {
     "name": "stdout",
     "output_type": "stream",
     "text": [
      "Época [98/100], Perda Treino: 0.1081, Acurácia Treino: 96.04%, Perda Teste: 0.1065, Acurácia Teste: 96.40%\n"
     ]
    },
    {
     "name": "stderr",
     "output_type": "stream",
     "text": [
      "Época 99/100 [Treino]: 100%|██████████| 320/320 [00:28<00:00, 11.06it/s, acc=95.5, loss=0.147]  \n",
      "Época 99/100 [Teste]: 100%|██████████| 40/40 [00:10<00:00,  3.91it/s, acc=96.4, loss=0.0138]\n"
     ]
    },
    {
     "name": "stdout",
     "output_type": "stream",
     "text": [
      "Época [99/100], Perda Treino: 0.1210, Acurácia Treino: 95.54%, Perda Teste: 0.1081, Acurácia Teste: 96.40%\n"
     ]
    },
    {
     "name": "stderr",
     "output_type": "stream",
     "text": [
      "Época 100/100 [Treino]: 100%|██████████| 320/320 [00:28<00:00, 11.11it/s, acc=95.6, loss=0.0591] \n",
      "Época 100/100 [Teste]: 100%|██████████| 40/40 [00:10<00:00,  3.95it/s, acc=97.3, loss=0.0419]"
     ]
    },
    {
     "name": "stdout",
     "output_type": "stream",
     "text": [
      "Época [100/100], Perda Treino: 0.1164, Acurácia Treino: 95.63%, Perda Teste: 0.0738, Acurácia Teste: 97.26%\n"
     ]
    },
    {
     "name": "stderr",
     "output_type": "stream",
     "text": [
      "\n"
     ]
    }
   ],
   "source": [
    "# Inicializa o modelo\n",
    "model = AlzheimerCNN(num_classes=4)\n",
    "\n",
    "# Função de perda e otimizador\n",
    "criterion = nn.CrossEntropyLoss()\n",
    "optimizer = optim.Adam(model.parameters(), lr=0.001)\n",
    "\n",
    "# Treina o modelo\n",
    "train_losses, train_accuracies, test_losses, test_accuracies = train_model(\n",
    "    model, train_loader, test_loader, criterion, optimizer, num_epochs=100\n",
    ")"
   ]
  },
  {
   "cell_type": "markdown",
   "metadata": {},
   "source": [
    "## Visualização dos Resultados do Treinamento"
   ]
  },
  {
   "cell_type": "code",
   "execution_count": 6,
   "metadata": {},
   "outputs": [
    {
     "data": {
      "image/png": "[encoded data removed]",
      "text/plain": [
       "<Figure size 1200x400 with 2 Axes>"
      ]
     },
     "metadata": {},
     "output_type": "display_data"
    }
   ],
   "source": [
    "plt.figure(figsize=(12, 4))\n",
    "\n",
    "plt.subplot(1, 2, 1)\n",
    "plt.plot(train_losses, label='Perda Treino')\n",
    "plt.plot(test_losses, label='Perda Teste')\n",
    "plt.title('Perda por Época')\n",
    "plt.xlabel('Época')\n",
    "plt.ylabel('Perda')\n",
    "plt.legend()\n",
    "\n",
    "plt.subplot(1, 2, 2)\n",
    "plt.plot(train_accuracies, label='Acurácia Treino')\n",
    "plt.plot(test_accuracies, label='Acurácia Teste')\n",
    "plt.title('Acurácia por Época')\n",
    "plt.xlabel('Época')\n",
    "plt.ylabel('Acurácia (%)')\n",
    "plt.legend()\n",
    "\n",
    "plt.tight_layout()\n",
    "plt.show()"
   ]
  },
  {
   "cell_type": "markdown",
   "metadata": {},
   "source": [
    "## Avaliação do Modelo\n",
    "\n",
    "Avaliação detalhada do desempenho do modelo."
   ]
  },
  {
   "cell_type": "code",
   "execution_count": null,
   "metadata": {},
   "outputs": [
    {
     "name": "stderr",
     "output_type": "stream",
     "text": [
      "C:\\Users\\Lucas\\AppData\\Local\\Temp\\ipykernel_13104\\1472819914.py:36: FutureWarning: You are using `torch.load` with `weights_only=False` (the current default value), which uses the default pickle module implicitly. It is possible to construct malicious pickle data which will execute arbitrary code during unpickling (See https://github.com/pytorch/pytorch/blob/main/SECURITY.md#untrusted-models for more details). In a future release, the default value for `weights_only` will be flipped to `True`. This limits the functions that could be executed during unpickling. Arbitrary objects will no longer be allowed to be loaded via this mode unless they are explicitly allowlisted by the user via `torch.serialization.add_safe_globals`. We recommend you start setting `weights_only=True` for any use case where you don't have full control of the loaded file. Please open an issue on GitHub for any issues related to this experimental feature.\n",
      "  model.load_state_dict(torch.load('best_model_resolution_invariant.pth'))\n",
      "Evaluating: 100%|██████████| 40/40 [00:10<00:00,  3.99it/s]"
     ]
    },
    {
     "name": "stdout",
     "output_type": "stream",
     "text": [
      "                      precision    recall  f1-score   support\n",
      "\n",
      "     Mild Impairment       0.99      0.97      0.98       179\n",
      " Moderate Impairment       1.00      1.00      1.00        12\n",
      "       No Impairment       0.98      0.98      0.98       640\n",
      "Very Mild Impairment       0.96      0.97      0.96       448\n",
      "\n",
      "            accuracy                           0.97      1279\n",
      "           macro avg       0.98      0.98      0.98      1279\n",
      "        weighted avg       0.97      0.97      0.97      1279\n",
      "\n",
      "Confusion Matrix:\n"
     ]
    },
    {
     "name": "stderr",
     "output_type": "stream",
     "text": [
      "\n"
     ]
    },
    {
     "data": {
      "image/png": "[encoded data removed]",
      "text/plain": [
       "<Figure size 800x600 with 2 Axes>"
      ]
     },
     "metadata": {},
     "output_type": "display_data"
    }
   ],
   "source": [
    "def evaluate_model(model, test_loader):\n",
    "    device = torch.device(\"cuda\" if torch.cuda.is_available() else \"cpu\")\n",
    "    model = model.to(device)\n",
    "    model.eval()\n",
    "    \n",
    "    all_preds = []\n",
    "    all_labels = []\n",
    "    \n",
    "    with torch.no_grad():\n",
    "        for images, labels in tqdm(test_loader, desc='Evaluating'):\n",
    "            images, labels = images.to(device), labels.to(device)\n",
    "            outputs = model(images)\n",
    "            _, predicted = torch.max(outputs, 1)\n",
    "            \n",
    "            all_preds.extend(predicted.cpu().numpy())\n",
    "            all_labels.extend(labels.cpu().numpy())\n",
    "    \n",
    "    # Print classification report\n",
    "    print(classification_report(all_labels, all_preds, target_names=class_to_idx.keys()))\n",
    "    \n",
    "    # Print confusion matrix\n",
    "    print(\"Confusion Matrix:\")\n",
    "    le = LabelEncoder()\n",
    "    le.fit_transform(all_labels)\n",
    "    cm = confusion_matrix(all_labels, all_preds)\n",
    "    plt.figure(figsize=(8, 6))\n",
    "    sns.heatmap(cm, annot=True, fmt='d', cmap='Blues', xticklabels=le.classes_, yticklabels=le.classes_)\n",
    "    plt.title('Matriz de Confusão')\n",
    "    plt.xlabel('Predito')\n",
    "    plt.ylabel('Verdadeiro')\n",
    "    plt.show()\n",
    "    \n",
    "    return all_preds, all_labels\n",
    "\n",
    "# Load best model\n",
    "model.load_state_dict(torch.load('models/best_model_resolution_invariant.pth'))\n",
    "\n",
    "# Evaluate\n",
    "predictions, true_labels = evaluate_model(model, test_loader)"
   ]
  }
 ],
 "metadata": {
  "kernelspec": {
   "display_name": "Python 3",
   "language": "python",
   "name": "python3"
  },
  "language_info": {
   "codemirror_mode": {
    "name": "ipython",
    "version": 3
   },
   "file_extension": ".py",
   "mimetype": "text/x-python",
   "name": "python",
   "nbconvert_exporter": "python",
   "pygments_lexer": "ipython3",
   "version": "3.10.6"
  }
 },
 "nbformat": 4,
 "nbformat_minor": 4
}
